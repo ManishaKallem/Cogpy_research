{
  "metadata": {
    "kernelspec": {
      "language": "python",
      "display_name": "Python 3",
      "name": "python3"
    },
    "language_info": {
      "name": "python",
      "version": "3.7.10",
      "mimetype": "text/x-python",
      "codemirror_mode": {
        "name": "ipython",
        "version": 3
      },
      "pygments_lexer": "ipython3",
      "nbconvert_exporter": "python",
      "file_extension": ".py"
    },
    "colab": {
      "provenance": []
    }
  },
  "nbformat_minor": 0,
  "nbformat": 4,
  "cells": [
    {
      "cell_type": "markdown",
      "source": [
        "Import basic libraries."
      ],
      "metadata": {
        "id": "ULOWEMyG8XrM",
        "editable": false
      }
    },
    {
      "cell_type": "code",
      "source": [
        "import re # regex\n",
        "import pandas as pd # tables\n",
        "import matplotlib.pyplot as plt # plots\n",
        "import seaborn as sns # plots\n",
        "import numpy as np # operations with arrays and matrices "
      ],
      "metadata": {
        "id": "CDMdxJMuxD9I",
        "editable": false,
        "execution": {
          "iopub.status.busy": "2021-06-02T20:02:54.971507Z",
          "iopub.execute_input": "2021-06-02T20:02:54.971895Z",
          "iopub.status.idle": "2021-06-02T20:02:55.607018Z",
          "shell.execute_reply.started": "2021-06-02T20:02:54.971815Z",
          "shell.execute_reply": "2021-06-02T20:02:55.606161Z"
        },
        "trusted": true
      },
      "execution_count": null,
      "outputs": []
    },
    {
      "cell_type": "markdown",
      "source": [
        "## Load & explore data"
      ],
      "metadata": {
        "id": "n7ATgcC51v9G",
        "editable": false
      }
    },
    {
      "cell_type": "code",
      "source": [
        "from google.colab import drive\n",
        "drive.mount('/content/drive/')"
      ],
      "metadata": {
        "colab": {
          "base_uri": "https://localhost:8080/"
        },
        "id": "hFkc4LTabeiE",
        "outputId": "df5b6c23-e08a-4c92-ecde-926993994fae"
      },
      "execution_count": null,
      "outputs": [
        {
          "output_type": "stream",
          "name": "stdout",
          "text": [
            "Drive already mounted at /content/drive/; to attempt to forcibly remount, call drive.mount(\"/content/drive/\", force_remount=True).\n"
          ]
        }
      ]
    },
    {
      "cell_type": "code",
      "source": [
        "# reading the dataset \n",
        "train = pd.read_csv('/content/drive/MyDrive/Dataset/train.txt', header=None, sep=';', names=['Lines','Emotions'], encoding='utf-8')\n",
        "test = pd.read_csv('/content/drive/MyDrive/Dataset/test.txt', header=None, sep =';', names=['Lines','Emotions'], encoding='utf-8')\n",
        "validation = pd.read_csv('/content/drive/MyDrive/Dataset/val.txt', header=None, sep=';', names=['Lines','Emotions'], encoding='utf-8')"
      ],
      "metadata": {
        "execution": {
          "iopub.status.busy": "2021-06-02T20:02:57.653970Z",
          "iopub.execute_input": "2021-06-02T20:02:57.654298Z",
          "iopub.status.idle": "2021-06-02T20:02:57.745612Z",
          "shell.execute_reply.started": "2021-06-02T20:02:57.654266Z",
          "shell.execute_reply": "2021-06-02T20:02:57.744813Z"
        },
        "trusted": true,
        "id": "8HeiWz2mbLlN"
      },
      "execution_count": null,
      "outputs": []
    },
    {
      "cell_type": "code",
      "source": [
        "# adding a column with encoded emotions\n",
        "emotions_to_labels = {'anger': 0, 'love': 1, 'fear': 2, 'joy': 3, 'sadness': 4,'surprise': 5}\n",
        "labels_to_emotions = {j:i for i,j in emotions_to_labels.items()}\n",
        "\n",
        "train['Labels'] = train['Emotions'].replace(emotions_to_labels)\n",
        "test['Labels'] = test['Emotions'].replace(emotions_to_labels)\n",
        "validation['Labels'] = validation['Emotions'].replace(emotions_to_labels)"
      ],
      "metadata": {
        "id": "ilWt9MVdwQxZ",
        "editable": false,
        "execution": {
          "iopub.status.busy": "2021-06-02T20:03:00.123002Z",
          "iopub.execute_input": "2021-06-02T20:03:00.123323Z",
          "iopub.status.idle": "2021-06-02T20:03:00.156789Z",
          "shell.execute_reply.started": "2021-06-02T20:03:00.123294Z",
          "shell.execute_reply": "2021-06-02T20:03:00.155999Z"
        },
        "trusted": true
      },
      "execution_count": null,
      "outputs": []
    },
    {
      "cell_type": "code",
      "source": [
        "train.head()"
      ],
      "metadata": {
        "id": "9jHAWAUBwUmE",
        "outputId": "3869ba7c-e782-4bf8-856e-7142609b6488",
        "editable": false,
        "execution": {
          "iopub.status.busy": "2021-06-02T20:03:02.348523Z",
          "iopub.execute_input": "2021-06-02T20:03:02.348837Z",
          "iopub.status.idle": "2021-06-02T20:03:02.367323Z",
          "shell.execute_reply.started": "2021-06-02T20:03:02.348809Z",
          "shell.execute_reply": "2021-06-02T20:03:02.366539Z"
        },
        "trusted": true,
        "colab": {
          "base_uri": "https://localhost:8080/",
          "height": 206
        }
      },
      "execution_count": null,
      "outputs": [
        {
          "output_type": "execute_result",
          "data": {
            "text/plain": [
              "                                               Lines Emotions  Labels\n",
              "0                            i didnt feel humiliated  sadness       4\n",
              "1  i can go from feeling so hopeless to so damned...  sadness       4\n",
              "2   im grabbing a minute to post i feel greedy wrong    anger       0\n",
              "3  i am ever feeling nostalgic about the fireplac...     love       1\n",
              "4                               i am feeling grouchy    anger       0"
            ],
            "text/html": [
              "\n",
              "  <div id=\"df-7ca56b13-060f-4e4f-b6d1-3863039b5185\">\n",
              "    <div class=\"colab-df-container\">\n",
              "      <div>\n",
              "<style scoped>\n",
              "    .dataframe tbody tr th:only-of-type {\n",
              "        vertical-align: middle;\n",
              "    }\n",
              "\n",
              "    .dataframe tbody tr th {\n",
              "        vertical-align: top;\n",
              "    }\n",
              "\n",
              "    .dataframe thead th {\n",
              "        text-align: right;\n",
              "    }\n",
              "</style>\n",
              "<table border=\"1\" class=\"dataframe\">\n",
              "  <thead>\n",
              "    <tr style=\"text-align: right;\">\n",
              "      <th></th>\n",
              "      <th>Lines</th>\n",
              "      <th>Emotions</th>\n",
              "      <th>Labels</th>\n",
              "    </tr>\n",
              "  </thead>\n",
              "  <tbody>\n",
              "    <tr>\n",
              "      <th>0</th>\n",
              "      <td>i didnt feel humiliated</td>\n",
              "      <td>sadness</td>\n",
              "      <td>4</td>\n",
              "    </tr>\n",
              "    <tr>\n",
              "      <th>1</th>\n",
              "      <td>i can go from feeling so hopeless to so damned...</td>\n",
              "      <td>sadness</td>\n",
              "      <td>4</td>\n",
              "    </tr>\n",
              "    <tr>\n",
              "      <th>2</th>\n",
              "      <td>im grabbing a minute to post i feel greedy wrong</td>\n",
              "      <td>anger</td>\n",
              "      <td>0</td>\n",
              "    </tr>\n",
              "    <tr>\n",
              "      <th>3</th>\n",
              "      <td>i am ever feeling nostalgic about the fireplac...</td>\n",
              "      <td>love</td>\n",
              "      <td>1</td>\n",
              "    </tr>\n",
              "    <tr>\n",
              "      <th>4</th>\n",
              "      <td>i am feeling grouchy</td>\n",
              "      <td>anger</td>\n",
              "      <td>0</td>\n",
              "    </tr>\n",
              "  </tbody>\n",
              "</table>\n",
              "</div>\n",
              "      <button class=\"colab-df-convert\" onclick=\"convertToInteractive('df-7ca56b13-060f-4e4f-b6d1-3863039b5185')\"\n",
              "              title=\"Convert this dataframe to an interactive table.\"\n",
              "              style=\"display:none;\">\n",
              "        \n",
              "  <svg xmlns=\"http://www.w3.org/2000/svg\" height=\"24px\"viewBox=\"0 0 24 24\"\n",
              "       width=\"24px\">\n",
              "    <path d=\"M0 0h24v24H0V0z\" fill=\"none\"/>\n",
              "    <path d=\"M18.56 5.44l.94 2.06.94-2.06 2.06-.94-2.06-.94-.94-2.06-.94 2.06-2.06.94zm-11 1L8.5 8.5l.94-2.06 2.06-.94-2.06-.94L8.5 2.5l-.94 2.06-2.06.94zm10 10l.94 2.06.94-2.06 2.06-.94-2.06-.94-.94-2.06-.94 2.06-2.06.94z\"/><path d=\"M17.41 7.96l-1.37-1.37c-.4-.4-.92-.59-1.43-.59-.52 0-1.04.2-1.43.59L10.3 9.45l-7.72 7.72c-.78.78-.78 2.05 0 2.83L4 21.41c.39.39.9.59 1.41.59.51 0 1.02-.2 1.41-.59l7.78-7.78 2.81-2.81c.8-.78.8-2.07 0-2.86zM5.41 20L4 18.59l7.72-7.72 1.47 1.35L5.41 20z\"/>\n",
              "  </svg>\n",
              "      </button>\n",
              "      \n",
              "  <style>\n",
              "    .colab-df-container {\n",
              "      display:flex;\n",
              "      flex-wrap:wrap;\n",
              "      gap: 12px;\n",
              "    }\n",
              "\n",
              "    .colab-df-convert {\n",
              "      background-color: #E8F0FE;\n",
              "      border: none;\n",
              "      border-radius: 50%;\n",
              "      cursor: pointer;\n",
              "      display: none;\n",
              "      fill: #1967D2;\n",
              "      height: 32px;\n",
              "      padding: 0 0 0 0;\n",
              "      width: 32px;\n",
              "    }\n",
              "\n",
              "    .colab-df-convert:hover {\n",
              "      background-color: #E2EBFA;\n",
              "      box-shadow: 0px 1px 2px rgba(60, 64, 67, 0.3), 0px 1px 3px 1px rgba(60, 64, 67, 0.15);\n",
              "      fill: #174EA6;\n",
              "    }\n",
              "\n",
              "    [theme=dark] .colab-df-convert {\n",
              "      background-color: #3B4455;\n",
              "      fill: #D2E3FC;\n",
              "    }\n",
              "\n",
              "    [theme=dark] .colab-df-convert:hover {\n",
              "      background-color: #434B5C;\n",
              "      box-shadow: 0px 1px 3px 1px rgba(0, 0, 0, 0.15);\n",
              "      filter: drop-shadow(0px 1px 2px rgba(0, 0, 0, 0.3));\n",
              "      fill: #FFFFFF;\n",
              "    }\n",
              "  </style>\n",
              "\n",
              "      <script>\n",
              "        const buttonEl =\n",
              "          document.querySelector('#df-7ca56b13-060f-4e4f-b6d1-3863039b5185 button.colab-df-convert');\n",
              "        buttonEl.style.display =\n",
              "          google.colab.kernel.accessAllowed ? 'block' : 'none';\n",
              "\n",
              "        async function convertToInteractive(key) {\n",
              "          const element = document.querySelector('#df-7ca56b13-060f-4e4f-b6d1-3863039b5185');\n",
              "          const dataTable =\n",
              "            await google.colab.kernel.invokeFunction('convertToInteractive',\n",
              "                                                     [key], {});\n",
              "          if (!dataTable) return;\n",
              "\n",
              "          const docLinkHtml = 'Like what you see? Visit the ' +\n",
              "            '<a target=\"_blank\" href=https://colab.research.google.com/notebooks/data_table.ipynb>data table notebook</a>'\n",
              "            + ' to learn more about interactive tables.';\n",
              "          element.innerHTML = '';\n",
              "          dataTable['output_type'] = 'display_data';\n",
              "          await google.colab.output.renderOutput(dataTable, element);\n",
              "          const docLink = document.createElement('div');\n",
              "          docLink.innerHTML = docLinkHtml;\n",
              "          element.appendChild(docLink);\n",
              "        }\n",
              "      </script>\n",
              "    </div>\n",
              "  </div>\n",
              "  "
            ]
          },
          "metadata": {},
          "execution_count": 5
        }
      ]
    },
    {
      "cell_type": "markdown",
      "source": [
        "Bar chart of the distribution of records among categories:"
      ],
      "metadata": {
        "id": "GtudD4tm63g4",
        "editable": false
      }
    },
    {
      "cell_type": "code",
      "source": [
        "def visualize_labels_distribution(df, title='the'):\n",
        "  '''\n",
        "  Accepts a dataframe with 'Emotions' column and dataset title (e.g. 'train')\n",
        "  Creates bar chart with num of elements of each category\n",
        "  Returns nothing\n",
        "\n",
        "  '''\n",
        "  # create a pandas series with labels and their counts\n",
        "  num_labels = df['Emotions'].value_counts()\n",
        "\n",
        "  # num of unique categories\n",
        "  x_barchart = range(df['Emotions'].nunique())\n",
        "  # list of labels\n",
        "  x_barchart_labels = [str(emotions_to_labels[emotion]) +\\\n",
        "                       ' - ' + emotion for emotion in list(num_labels.index)]\n",
        "\n",
        "  # list of counts\n",
        "  y_barchart = list(num_labels.values)\n",
        "\n",
        "  # creating bar chart\n",
        "  plt.figure(figsize = (5, 4))\n",
        "  plt.bar(x_barchart, y_barchart, color='#707bfb')\n",
        "\n",
        "  # adding num of elements for each category on plot as text\n",
        "  for index, data in enumerate(y_barchart):\n",
        "    plt.text(x = index, \n",
        "            y = data+max(y_barchart)/100, \n",
        "            s = '{}'.format(data), \n",
        "            fontdict = dict(fontsize=10), \n",
        "            ha = 'center',)\n",
        "  \n",
        "  plt.xticks(x_barchart, x_barchart_labels, rotation=40)\n",
        "  plt.title('Num of elements of each category for {} dataset'.format(title))\n",
        "  plt.tight_layout()\n",
        "\n",
        "  print('There are {} records in the dataset.\\n'.format(len(df.index)))\n",
        "\n",
        "  plt.show()"
      ],
      "metadata": {
        "id": "2NcOp-5Lwbjm",
        "editable": false,
        "execution": {
          "iopub.status.busy": "2021-06-02T20:03:05.812795Z",
          "iopub.execute_input": "2021-06-02T20:03:05.813140Z",
          "iopub.status.idle": "2021-06-02T20:03:05.821403Z",
          "shell.execute_reply.started": "2021-06-02T20:03:05.813110Z",
          "shell.execute_reply": "2021-06-02T20:03:05.820566Z"
        },
        "trusted": true
      },
      "execution_count": null,
      "outputs": []
    },
    {
      "cell_type": "code",
      "source": [
        "visualize_labels_distribution(train, 'train')\n",
        "visualize_labels_distribution(test, 'test')\n",
        "visualize_labels_distribution(validation, 'val')"
      ],
      "metadata": {
        "id": "CNFYqPdpwe5Q",
        "outputId": "b11f0282-aa34-4d69-be17-2a0b013d6859",
        "editable": false,
        "execution": {
          "iopub.status.busy": "2021-06-02T20:03:08.411630Z",
          "iopub.execute_input": "2021-06-02T20:03:08.411938Z",
          "iopub.status.idle": "2021-06-02T20:03:09.031663Z",
          "shell.execute_reply.started": "2021-06-02T20:03:08.411911Z",
          "shell.execute_reply": "2021-06-02T20:03:09.030849Z"
        },
        "trusted": true,
        "colab": {
          "base_uri": "https://localhost:8080/",
          "height": 961
        }
      },
      "execution_count": null,
      "outputs": [
        {
          "output_type": "stream",
          "name": "stdout",
          "text": [
            "There are 16000 records in the dataset.\n",
            "\n"
          ]
        },
        {
          "output_type": "display_data",
          "data": {
            "text/plain": [
              "<Figure size 360x288 with 1 Axes>"
            ],
            "image/png": "[encoded data removed]"
          },
          "metadata": {
            "needs_background": "light"
          }
        },
        {
          "output_type": "stream",
          "name": "stdout",
          "text": [
            "There are 2000 records in the dataset.\n",
            "\n"
          ]
        },
        {
          "output_type": "display_data",
          "data": {
            "text/plain": [
              "<Figure size 360x288 with 1 Axes>"
            ],
            "image/png": "[encoded data removed]"
          },
          "metadata": {
            "needs_background": "light"
          }
        },
        {
          "output_type": "stream",
          "name": "stdout",
          "text": [
            "There are 2000 records in the dataset.\n",
            "\n"
          ]
        },
        {
          "output_type": "display_data",
          "data": {
            "text/plain": [
              "<Figure size 360x288 with 1 Axes>"
            ],
            "image/png": "[encoded data removed]"
          },
          "metadata": {
            "needs_background": "light"
          }
        }
      ]
    },
    {
      "cell_type": "markdown",
      "source": [
        "## Text preprocessing"
      ],
      "metadata": {
        "id": "es4iuzXq2Ygq",
        "editable": false
      }
    },
    {
      "cell_type": "code",
      "source": [
        "import nltk \n",
        "nltk.download('punkt')\n",
        "nltk.download('stopwords')\n",
        "from nltk.corpus import stopwords\n",
        "\n",
        "# downloading a set of stop-words\n",
        "STOPWORDS = set(stopwords.words('english'))\n",
        "\n",
        "# tokenizer\n",
        "from nltk.tokenize import word_tokenize"
      ],
      "metadata": {
        "id": "I_RTdS100_wr",
        "outputId": "11a3fcdf-c691-4921-f016-ae2f0cdf42d5",
        "editable": false,
        "execution": {
          "iopub.status.busy": "2021-06-02T20:03:19.666691Z",
          "iopub.execute_input": "2021-06-02T20:03:19.667016Z",
          "iopub.status.idle": "2021-06-02T20:03:20.612135Z",
          "shell.execute_reply.started": "2021-06-02T20:03:19.666986Z",
          "shell.execute_reply": "2021-06-02T20:03:20.611372Z"
        },
        "trusted": true,
        "colab": {
          "base_uri": "https://localhost:8080/"
        }
      },
      "execution_count": null,
      "outputs": [
        {
          "output_type": "stream",
          "name": "stderr",
          "text": [
            "[nltk_data] Downloading package punkt to /root/nltk_data...\n",
            "[nltk_data]   Package punkt is already up-to-date!\n",
            "[nltk_data] Downloading package stopwords to /root/nltk_data...\n",
            "[nltk_data]   Package stopwords is already up-to-date!\n"
          ]
        }
      ]
    },
    {
      "cell_type": "markdown",
      "source": [
        "Text in the dataset seems to be quite 'clean', so it doesn`t require many preprocessing steps, only stop-word deletion and tokenization."
      ],
      "metadata": {
        "id": "sNhmde-E21NJ",
        "editable": false
      }
    },
    {
      "cell_type": "code",
      "source": [
        "def text_preprocess(text, stop_words=False):\n",
        "  '''\n",
        "  Accepts text (a single string) and\n",
        "  a parameters of preprocessing\n",
        "  Returns preprocessed text\n",
        "\n",
        "  '''\n",
        "  # clean text from non-words\n",
        "  text = re.sub(r'\\W+', ' ', text).lower()\n",
        "\n",
        "  # tokenize the text\n",
        "  tokens = word_tokenize(text)\n",
        "\n",
        "  if stop_words:\n",
        "    # delete stop_words\n",
        "    tokens = [token for token in tokens if token not in STOPWORDS]\n",
        "\n",
        "  return tokens"
      ],
      "metadata": {
        "id": "5u1E4Kmm1IGz",
        "editable": false,
        "execution": {
          "iopub.status.busy": "2021-06-02T20:03:23.695028Z",
          "iopub.execute_input": "2021-06-02T20:03:23.695333Z",
          "iopub.status.idle": "2021-06-02T20:03:23.700588Z",
          "shell.execute_reply.started": "2021-06-02T20:03:23.695304Z",
          "shell.execute_reply": "2021-06-02T20:03:23.699653Z"
        },
        "trusted": true
      },
      "execution_count": null,
      "outputs": []
    },
    {
      "cell_type": "code",
      "source": [
        "print('Before: ')\n",
        "print(train.head())\n",
        "\n",
        "x_train = [text_preprocess(t, stop_words=True) for t in train['Lines']]\n",
        "y_train = train['Labels'].values\n",
        "\n",
        "print('\\nAfter:')\n",
        "for line_and_label in list(zip(x_train[:5], y_train[:5])):\n",
        "  print(line_and_label)"
      ],
      "metadata": {
        "id": "Q2zWyueL1Ll5",
        "outputId": "0b409de6-1e6a-41b0-9300-3985c43f9695",
        "editable": false,
        "execution": {
          "iopub.status.busy": "2021-06-02T20:03:26.613005Z",
          "iopub.execute_input": "2021-06-02T20:03:26.613336Z",
          "iopub.status.idle": "2021-06-02T20:03:29.714114Z",
          "shell.execute_reply.started": "2021-06-02T20:03:26.613307Z",
          "shell.execute_reply": "2021-06-02T20:03:29.713319Z"
        },
        "trusted": true,
        "colab": {
          "base_uri": "https://localhost:8080/"
        }
      },
      "execution_count": null,
      "outputs": [
        {
          "output_type": "stream",
          "name": "stdout",
          "text": [
            "Before: \n",
            "                                               Lines Emotions  Labels\n",
            "0                            i didnt feel humiliated  sadness       4\n",
            "1  i can go from feeling so hopeless to so damned...  sadness       4\n",
            "2   im grabbing a minute to post i feel greedy wrong    anger       0\n",
            "3  i am ever feeling nostalgic about the fireplac...     love       1\n",
            "4                               i am feeling grouchy    anger       0\n",
            "\n",
            "After:\n",
            "(['didnt', 'feel', 'humiliated'], 4)\n",
            "(['go', 'feeling', 'hopeless', 'damned', 'hopeful', 'around', 'someone', 'cares', 'awake'], 4)\n",
            "(['im', 'grabbing', 'minute', 'post', 'feel', 'greedy', 'wrong'], 0)\n",
            "(['ever', 'feeling', 'nostalgic', 'fireplace', 'know', 'still', 'property'], 1)\n",
            "(['feeling', 'grouchy'], 0)\n"
          ]
        }
      ]
    },
    {
      "cell_type": "code",
      "source": [
        "x_test = [text_preprocess(t, stop_words=True) for t in test['Lines']]\n",
        "y_test = test['Labels'].values\n",
        "\n",
        "x_validation = [text_preprocess(t, stop_words=True) for t in validation['Lines']]\n",
        "y_validation = validation['Labels'].values"
      ],
      "metadata": {
        "id": "lqq9jE_t1Vc4",
        "editable": false,
        "execution": {
          "iopub.status.busy": "2021-06-02T20:03:29.716603Z",
          "iopub.execute_input": "2021-06-02T20:03:29.716916Z",
          "iopub.status.idle": "2021-06-02T20:03:30.495846Z",
          "shell.execute_reply.started": "2021-06-02T20:03:29.716882Z",
          "shell.execute_reply": "2021-06-02T20:03:30.495029Z"
        },
        "trusted": true
      },
      "execution_count": null,
      "outputs": []
    },
    {
      "cell_type": "markdown",
      "source": [
        "## Word embeddings"
      ],
      "metadata": {
        "id": "U4ytorX53fum",
        "editable": false
      }
    },
    {
      "cell_type": "markdown",
      "source": [
        "Some words may be specific for this dataset, so I use a combination of pre-trained fastText model and a Word2vec model, trained on the corpus of data.\n",
        "\n",
        "Occurence of words in the corpus must be >=2, leftovers are probably typos or terms that don`t have a semantic meaning."
      ],
      "metadata": {
        "id": "s_VvcSaw8_cw",
        "editable": false
      }
    },
    {
      "cell_type": "code",
      "source": [
        "# load pre-trained model\n",
        "import gensim.downloader as api\n",
        "model_wiki = api.load('fasttext-wiki-news-subwords-300')"
      ],
      "metadata": {
        "id": "g9vEwEDj1jxI",
        "editable": false,
        "execution": {
          "iopub.status.busy": "2021-06-02T20:03:33.018165Z",
          "iopub.execute_input": "2021-06-02T20:03:33.018505Z",
          "iopub.status.idle": "2021-06-02T20:13:30.957758Z",
          "shell.execute_reply.started": "2021-06-02T20:03:33.018471Z",
          "shell.execute_reply": "2021-06-02T20:13:30.956854Z"
        },
        "trusted": true
      },
      "execution_count": null,
      "outputs": []
    },
    {
      "cell_type": "code",
      "source": [
        "from gensim.models import Word2Vec\n",
        "\n",
        "# train word2vec model on the corpus\n",
        "model_w2v = Word2Vec(x_train + x_test + x_validation,   # data for model to train on\n",
        "                 vector_size = 300,                            # embedding vector size\n",
        "                 min_count = 2).wv  "
      ],
      "metadata": {
        "execution": {
          "iopub.status.busy": "2021-06-02T20:14:49.847887Z",
          "iopub.execute_input": "2021-06-02T20:14:49.848256Z",
          "iopub.status.idle": "2021-06-02T20:14:51.691748Z",
          "shell.execute_reply.started": "2021-06-02T20:14:49.848223Z",
          "shell.execute_reply": "2021-06-02T20:14:51.690777Z"
        },
        "trusted": true,
        "id": "BiBVOL5CbLle"
      },
      "execution_count": null,
      "outputs": []
    },
    {
      "cell_type": "markdown",
      "source": [
        "## Converting sentences into vectors"
      ],
      "metadata": {
        "id": "DZPjc7444m-2",
        "editable": false
      }
    },
    {
      "cell_type": "code",
      "source": [
        "from tensorflow.keras.preprocessing.text import Tokenizer"
      ],
      "metadata": {
        "id": "vFrxuAM01rQw",
        "editable": false,
        "execution": {
          "iopub.status.busy": "2021-06-02T20:14:55.270187Z",
          "iopub.execute_input": "2021-06-02T20:14:55.270520Z",
          "iopub.status.idle": "2021-06-02T20:15:00.120369Z",
          "shell.execute_reply.started": "2021-06-02T20:14:55.270487Z",
          "shell.execute_reply": "2021-06-02T20:15:00.119541Z"
        },
        "trusted": true
      },
      "execution_count": null,
      "outputs": []
    },
    {
      "cell_type": "code",
      "source": [
        "DICT_SIZE = 15000\n",
        "\n",
        "# creating a dictionary with most used words\n",
        "# where num of words = DICT_SIZE\n",
        "tokenizer = Tokenizer(num_words=DICT_SIZE)\n",
        "total = x_train + x_train + x_validation\n",
        "tokenizer.fit_on_texts(total)"
      ],
      "metadata": {
        "id": "faIIp0Ri1wkW",
        "editable": false,
        "execution": {
          "iopub.status.busy": "2021-06-02T20:15:00.121750Z",
          "iopub.execute_input": "2021-06-02T20:15:00.122053Z",
          "iopub.status.idle": "2021-06-02T20:15:00.387360Z",
          "shell.execute_reply.started": "2021-06-02T20:15:00.122018Z",
          "shell.execute_reply": "2021-06-02T20:15:00.386546Z"
        },
        "trusted": true
      },
      "execution_count": null,
      "outputs": []
    },
    {
      "cell_type": "code",
      "source": [
        "# words and their indexes\n",
        "list(tokenizer.word_index.items())[:5]"
      ],
      "metadata": {
        "id": "2MEHgrKG_ezc",
        "outputId": "72639045-c243-4bc5-9511-7cca5aab41bc",
        "editable": false,
        "execution": {
          "iopub.status.busy": "2021-06-02T20:15:00.783980Z",
          "iopub.execute_input": "2021-06-02T20:15:00.784276Z",
          "iopub.status.idle": "2021-06-02T20:15:00.792046Z",
          "shell.execute_reply.started": "2021-06-02T20:15:00.784247Z",
          "shell.execute_reply": "2021-06-02T20:15:00.791127Z"
        },
        "trusted": true,
        "colab": {
          "base_uri": "https://localhost:8080/"
        }
      },
      "execution_count": null,
      "outputs": [
        {
          "output_type": "execute_result",
          "data": {
            "text/plain": [
              "[('feel', 1), ('feeling', 2), ('like', 3), ('im', 4), ('really', 5)]"
            ]
          },
          "metadata": {},
          "execution_count": 17
        }
      ]
    },
    {
      "cell_type": "code",
      "source": [
        "# number of unique words in the corpus\n",
        "len(tokenizer.word_index)"
      ],
      "metadata": {
        "id": "xuJthtEy-Ylf",
        "outputId": "5b8975d3-c68d-43c5-d4e3-71817b85ffc5",
        "editable": false,
        "execution": {
          "iopub.status.busy": "2021-06-02T20:15:03.374495Z",
          "iopub.execute_input": "2021-06-02T20:15:03.374819Z",
          "iopub.status.idle": "2021-06-02T20:15:03.382919Z",
          "shell.execute_reply.started": "2021-06-02T20:15:03.374790Z",
          "shell.execute_reply": "2021-06-02T20:15:03.382120Z"
        },
        "trusted": true,
        "colab": {
          "base_uri": "https://localhost:8080/"
        }
      },
      "execution_count": null,
      "outputs": [
        {
          "output_type": "execute_result",
          "data": {
            "text/plain": [
              "16045"
            ]
          },
          "metadata": {},
          "execution_count": 18
        }
      ]
    },
    {
      "cell_type": "code",
      "source": [
        "# find max length of sentences across all parts of the dataset\n",
        "x_train_max_len = max([len(i) for i in x_train])\n",
        "x_test_max_len = max([len(i) for i in x_test])\n",
        "x_validation_max_len = max([len(i) for i in x_validation])\n",
        "\n",
        "MAX_LEN = max(x_train_max_len, x_test_max_len, x_validation_max_len)"
      ],
      "metadata": {
        "id": "KYLeLXwo12M0",
        "editable": false,
        "execution": {
          "iopub.status.busy": "2021-06-02T20:15:06.233717Z",
          "iopub.execute_input": "2021-06-02T20:15:06.234038Z",
          "iopub.status.idle": "2021-06-02T20:15:06.240542Z",
          "shell.execute_reply.started": "2021-06-02T20:15:06.234009Z",
          "shell.execute_reply": "2021-06-02T20:15:06.239305Z"
        },
        "trusted": true
      },
      "execution_count": null,
      "outputs": []
    },
    {
      "cell_type": "code",
      "source": [
        "# max length across all sentences\n",
        "MAX_LEN"
      ],
      "metadata": {
        "id": "Sa66ZJTlKRY3",
        "outputId": "252c9b55-4d39-444e-cf02-e5862a07d543",
        "editable": false,
        "execution": {
          "iopub.status.busy": "2021-06-02T20:15:08.931676Z",
          "iopub.execute_input": "2021-06-02T20:15:08.931994Z",
          "iopub.status.idle": "2021-06-02T20:15:08.936750Z",
          "shell.execute_reply.started": "2021-06-02T20:15:08.931965Z",
          "shell.execute_reply": "2021-06-02T20:15:08.935911Z"
        },
        "trusted": true,
        "colab": {
          "base_uri": "https://localhost:8080/"
        }
      },
      "execution_count": null,
      "outputs": [
        {
          "output_type": "execute_result",
          "data": {
            "text/plain": [
              "35"
            ]
          },
          "metadata": {},
          "execution_count": 20
        }
      ]
    },
    {
      "cell_type": "code",
      "source": [
        "from tensorflow.keras.preprocessing.sequence import pad_sequences"
      ],
      "metadata": {
        "id": "SGQLk4KZ14HL",
        "editable": false,
        "execution": {
          "iopub.status.busy": "2021-06-02T20:15:12.130553Z",
          "iopub.execute_input": "2021-06-02T20:15:12.130890Z",
          "iopub.status.idle": "2021-06-02T20:15:12.135748Z",
          "shell.execute_reply.started": "2021-06-02T20:15:12.130861Z",
          "shell.execute_reply": "2021-06-02T20:15:12.134785Z"
        },
        "trusted": true
      },
      "execution_count": null,
      "outputs": []
    },
    {
      "cell_type": "code",
      "source": [
        "# replace words with their indexes, \n",
        "# change size of vectors to MAX_LEN and pad indexes \n",
        "X_train = tokenizer.texts_to_sequences(x_train)\n",
        "X_train_pad = pad_sequences(X_train, maxlen=MAX_LEN)\n",
        "\n",
        "X_test = tokenizer.texts_to_sequences(x_test)\n",
        "X_test_pad = pad_sequences(X_test, maxlen=MAX_LEN)\n",
        "\n",
        "X_val = tokenizer.texts_to_sequences(x_validation)\n",
        "X_val_pad = pad_sequences(X_val, maxlen=MAX_LEN)"
      ],
      "metadata": {
        "id": "EmWEYeCb15Jb",
        "editable": false,
        "execution": {
          "iopub.status.busy": "2021-06-02T20:15:16.650634Z",
          "iopub.execute_input": "2021-06-02T20:15:16.650948Z",
          "iopub.status.idle": "2021-06-02T20:15:16.896792Z",
          "shell.execute_reply.started": "2021-06-02T20:15:16.650920Z",
          "shell.execute_reply": "2021-06-02T20:15:16.895942Z"
        },
        "trusted": true
      },
      "execution_count": null,
      "outputs": []
    },
    {
      "cell_type": "code",
      "source": [
        "# words are replaced by their indexes\n",
        "X_train[0]"
      ],
      "metadata": {
        "id": "Mq7mXY4a7aeN",
        "outputId": "c6932120-3689-47e9-b4bc-9dc71afd16ea",
        "editable": false,
        "execution": {
          "iopub.status.busy": "2021-06-02T20:15:20.157841Z",
          "iopub.execute_input": "2021-06-02T20:15:20.158167Z",
          "iopub.status.idle": "2021-06-02T20:15:20.165364Z",
          "shell.execute_reply.started": "2021-06-02T20:15:20.158130Z",
          "shell.execute_reply": "2021-06-02T20:15:20.164397Z"
        },
        "trusted": true,
        "colab": {
          "base_uri": "https://localhost:8080/"
        }
      },
      "execution_count": null,
      "outputs": [
        {
          "output_type": "execute_result",
          "data": {
            "text/plain": [
              "[51, 1, 556]"
            ]
          },
          "metadata": {},
          "execution_count": 23
        }
      ]
    },
    {
      "cell_type": "code",
      "source": [
        "# sentence after padding\n",
        "X_train_pad[0]"
      ],
      "metadata": {
        "id": "mSClZ82r7eqW",
        "outputId": "056a8292-6e0c-4805-aed2-3a714b25ef69",
        "editable": false,
        "execution": {
          "iopub.status.busy": "2021-06-02T20:15:23.040682Z",
          "iopub.execute_input": "2021-06-02T20:15:23.041003Z",
          "iopub.status.idle": "2021-06-02T20:15:23.049568Z",
          "shell.execute_reply.started": "2021-06-02T20:15:23.040973Z",
          "shell.execute_reply": "2021-06-02T20:15:23.048545Z"
        },
        "trusted": true,
        "colab": {
          "base_uri": "https://localhost:8080/"
        }
      },
      "execution_count": null,
      "outputs": [
        {
          "output_type": "execute_result",
          "data": {
            "text/plain": [
              "array([  0,   0,   0,   0,   0,   0,   0,   0,   0,   0,   0,   0,   0,\n",
              "         0,   0,   0,   0,   0,   0,   0,   0,   0,   0,   0,   0,   0,\n",
              "         0,   0,   0,   0,   0,   0,  51,   1, 556], dtype=int32)"
            ]
          },
          "metadata": {},
          "execution_count": 24
        }
      ]
    },
    {
      "cell_type": "markdown",
      "source": [
        "## Embedding matrix"
      ],
      "metadata": {
        "id": "nR3Gq1Pr4RwL",
        "editable": false
      }
    },
    {
      "cell_type": "code",
      "source": [
        "def create_weight_matrix(model, second_model=False):\n",
        "  '''\n",
        "  Accepts word embedding model\n",
        "  and the second model, if provided\n",
        "  Returns weight matrix of size m*n, where\n",
        "  m - size of the dictionary\n",
        "  n - size of the word embedding vector\n",
        "\n",
        "  '''\n",
        "  vector_size = model.get_vector('like').shape[0]\n",
        "  w_matrix = np.zeros((DICT_SIZE, vector_size))\n",
        "  skipped_words = []\n",
        "\n",
        "  for word, index in tokenizer.word_index.items():\n",
        "    if index < DICT_SIZE:\n",
        "      if word in model.key_to_index: \n",
        "        w_matrix[index] = model.get_vector(word)\n",
        "      else:\n",
        "        if second_model:\n",
        "          if word in second_model.key_to_index:\n",
        "            w_matrix[index] = second_model.get_vector(word)\n",
        "          else:\n",
        "            skipped_words.append(word)\n",
        "        else:\n",
        "          skipped_words.append(word)\n",
        " \n",
        "  print(f'{len(skipped_words)} words were skipped. Some of them:')\n",
        "  print(skipped_words[:50])\n",
        "  return w_matrix"
      ],
      "metadata": {
        "execution": {
          "iopub.status.busy": "2021-06-02T20:17:33.843957Z",
          "iopub.execute_input": "2021-06-02T20:17:33.844282Z",
          "iopub.status.idle": "2021-06-02T20:17:33.850585Z",
          "shell.execute_reply.started": "2021-06-02T20:17:33.844253Z",
          "shell.execute_reply": "2021-06-02T20:17:33.849762Z"
        },
        "trusted": true,
        "id": "vL2Gc3KobLlj"
      },
      "execution_count": null,
      "outputs": []
    },
    {
      "cell_type": "code",
      "source": [
        "!pip3 install --upgrade gensim --user"
      ],
      "metadata": {
        "id": "LsCbsxZvgJ73"
      },
      "execution_count": null,
      "outputs": []
    },
    {
      "cell_type": "code",
      "source": [
        "weight_matrix = create_weight_matrix(model_wiki, model_w2v)"
      ],
      "metadata": {
        "id": "o3LH7Qkm2D2q",
        "outputId": "a6f724c2-0dae-4f1e-f5fb-50948503b1c1",
        "editable": false,
        "execution": {
          "iopub.status.busy": "2021-06-02T20:17:38.757740Z",
          "iopub.execute_input": "2021-06-02T20:17:38.758059Z",
          "iopub.status.idle": "2021-06-02T20:17:38.840098Z",
          "shell.execute_reply.started": "2021-06-02T20:17:38.758030Z",
          "shell.execute_reply": "2021-06-02T20:17:38.839233Z"
        },
        "trusted": true,
        "colab": {
          "base_uri": "https://localhost:8080/"
        }
      },
      "execution_count": null,
      "outputs": [
        {
          "output_type": "stream",
          "name": "stdout",
          "text": [
            "991 words were skipped. Some of them:\n",
            "['jacynthe', 'rupaul', 'kayle', 'gerling', 'mxm', 'dannika', 'hyperchondria', 'manitz', 'educationg', 'gosman', 'montauk', 'bummin', 'wheeeeee', 'underwears', 'olivias', 'bandhu', 'uplifter', 'suicidalness', 'dykey', 'provokingbeauty', 'bodypump', 'honkerblonked', 'clermont', 'instructables', 'janne', 'suominen', 'kamiki', 'nozomi', 'nonchan', 'beaubronz', 'docrat', 'allthingsbucks', 'irresponcible', 'scruncher', 'utf', 'isprivate', 'ismobile', 'mobileclass', 'isprivateblog', 'languagedirection', 'feedlinks', 'lorena', 'handss', 'nervs', 'mommyhood', 'nowwwwww', 'whitleys', 'forelorn', 'baachan', 'covingtons']\n"
          ]
        }
      ]
    },
    {
      "cell_type": "code",
      "source": [
        "weight_matrix.shape"
      ],
      "metadata": {
        "id": "2Cp6cNV8utP0",
        "outputId": "cfc49dfc-b17c-40fc-a24c-5ecb33de09b7",
        "editable": false,
        "execution": {
          "iopub.status.busy": "2021-06-02T20:17:48.553113Z",
          "iopub.execute_input": "2021-06-02T20:17:48.553456Z",
          "iopub.status.idle": "2021-06-02T20:17:48.558810Z",
          "shell.execute_reply.started": "2021-06-02T20:17:48.553410Z",
          "shell.execute_reply": "2021-06-02T20:17:48.557889Z"
        },
        "trusted": true,
        "colab": {
          "base_uri": "https://localhost:8080/"
        }
      },
      "execution_count": null,
      "outputs": [
        {
          "output_type": "execute_result",
          "data": {
            "text/plain": [
              "(15000, 300)"
            ]
          },
          "metadata": {},
          "execution_count": 27
        }
      ]
    },
    {
      "cell_type": "markdown",
      "source": [
        "## DL model"
      ],
      "metadata": {
        "id": "jm4laUO94vpa",
        "editable": false
      }
    },
    {
      "cell_type": "code",
      "source": [
        "# import models, layers, optimizers from tensorflow\n",
        "from tensorflow.keras.models import Sequential\n",
        "from tensorflow.keras.layers import Embedding, LSTM, Bidirectional, Dense, Dropout\n",
        "from tensorflow.keras.optimizers import Adam"
      ],
      "metadata": {
        "id": "eMMy9Ewi2OEl",
        "editable": false,
        "execution": {
          "iopub.status.busy": "2021-06-02T20:18:07.026619Z",
          "iopub.execute_input": "2021-06-02T20:18:07.026941Z",
          "iopub.status.idle": "2021-06-02T20:18:07.033295Z",
          "shell.execute_reply.started": "2021-06-02T20:18:07.026911Z",
          "shell.execute_reply": "2021-06-02T20:18:07.032330Z"
        },
        "trusted": true
      },
      "execution_count": null,
      "outputs": []
    },
    {
      "cell_type": "code",
      "source": [
        "# import and initialize early stopping\n",
        "from tensorflow.keras.callbacks import EarlyStopping\n",
        "stop = EarlyStopping(monitor='val_loss', mode='min', verbose=1, patience=3)"
      ],
      "metadata": {
        "id": "9MkuvLLo2PA6",
        "editable": false,
        "execution": {
          "iopub.status.busy": "2021-06-02T20:18:08.863757Z",
          "iopub.execute_input": "2021-06-02T20:18:08.864064Z",
          "iopub.status.idle": "2021-06-02T20:18:08.868567Z",
          "shell.execute_reply.started": "2021-06-02T20:18:08.864036Z",
          "shell.execute_reply": "2021-06-02T20:18:08.867317Z"
        },
        "trusted": true
      },
      "execution_count": null,
      "outputs": []
    },
    {
      "cell_type": "code",
      "source": [
        "# initialize sequential model\n",
        "model = Sequential()\n",
        "model.add(Embedding(input_dim = DICT_SIZE, # the whole vocabulary size\n",
        "                    output_dim = weight_matrix.shape[1], # vector space dimension\n",
        "                    input_length = X_train_pad.shape[1], # max_len of text sequence\n",
        "                    weights=[weight_matrix], # assign the embedding weight with embedding marix\n",
        "                    trainable=False)) # set the weight to be not trainable (static)"
      ],
      "metadata": {
        "id": "AA7oBHyy2TJg",
        "editable": false,
        "execution": {
          "iopub.status.busy": "2021-06-02T20:30:11.027269Z",
          "iopub.execute_input": "2021-06-02T20:30:11.027712Z",
          "iopub.status.idle": "2021-06-02T20:30:11.092156Z",
          "shell.execute_reply.started": "2021-06-02T20:30:11.027673Z",
          "shell.execute_reply": "2021-06-02T20:30:11.091367Z"
        },
        "trusted": true
      },
      "execution_count": null,
      "outputs": []
    },
    {
      "cell_type": "code",
      "source": [
        "model.add(Bidirectional(LSTM(128, return_sequences=True))) \n",
        "model.add(Dropout(0.2))\n",
        "model.add(Bidirectional(LSTM(256, return_sequences=True)))\n",
        "model.add(Dropout(0.2))\n",
        "model.add(Bidirectional(LSTM(128, return_sequences=False)))\n",
        "model.add(Dense(6, activation = 'softmax'))\n",
        "model.compile(loss='sparse_categorical_crossentropy', optimizer='adam', metrics='accuracy')"
      ],
      "metadata": {
        "id": "JafsOHOQ2Xiw",
        "editable": false,
        "execution": {
          "iopub.status.busy": "2021-06-02T20:30:16.017023Z",
          "iopub.execute_input": "2021-06-02T20:30:16.017345Z",
          "iopub.status.idle": "2021-06-02T20:30:17.260538Z",
          "shell.execute_reply.started": "2021-06-02T20:30:16.017314Z",
          "shell.execute_reply": "2021-06-02T20:30:17.259700Z"
        },
        "trusted": true
      },
      "execution_count": null,
      "outputs": []
    },
    {
      "cell_type": "code",
      "source": [
        "history = model.fit(X_train_pad, y_train, \n",
        "                    validation_data = (X_val_pad, y_validation),\n",
        "                    batch_size = 8,\n",
        "                    epochs = 20, \n",
        "                    callbacks = stop)"
      ],
      "metadata": {
        "id": "GwBNhGpT2bZU",
        "outputId": "4d8630ce-d2fe-4ea9-8cdd-b8ec8e6fea89",
        "editable": false,
        "execution": {
          "iopub.status.busy": "2021-06-02T20:30:18.907688Z",
          "iopub.execute_input": "2021-06-02T20:30:18.908002Z",
          "iopub.status.idle": "2021-06-02T20:36:44.564083Z",
          "shell.execute_reply.started": "2021-06-02T20:30:18.907973Z",
          "shell.execute_reply": "2021-06-02T20:36:44.563070Z"
        },
        "trusted": true,
        "colab": {
          "base_uri": "https://localhost:8080/"
        }
      },
      "execution_count": null,
      "outputs": [
        {
          "output_type": "stream",
          "name": "stdout",
          "text": [
            "Epoch 1/20\n",
            "2000/2000 [==============================] - 977s 483ms/step - loss: 0.8915 - accuracy: 0.6756 - val_loss: 0.3301 - val_accuracy: 0.8890\n",
            "Epoch 2/20\n",
            "2000/2000 [==============================] - 981s 490ms/step - loss: 0.2480 - accuracy: 0.9088 - val_loss: 0.1795 - val_accuracy: 0.9255\n",
            "Epoch 3/20\n",
            "2000/2000 [==============================] - 917s 458ms/step - loss: 0.1650 - accuracy: 0.9283 - val_loss: 0.1484 - val_accuracy: 0.9285\n",
            "Epoch 4/20\n",
            "2000/2000 [==============================] - 913s 457ms/step - loss: 0.1378 - accuracy: 0.9354 - val_loss: 0.1466 - val_accuracy: 0.9300\n",
            "Epoch 5/20\n",
            "2000/2000 [==============================] - 913s 456ms/step - loss: 0.1251 - accuracy: 0.9362 - val_loss: 0.1249 - val_accuracy: 0.9345\n",
            "Epoch 6/20\n",
            "2000/2000 [==============================] - 901s 450ms/step - loss: 0.1122 - accuracy: 0.9420 - val_loss: 0.1481 - val_accuracy: 0.9340\n",
            "Epoch 7/20\n",
            "2000/2000 [==============================] - 909s 454ms/step - loss: 0.1112 - accuracy: 0.9436 - val_loss: 0.1398 - val_accuracy: 0.9260\n",
            "Epoch 8/20\n",
            "2000/2000 [==============================] - 899s 449ms/step - loss: 0.1043 - accuracy: 0.9460 - val_loss: 0.1316 - val_accuracy: 0.9310\n",
            "Epoch 8: early stopping\n"
          ]
        }
      ]
    },
    {
      "cell_type": "markdown",
      "source": [
        "## Evaluate model"
      ],
      "metadata": {
        "id": "zpoR0FPv5DqS",
        "editable": false
      }
    },
    {
      "cell_type": "markdown",
      "source": [
        "Training, validation accuracy and loss plots:"
      ],
      "metadata": {
        "id": "jjw1XG4c5HeO",
        "editable": false
      }
    },
    {
      "cell_type": "code",
      "source": [
        "def plot_history(history):\n",
        "    '''\n",
        "    Plots training and validation accuracy and loss\n",
        "    Accepts a single param - history, where\n",
        "    history - keras.callbacks.History object\n",
        "    Returns nothing\n",
        "    \n",
        "    '''\n",
        "    loss = history.history['loss']\n",
        "    accuracy = history.history['accuracy']\n",
        "    val_loss = history.history['val_loss']\n",
        "    val_accuracy = history.history['val_accuracy']\n",
        "    x = range(1, len(loss) + 1)\n",
        "\n",
        "    plt.figure(figsize=(12, 5))\n",
        "    plt.subplot(1, 2, 1)\n",
        "    plt.plot(x, accuracy, label='Training acc', color='#707bfb')\n",
        "    plt.plot(x, val_accuracy, label='Validation acc', color='#fbcbff')\n",
        "    plt.title('Training and validation accuracy')\n",
        "    plt.grid(True)\n",
        "    plt.legend()\n",
        "    \n",
        "    plt.subplot(1, 2, 2)\n",
        "    plt.plot(x, loss, label='Training loss', color='#707bfb')\n",
        "    plt.plot(x, val_loss, label='Validation loss', color='#fbcbff')\n",
        "    plt.title('Training and validation loss')\n",
        "    plt.grid(True)\n",
        "    plt.legend()"
      ],
      "metadata": {
        "id": "ITdL0Y1v2h45",
        "editable": false,
        "execution": {
          "iopub.status.busy": "2021-06-02T20:24:05.701565Z",
          "iopub.execute_input": "2021-06-02T20:24:05.701887Z",
          "iopub.status.idle": "2021-06-02T20:24:05.711128Z",
          "shell.execute_reply.started": "2021-06-02T20:24:05.701857Z",
          "shell.execute_reply": "2021-06-02T20:24:05.710331Z"
        },
        "trusted": true
      },
      "execution_count": null,
      "outputs": []
    },
    {
      "cell_type": "code",
      "source": [
        "plot_history(history)"
      ],
      "metadata": {
        "id": "wiREDIsw2lIn",
        "outputId": "1e428f02-4455-47b3-f0a7-5283b42454a7",
        "editable": false,
        "execution": {
          "iopub.status.busy": "2021-06-02T20:37:08.918980Z",
          "iopub.execute_input": "2021-06-02T20:37:08.919303Z",
          "iopub.status.idle": "2021-06-02T20:37:09.185682Z",
          "shell.execute_reply.started": "2021-06-02T20:37:08.919271Z",
          "shell.execute_reply": "2021-06-02T20:37:09.184722Z"
        },
        "trusted": true,
        "colab": {
          "base_uri": "https://localhost:8080/",
          "height": 336
        }
      },
      "execution_count": null,
      "outputs": [
        {
          "output_type": "display_data",
          "data": {
            "text/plain": [
              "<Figure size 864x360 with 2 Axes>"
            ],
            "image/png": "[encoded data removed]"
          },
          "metadata": {
            "needs_background": "light"
          }
        }
      ]
    },
    {
      "cell_type": "markdown",
      "source": [
        "Accuracy of the model on test data:"
      ],
      "metadata": {
        "id": "obgDlnBo5YrO",
        "editable": false
      }
    },
    {
      "cell_type": "code",
      "source": [
        "model.evaluate(X_test_pad, y_test) "
      ],
      "metadata": {
        "id": "saNXlLG02qbO",
        "outputId": "33c3c7fb-d5b8-4658-f38f-12ed7ff0429b",
        "editable": false,
        "execution": {
          "iopub.status.busy": "2021-06-02T20:37:27.426395Z",
          "iopub.execute_input": "2021-06-02T20:37:27.426750Z",
          "iopub.status.idle": "2021-06-02T20:37:29.563155Z",
          "shell.execute_reply.started": "2021-06-02T20:37:27.426719Z",
          "shell.execute_reply": "2021-06-02T20:37:29.562399Z"
        },
        "trusted": true,
        "colab": {
          "base_uri": "https://localhost:8080/"
        }
      },
      "execution_count": null,
      "outputs": [
        {
          "output_type": "stream",
          "name": "stdout",
          "text": [
            "63/63 [==============================] - 24s 348ms/step - loss: 0.1440 - accuracy: 0.9285\n"
          ]
        },
        {
          "output_type": "execute_result",
          "data": {
            "text/plain": [
              "[0.14395499229431152, 0.9284999966621399]"
            ]
          },
          "metadata": {},
          "execution_count": 38
        }
      ]
    },
    {
      "cell_type": "code",
      "source": [
        "y_pred = np.argmax(model.predict(X_test_pad), axis=1)"
      ],
      "metadata": {
        "id": "VVIaz8Kv2sqP",
        "editable": false,
        "execution": {
          "iopub.status.busy": "2021-06-02T20:37:33.174614Z",
          "iopub.execute_input": "2021-06-02T20:37:33.174933Z",
          "iopub.status.idle": "2021-06-02T20:37:35.176160Z",
          "shell.execute_reply.started": "2021-06-02T20:37:33.174907Z",
          "shell.execute_reply": "2021-06-02T20:37:35.175298Z"
        },
        "trusted": true
      },
      "execution_count": null,
      "outputs": []
    },
    {
      "cell_type": "markdown",
      "source": [
        "Precision, recall, F1-score on test data:"
      ],
      "metadata": {
        "id": "N1LPj2vQ59TB",
        "editable": false
      }
    },
    {
      "cell_type": "code",
      "source": [
        "from sklearn import metrics\n",
        "print(metrics.classification_report(y_test, y_pred))"
      ],
      "metadata": {
        "id": "_JYOSSzV2xRQ",
        "outputId": "3b95e198-9127-4bcb-d3d3-542577868616",
        "editable": false,
        "execution": {
          "iopub.status.busy": "2021-06-02T20:37:35.896001Z",
          "iopub.execute_input": "2021-06-02T20:37:35.896338Z",
          "iopub.status.idle": "2021-06-02T20:37:35.910422Z",
          "shell.execute_reply.started": "2021-06-02T20:37:35.896307Z",
          "shell.execute_reply": "2021-06-02T20:37:35.909512Z"
        },
        "trusted": true,
        "colab": {
          "base_uri": "https://localhost:8080/"
        }
      },
      "execution_count": null,
      "outputs": [
        {
          "output_type": "stream",
          "name": "stdout",
          "text": [
            "              precision    recall  f1-score   support\n",
            "\n",
            "           0       0.95      0.92      0.94       275\n",
            "           1       0.75      0.97      0.84       159\n",
            "           2       0.90      0.93      0.91       224\n",
            "           3       0.96      0.92      0.94       695\n",
            "           4       0.96      0.97      0.96       581\n",
            "           5       0.95      0.56      0.70        66\n",
            "\n",
            "    accuracy                           0.93      2000\n",
            "   macro avg       0.91      0.88      0.88      2000\n",
            "weighted avg       0.93      0.93      0.93      2000\n",
            "\n"
          ]
        }
      ]
    },
    {
      "cell_type": "markdown",
      "source": [
        "Confusion matrix:"
      ],
      "metadata": {
        "id": "20iI3mE56DfM",
        "editable": false
      }
    },
    {
      "cell_type": "code",
      "source": [
        "# setting a custom colormap\n",
        "from matplotlib.colors import LinearSegmentedColormap\n",
        "colors = ['#ffffff', '#fbcbff', '#707bfb']\n",
        "cmap = LinearSegmentedColormap.from_list('mycmap', colors)"
      ],
      "metadata": {
        "execution": {
          "iopub.status.busy": "2021-06-02T20:38:40.819115Z",
          "iopub.execute_input": "2021-06-02T20:38:40.819448Z",
          "iopub.status.idle": "2021-06-02T20:38:40.826119Z",
          "shell.execute_reply.started": "2021-06-02T20:38:40.819402Z",
          "shell.execute_reply": "2021-06-02T20:38:40.825037Z"
        },
        "trusted": true,
        "id": "DsAPjMMAbLln"
      },
      "execution_count": null,
      "outputs": []
    },
    {
      "cell_type": "code",
      "source": [
        "def plot_confusion_matrix(matrix, fmt=''):\n",
        "  '''\n",
        "  Accepts a confusion matrix and a format param\n",
        "  Plots the matrix as a heatmap\n",
        "  Returns nothing\n",
        "\n",
        "  '''\n",
        "  plt.figure(figsize=(6, 5))\n",
        "  sns.heatmap(matrix, annot=True, \n",
        "              cmap=cmap, \n",
        "              fmt=fmt, \n",
        "              xticklabels=emotions_to_labels.keys(), \n",
        "              yticklabels=emotions_to_labels.keys())\n",
        "  plt.ylabel('True labels')\n",
        "  plt.xlabel('Predicted labels')\n",
        "  plt.show()"
      ],
      "metadata": {
        "id": "OTvuCwylOTPl",
        "editable": false,
        "execution": {
          "iopub.status.busy": "2021-06-02T20:37:48.423912Z",
          "iopub.execute_input": "2021-06-02T20:37:48.424234Z",
          "iopub.status.idle": "2021-06-02T20:37:48.429603Z",
          "shell.execute_reply.started": "2021-06-02T20:37:48.424201Z",
          "shell.execute_reply": "2021-06-02T20:37:48.428501Z"
        },
        "trusted": true
      },
      "execution_count": null,
      "outputs": []
    },
    {
      "cell_type": "code",
      "source": [
        "matrix = metrics.confusion_matrix(y_test, y_pred)\n",
        "plot_confusion_matrix(matrix)"
      ],
      "metadata": {
        "id": "Y1CKAg3OLXSA",
        "outputId": "3312a291-b042-4a4a-829f-ce6082338302",
        "editable": false,
        "execution": {
          "iopub.status.busy": "2021-06-02T20:38:45.135274Z",
          "iopub.execute_input": "2021-06-02T20:38:45.135635Z",
          "iopub.status.idle": "2021-06-02T20:38:45.423604Z",
          "shell.execute_reply.started": "2021-06-02T20:38:45.135596Z",
          "shell.execute_reply": "2021-06-02T20:38:45.422814Z"
        },
        "trusted": true,
        "colab": {
          "base_uri": "https://localhost:8080/",
          "height": 334
        }
      },
      "execution_count": null,
      "outputs": [
        {
          "output_type": "display_data",
          "data": {
            "text/plain": [
              "<Figure size 432x360 with 2 Axes>"
            ],
            "image/png": "[encoded data removed]"
          },
          "metadata": {
            "needs_background": "light"
          }
        }
      ]
    },
    {
      "cell_type": "code",
      "source": [
        "# create new confusion matrix\n",
        "# where values are normed by row\n",
        "matrix_new = np.zeros(matrix.shape)\n",
        "\n",
        "for row in range(len(matrix)):\n",
        "  sum = np.sum(matrix[row])\n",
        "  for element in range(len(matrix[row])):\n",
        "    matrix_new[row][element] = matrix[row][element] / sum\n",
        "\n",
        "plot_confusion_matrix(matrix_new, fmt='.2')"
      ],
      "metadata": {
        "id": "HfERmvOtyVvL",
        "outputId": "3b85846c-569c-4de8-a2b9-a016fcba54da",
        "editable": false,
        "execution": {
          "iopub.status.busy": "2021-06-02T20:38:55.150603Z",
          "iopub.execute_input": "2021-06-02T20:38:55.150921Z",
          "iopub.status.idle": "2021-06-02T20:38:55.438310Z",
          "shell.execute_reply.started": "2021-06-02T20:38:55.150893Z",
          "shell.execute_reply": "2021-06-02T20:38:55.437386Z"
        },
        "trusted": true,
        "colab": {
          "base_uri": "https://localhost:8080/",
          "height": 334
        }
      },
      "execution_count": null,
      "outputs": [
        {
          "output_type": "display_data",
          "data": {
            "text/plain": [
              "<Figure size 432x360 with 2 Axes>"
            ],
            "image/png": "[encoded data removed]"
          },
          "metadata": {
            "needs_background": "light"
          }
        }
      ]
    },
    {
      "cell_type": "markdown",
      "source": [
        "## Test model on custom data"
      ],
      "metadata": {
        "id": "5W3tmK3z6ZV8",
        "editable": false
      }
    },
    {
      "cell_type": "code",
      "source": [
        "def predict(texts):\n",
        "  '''\n",
        "  Accepts array if texts (strings)\n",
        "  Prints sentence and the corresponding label (emotion)\n",
        "  Returns nothing\n",
        "  \n",
        "  '''\n",
        "  texts_prepr = [text_preprocess(t) for t in texts]\n",
        "  sequences = tokenizer.texts_to_sequences(texts_prepr)\n",
        "  pad = pad_sequences(sequences, maxlen=MAX_LEN)\n",
        "\n",
        "  predictions = model.predict(pad)\n",
        "  labels = np.argmax(predictions, axis=1)\n",
        "  \n",
        "  for i, lbl in enumerate(labels):\n",
        "    print(f'\\'{texts[i]}\\' --> {labels_to_emotions[lbl]}')\n"
      ],
      "metadata": {
        "id": "dVbpwgxr36jw",
        "editable": false,
        "execution": {
          "iopub.status.busy": "2021-06-02T20:39:29.850127Z",
          "iopub.execute_input": "2021-06-02T20:39:29.850465Z",
          "iopub.status.idle": "2021-06-02T20:39:29.855575Z",
          "shell.execute_reply.started": "2021-06-02T20:39:29.850413Z",
          "shell.execute_reply": "2021-06-02T20:39:29.854677Z"
        },
        "trusted": true
      },
      "execution_count": null,
      "outputs": []
    },
    {
      "cell_type": "code",
      "source": [
        "test_texts = ['I am so happy', 'The man felt lonely', 'The guests felt satisfied']\n",
        "\n",
        "predict(test_texts)"
      ],
      "metadata": {
        "id": "Wa1dnybM5jBc",
        "outputId": "f2d17ea3-cad0-4721-a7cc-6c07fd8cb568",
        "editable": false,
        "execution": {
          "iopub.status.busy": "2021-06-02T20:39:33.472291Z",
          "iopub.execute_input": "2021-06-02T20:39:33.472718Z",
          "iopub.status.idle": "2021-06-02T20:39:33.544414Z",
          "shell.execute_reply.started": "2021-06-02T20:39:33.472676Z",
          "shell.execute_reply": "2021-06-02T20:39:33.543671Z"
        },
        "trusted": true,
        "colab": {
          "base_uri": "https://localhost:8080/"
        }
      },
      "execution_count": null,
      "outputs": [
        {
          "output_type": "stream",
          "name": "stdout",
          "text": [
            "'I am so happy' --> joy\n",
            "'The man felt lonely' --> sadness\n",
            "'The guests felt satisfied' --> joy\n"
          ]
        }
      ]
    }
  ]
}