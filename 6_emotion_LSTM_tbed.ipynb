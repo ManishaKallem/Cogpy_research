{
  "cells": [
    {
      "cell_type": "code",
      "execution_count": null,
      "id": "5cfc15be",
      "metadata": {
        "execution": {
          "iopub.execute_input": "2021-08-19T05:50:30.318483Z",
          "iopub.status.busy": "2021-08-19T05:50:30.317952Z",
          "iopub.status.idle": "2021-08-19T05:50:43.675382Z",
          "shell.execute_reply": "2021-08-19T05:50:43.675844Z",
          "shell.execute_reply.started": "2021-08-19T05:45:53.037130Z"
        },
        "papermill": {
          "duration": 13.392418,
          "end_time": "2021-08-19T05:50:43.676113",
          "exception": false,
          "start_time": "2021-08-19T05:50:30.283695",
          "status": "completed"
        },
        "tags": [],
        "id": "5cfc15be"
      },
      "outputs": [],
      "source": [
        "!pip install pandas --quiet\n",
        "!pip install torchtext --quiet"
      ]
    },
    {
      "cell_type": "code",
      "execution_count": null,
      "id": "2237c721",
      "metadata": {
        "execution": {
          "iopub.execute_input": "2021-08-19T05:50:43.729037Z",
          "iopub.status.busy": "2021-08-19T05:50:43.728226Z",
          "iopub.status.idle": "2021-08-19T05:50:46.224110Z",
          "shell.execute_reply": "2021-08-19T05:50:46.225171Z",
          "shell.execute_reply.started": "2021-08-19T05:46:04.912826Z"
        },
        "papermill": {
          "duration": 2.525987,
          "end_time": "2021-08-19T05:50:46.225381",
          "exception": false,
          "start_time": "2021-08-19T05:50:43.699394",
          "status": "completed"
        },
        "tags": [],
        "id": "2237c721"
      },
      "outputs": [],
      "source": [
        "import os\n",
        "import numpy as np\n",
        "import pandas as pd\n",
        "import matplotlib.pyplot as plt\n",
        "from tqdm.notebook import tqdm\n",
        "\n",
        "from collections import Counter\n",
        "\n",
        "import torch\n",
        "import torch.nn as nn\n",
        "import torch.optim as optim\n",
        "import torch.nn.functional as F\n",
        "from torch.utils.data import TensorDataset, DataLoader\n",
        "from sklearn import metrics\n",
        "\n",
        "import torchtext\n",
        "from torchtext.data import get_tokenizer\n",
        "\n",
        "from sklearn.utils import shuffle\n",
        "from sklearn.metrics import classification_report\n",
        "from sklearn.linear_model import LogisticRegression\n",
        "from sklearn.model_selection import train_test_split\n",
        "from sklearn.feature_extraction.text import CountVectorizer"
      ]
    },
    {
      "cell_type": "code",
      "source": [
        "from google.colab import drive\n",
        "drive.mount('/content/drive/')"
      ],
      "metadata": {
        "colab": {
          "base_uri": "https://localhost:8080/"
        },
        "id": "wiqZDI-YEZRq",
        "outputId": "6fd1b9b5-8aaa-4528-ebf3-09bd1d2ca805"
      },
      "id": "wiqZDI-YEZRq",
      "execution_count": null,
      "outputs": [
        {
          "output_type": "stream",
          "name": "stdout",
          "text": [
            "Drive already mounted at /content/drive/; to attempt to forcibly remount, call drive.mount(\"/content/drive/\", force_remount=True).\n"
          ]
        }
      ]
    },
    {
      "cell_type": "code",
      "source": [
        "df = pd.read_csv('/kaggle/input/emotions-dataset-for-nlp/train.txt', header=None, sep=';', names=['content','sentiment'], encoding='utf-8')"
      ],
      "metadata": {
        "colab": {
          "base_uri": "https://localhost:8080/",
          "height": 424
        },
        "id": "nsU3BUYcMPHM",
        "outputId": "aa83dbbe-cee1-4408-ec24-e8d4fd8418c3"
      },
      "id": "nsU3BUYcMPHM",
      "execution_count": null,
      "outputs": [
        {
          "output_type": "execute_result",
          "data": {
            "text/plain": [
              "    sentiment                                            content\n",
              "0     neutral  @dannycastillo We want to trade with someone w...\n",
              "1     neutral                                   cant fall asleep\n",
              "2     neutral  No Topic Maps talks at the Balisage Markup Con...\n",
              "3     neutral                          @cynthia_123 i cant sleep\n",
              "4     neutral                    I missed the bl***y bus!!!!!!!!\n",
              "..        ...                                                ...\n",
              "630       sad  Stop crying over yesterday and start smiling f...\n",
              "631       sad  An Eye with Dust ‘n A Heart with Trust Always ...\n",
              "632       sad  Tears come from the heart and not from the brain.\n",
              "633       sad  Sometimes you have to hold your head up high, ...\n",
              "634       sad  Instead of wiping your tears, wipe away the pe...\n",
              "\n",
              "[10677 rows x 2 columns]"
            ],
            "text/html": [
              "\n",
              "  <div id=\"df-8ed446bd-e1d3-495a-93b4-4b1139b9edfe\">\n",
              "    <div class=\"colab-df-container\">\n",
              "      <div>\n",
              "<style scoped>\n",
              "    .dataframe tbody tr th:only-of-type {\n",
              "        vertical-align: middle;\n",
              "    }\n",
              "\n",
              "    .dataframe tbody tr th {\n",
              "        vertical-align: top;\n",
              "    }\n",
              "\n",
              "    .dataframe thead th {\n",
              "        text-align: right;\n",
              "    }\n",
              "</style>\n",
              "<table border=\"1\" class=\"dataframe\">\n",
              "  <thead>\n",
              "    <tr style=\"text-align: right;\">\n",
              "      <th></th>\n",
              "      <th>sentiment</th>\n",
              "      <th>content</th>\n",
              "    </tr>\n",
              "  </thead>\n",
              "  <tbody>\n",
              "    <tr>\n",
              "      <th>0</th>\n",
              "      <td>neutral</td>\n",
              "      <td>@dannycastillo We want to trade with someone w...</td>\n",
              "    </tr>\n",
              "    <tr>\n",
              "      <th>1</th>\n",
              "      <td>neutral</td>\n",
              "      <td>cant fall asleep</td>\n",
              "    </tr>\n",
              "    <tr>\n",
              "      <th>2</th>\n",
              "      <td>neutral</td>\n",
              "      <td>No Topic Maps talks at the Balisage Markup Con...</td>\n",
              "    </tr>\n",
              "    <tr>\n",
              "      <th>3</th>\n",
              "      <td>neutral</td>\n",
              "      <td>@cynthia_123 i cant sleep</td>\n",
              "    </tr>\n",
              "    <tr>\n",
              "      <th>4</th>\n",
              "      <td>neutral</td>\n",
              "      <td>I missed the bl***y bus!!!!!!!!</td>\n",
              "    </tr>\n",
              "    <tr>\n",
              "      <th>...</th>\n",
              "      <td>...</td>\n",
              "      <td>...</td>\n",
              "    </tr>\n",
              "    <tr>\n",
              "      <th>630</th>\n",
              "      <td>sad</td>\n",
              "      <td>Stop crying over yesterday and start smiling f...</td>\n",
              "    </tr>\n",
              "    <tr>\n",
              "      <th>631</th>\n",
              "      <td>sad</td>\n",
              "      <td>An Eye with Dust ‘n A Heart with Trust Always ...</td>\n",
              "    </tr>\n",
              "    <tr>\n",
              "      <th>632</th>\n",
              "      <td>sad</td>\n",
              "      <td>Tears come from the heart and not from the brain.</td>\n",
              "    </tr>\n",
              "    <tr>\n",
              "      <th>633</th>\n",
              "      <td>sad</td>\n",
              "      <td>Sometimes you have to hold your head up high, ...</td>\n",
              "    </tr>\n",
              "    <tr>\n",
              "      <th>634</th>\n",
              "      <td>sad</td>\n",
              "      <td>Instead of wiping your tears, wipe away the pe...</td>\n",
              "    </tr>\n",
              "  </tbody>\n",
              "</table>\n",
              "<p>10677 rows × 2 columns</p>\n",
              "</div>\n",
              "      <button class=\"colab-df-convert\" onclick=\"convertToInteractive('df-8ed446bd-e1d3-495a-93b4-4b1139b9edfe')\"\n",
              "              title=\"Convert this dataframe to an interactive table.\"\n",
              "              style=\"display:none;\">\n",
              "        \n",
              "  <svg xmlns=\"http://www.w3.org/2000/svg\" height=\"24px\"viewBox=\"0 0 24 24\"\n",
              "       width=\"24px\">\n",
              "    <path d=\"M0 0h24v24H0V0z\" fill=\"none\"/>\n",
              "    <path d=\"M18.56 5.44l.94 2.06.94-2.06 2.06-.94-2.06-.94-.94-2.06-.94 2.06-2.06.94zm-11 1L8.5 8.5l.94-2.06 2.06-.94-2.06-.94L8.5 2.5l-.94 2.06-2.06.94zm10 10l.94 2.06.94-2.06 2.06-.94-2.06-.94-.94-2.06-.94 2.06-2.06.94z\"/><path d=\"M17.41 7.96l-1.37-1.37c-.4-.4-.92-.59-1.43-.59-.52 0-1.04.2-1.43.59L10.3 9.45l-7.72 7.72c-.78.78-.78 2.05 0 2.83L4 21.41c.39.39.9.59 1.41.59.51 0 1.02-.2 1.41-.59l7.78-7.78 2.81-2.81c.8-.78.8-2.07 0-2.86zM5.41 20L4 18.59l7.72-7.72 1.47 1.35L5.41 20z\"/>\n",
              "  </svg>\n",
              "      </button>\n",
              "      \n",
              "  <style>\n",
              "    .colab-df-container {\n",
              "      display:flex;\n",
              "      flex-wrap:wrap;\n",
              "      gap: 12px;\n",
              "    }\n",
              "\n",
              "    .colab-df-convert {\n",
              "      background-color: #E8F0FE;\n",
              "      border: none;\n",
              "      border-radius: 50%;\n",
              "      cursor: pointer;\n",
              "      display: none;\n",
              "      fill: #1967D2;\n",
              "      height: 32px;\n",
              "      padding: 0 0 0 0;\n",
              "      width: 32px;\n",
              "    }\n",
              "\n",
              "    .colab-df-convert:hover {\n",
              "      background-color: #E2EBFA;\n",
              "      box-shadow: 0px 1px 2px rgba(60, 64, 67, 0.3), 0px 1px 3px 1px rgba(60, 64, 67, 0.15);\n",
              "      fill: #174EA6;\n",
              "    }\n",
              "\n",
              "    [theme=dark] .colab-df-convert {\n",
              "      background-color: #3B4455;\n",
              "      fill: #D2E3FC;\n",
              "    }\n",
              "\n",
              "    [theme=dark] .colab-df-convert:hover {\n",
              "      background-color: #434B5C;\n",
              "      box-shadow: 0px 1px 3px 1px rgba(0, 0, 0, 0.15);\n",
              "      filter: drop-shadow(0px 1px 2px rgba(0, 0, 0, 0.3));\n",
              "      fill: #FFFFFF;\n",
              "    }\n",
              "  </style>\n",
              "\n",
              "      <script>\n",
              "        const buttonEl =\n",
              "          document.querySelector('#df-8ed446bd-e1d3-495a-93b4-4b1139b9edfe button.colab-df-convert');\n",
              "        buttonEl.style.display =\n",
              "          google.colab.kernel.accessAllowed ? 'block' : 'none';\n",
              "\n",
              "        async function convertToInteractive(key) {\n",
              "          const element = document.querySelector('#df-8ed446bd-e1d3-495a-93b4-4b1139b9edfe');\n",
              "          const dataTable =\n",
              "            await google.colab.kernel.invokeFunction('convertToInteractive',\n",
              "                                                     [key], {});\n",
              "          if (!dataTable) return;\n",
              "\n",
              "          const docLinkHtml = 'Like what you see? Visit the ' +\n",
              "            '<a target=\"_blank\" href=https://colab.research.google.com/notebooks/data_table.ipynb>data table notebook</a>'\n",
              "            + ' to learn more about interactive tables.';\n",
              "          element.innerHTML = '';\n",
              "          dataTable['output_type'] = 'display_data';\n",
              "          await google.colab.output.renderOutput(dataTable, element);\n",
              "          const docLink = document.createElement('div');\n",
              "          docLink.innerHTML = docLinkHtml;\n",
              "          element.appendChild(docLink);\n",
              "        }\n",
              "      </script>\n",
              "    </div>\n",
              "  </div>\n",
              "  "
            ]
          },
          "metadata": {},
          "execution_count": 4
        }
      ]
    },
    {
      "cell_type": "code",
      "source": [
        "pip install emoji --upgrade"
      ],
      "metadata": {
        "colab": {
          "base_uri": "https://localhost:8080/"
        },
        "id": "_Y3CBgmXM35S",
        "outputId": "48693d71-df8d-4f02-8c67-8e97005c79a3"
      },
      "id": "_Y3CBgmXM35S",
      "execution_count": null,
      "outputs": [
        {
          "output_type": "stream",
          "name": "stdout",
          "text": [
            "Looking in indexes: https://pypi.org/simple, https://us-python.pkg.dev/colab-wheels/public/simple/\n",
            "Requirement already satisfied: emoji in /usr/local/lib/python3.7/dist-packages (1.7.0)\n"
          ]
        }
      ]
    },
    {
      "cell_type": "code",
      "source": [
        "import re\n",
        "import emoji"
      ],
      "metadata": {
        "id": "ULWFeVpMM88E"
      },
      "id": "ULWFeVpMM88E",
      "execution_count": null,
      "outputs": []
    },
    {
      "cell_type": "code",
      "source": [
        "import string"
      ],
      "metadata": {
        "id": "58XB6AA7NjRk"
      },
      "id": "58XB6AA7NjRk",
      "execution_count": null,
      "outputs": []
    },
    {
      "cell_type": "code",
      "source": [
        "def strip_emoji(text):\n",
        "    return re.sub(emoji.get_emoji_regexp(), r\"\", text) #remove emoji\n",
        "\n",
        "#Remove punctuations, links, mentions and \\r\\n new line characters\n",
        "def strip_all_entities(text): \n",
        "    text = text.replace('\\r', '').replace('\\n', ' ').replace('\\n', ' ').lower() #remove \\n and \\r and lowercase\n",
        "    text = re.sub(r\"(?:\\@|https?\\://)\\S+\", \"\", text) #remove links and mentions\n",
        "    text = re.sub(r'[^\\x00-\\x7f]',r'', text) #remove non utf8/ascii characters such as '\\x9a\\x91\\x97\\x9a\\x97'\n",
        "    banned_list= string.punctuation + 'Ã'+'±'+'ã'+'¼'+'â'+'»'+'§'\n",
        "    table = str.maketrans('', '', banned_list)\n",
        "    text = text.translate(table)\n",
        "    return text\n",
        "\n",
        "#clean hashtags at the end of the sentence, and keep those in the middle of the sentence by removing just the # symbol\n",
        "def clean_hashtags(tweet):\n",
        "    new_tweet = \" \".join(word.strip() for word in re.split('#(?!(?:hashtag)\\b)[\\w-]+(?=(?:\\s+#[\\w-]+)*\\s*$)', tweet)) #remove last hashtags\n",
        "    new_tweet2 = \" \".join(word.strip() for word in re.split('#|_', new_tweet)) #remove hashtags symbol from words in the middle of the sentence\n",
        "    return new_tweet2\n",
        "\n",
        "#Filter special characters such as & and $ present in some words\n",
        "def filter_chars(a):\n",
        "    sent = []\n",
        "    for word in a.split(' '):\n",
        "        if ('$' in word) | ('&' in word):\n",
        "            sent.append('')\n",
        "        else:\n",
        "            sent.append(word)\n",
        "    return ' '.join(sent)\n",
        "\n",
        "def remove_mult_spaces(text): # remove multiple spaces\n",
        "    return re.sub(\"\\s\\s+\" , \" \", text)"
      ],
      "metadata": {
        "id": "DCQQDuFBMKUs"
      },
      "id": "DCQQDuFBMKUs",
      "execution_count": null,
      "outputs": []
    },
    {
      "cell_type": "code",
      "source": [
        "texts_new = []\n",
        "for t in df.content:\n",
        "    texts_new.append(remove_mult_spaces(filter_chars(clean_hashtags(strip_all_entities(strip_emoji(t))))))"
      ],
      "metadata": {
        "colab": {
          "base_uri": "https://localhost:8080/"
        },
        "id": "AuTdHIMZNa99",
        "outputId": "bbf6940f-5a2b-4520-c63e-1003e8181174"
      },
      "id": "AuTdHIMZNa99",
      "execution_count": null,
      "outputs": [
        {
          "output_type": "stream",
          "name": "stderr",
          "text": [
            "/usr/local/lib/python3.7/dist-packages/ipykernel_launcher.py:2: DeprecationWarning: 'emoji.get_emoji_regexp()' is deprecated and will be removed in version 2.0.0. If you want to remove emoji from a string, consider the method emoji.replace_emoji(str, replace='').\n",
            "To hide this warning, pin/downgrade the package to 'emoji~=1.6.3'\n",
            "  \n"
          ]
        }
      ]
    },
    {
      "cell_type": "code",
      "source": [
        "df['content']=texts_new"
      ],
      "metadata": {
        "id": "xEA1Ej0ON0jO"
      },
      "id": "xEA1Ej0ON0jO",
      "execution_count": null,
      "outputs": []
    },
    {
      "cell_type": "code",
      "source": [
        "df.head()"
      ],
      "metadata": {
        "colab": {
          "base_uri": "https://localhost:8080/",
          "height": 206
        },
        "id": "CUY2fNCKN7E5",
        "outputId": "109b3bd0-bcc6-4fa8-d387-4c1a7a34020e"
      },
      "id": "CUY2fNCKN7E5",
      "execution_count": null,
      "outputs": [
        {
          "output_type": "execute_result",
          "data": {
            "text/plain": [
              "                                             content sentiment\n",
              "0  sometimes im not angry im hurt and theres a bi...     angry\n",
              "1                      not available for busy people     angry\n",
              "2  i do not exist to impress the world i exist to...     angry\n",
              "3  everything is getting expensive except some pe...     angry\n",
              "4         my phone screen is brighter than my future     angry"
            ],
            "text/html": [
              "\n",
              "  <div id=\"df-4518f50c-e0a4-4e4b-ba18-e2482c13dd3c\">\n",
              "    <div class=\"colab-df-container\">\n",
              "      <div>\n",
              "<style scoped>\n",
              "    .dataframe tbody tr th:only-of-type {\n",
              "        vertical-align: middle;\n",
              "    }\n",
              "\n",
              "    .dataframe tbody tr th {\n",
              "        vertical-align: top;\n",
              "    }\n",
              "\n",
              "    .dataframe thead th {\n",
              "        text-align: right;\n",
              "    }\n",
              "</style>\n",
              "<table border=\"1\" class=\"dataframe\">\n",
              "  <thead>\n",
              "    <tr style=\"text-align: right;\">\n",
              "      <th></th>\n",
              "      <th>content</th>\n",
              "      <th>sentiment</th>\n",
              "    </tr>\n",
              "  </thead>\n",
              "  <tbody>\n",
              "    <tr>\n",
              "      <th>0</th>\n",
              "      <td>sometimes im not angry im hurt and theres a bi...</td>\n",
              "      <td>angry</td>\n",
              "    </tr>\n",
              "    <tr>\n",
              "      <th>1</th>\n",
              "      <td>not available for busy people</td>\n",
              "      <td>angry</td>\n",
              "    </tr>\n",
              "    <tr>\n",
              "      <th>2</th>\n",
              "      <td>i do not exist to impress the world i exist to...</td>\n",
              "      <td>angry</td>\n",
              "    </tr>\n",
              "    <tr>\n",
              "      <th>3</th>\n",
              "      <td>everything is getting expensive except some pe...</td>\n",
              "      <td>angry</td>\n",
              "    </tr>\n",
              "    <tr>\n",
              "      <th>4</th>\n",
              "      <td>my phone screen is brighter than my future</td>\n",
              "      <td>angry</td>\n",
              "    </tr>\n",
              "  </tbody>\n",
              "</table>\n",
              "</div>\n",
              "      <button class=\"colab-df-convert\" onclick=\"convertToInteractive('df-4518f50c-e0a4-4e4b-ba18-e2482c13dd3c')\"\n",
              "              title=\"Convert this dataframe to an interactive table.\"\n",
              "              style=\"display:none;\">\n",
              "        \n",
              "  <svg xmlns=\"http://www.w3.org/2000/svg\" height=\"24px\"viewBox=\"0 0 24 24\"\n",
              "       width=\"24px\">\n",
              "    <path d=\"M0 0h24v24H0V0z\" fill=\"none\"/>\n",
              "    <path d=\"M18.56 5.44l.94 2.06.94-2.06 2.06-.94-2.06-.94-.94-2.06-.94 2.06-2.06.94zm-11 1L8.5 8.5l.94-2.06 2.06-.94-2.06-.94L8.5 2.5l-.94 2.06-2.06.94zm10 10l.94 2.06.94-2.06 2.06-.94-2.06-.94-.94-2.06-.94 2.06-2.06.94z\"/><path d=\"M17.41 7.96l-1.37-1.37c-.4-.4-.92-.59-1.43-.59-.52 0-1.04.2-1.43.59L10.3 9.45l-7.72 7.72c-.78.78-.78 2.05 0 2.83L4 21.41c.39.39.9.59 1.41.59.51 0 1.02-.2 1.41-.59l7.78-7.78 2.81-2.81c.8-.78.8-2.07 0-2.86zM5.41 20L4 18.59l7.72-7.72 1.47 1.35L5.41 20z\"/>\n",
              "  </svg>\n",
              "      </button>\n",
              "      \n",
              "  <style>\n",
              "    .colab-df-container {\n",
              "      display:flex;\n",
              "      flex-wrap:wrap;\n",
              "      gap: 12px;\n",
              "    }\n",
              "\n",
              "    .colab-df-convert {\n",
              "      background-color: #E8F0FE;\n",
              "      border: none;\n",
              "      border-radius: 50%;\n",
              "      cursor: pointer;\n",
              "      display: none;\n",
              "      fill: #1967D2;\n",
              "      height: 32px;\n",
              "      padding: 0 0 0 0;\n",
              "      width: 32px;\n",
              "    }\n",
              "\n",
              "    .colab-df-convert:hover {\n",
              "      background-color: #E2EBFA;\n",
              "      box-shadow: 0px 1px 2px rgba(60, 64, 67, 0.3), 0px 1px 3px 1px rgba(60, 64, 67, 0.15);\n",
              "      fill: #174EA6;\n",
              "    }\n",
              "\n",
              "    [theme=dark] .colab-df-convert {\n",
              "      background-color: #3B4455;\n",
              "      fill: #D2E3FC;\n",
              "    }\n",
              "\n",
              "    [theme=dark] .colab-df-convert:hover {\n",
              "      background-color: #434B5C;\n",
              "      box-shadow: 0px 1px 3px 1px rgba(0, 0, 0, 0.15);\n",
              "      filter: drop-shadow(0px 1px 2px rgba(0, 0, 0, 0.3));\n",
              "      fill: #FFFFFF;\n",
              "    }\n",
              "  </style>\n",
              "\n",
              "      <script>\n",
              "        const buttonEl =\n",
              "          document.querySelector('#df-4518f50c-e0a4-4e4b-ba18-e2482c13dd3c button.colab-df-convert');\n",
              "        buttonEl.style.display =\n",
              "          google.colab.kernel.accessAllowed ? 'block' : 'none';\n",
              "\n",
              "        async function convertToInteractive(key) {\n",
              "          const element = document.querySelector('#df-4518f50c-e0a4-4e4b-ba18-e2482c13dd3c');\n",
              "          const dataTable =\n",
              "            await google.colab.kernel.invokeFunction('convertToInteractive',\n",
              "                                                     [key], {});\n",
              "          if (!dataTable) return;\n",
              "\n",
              "          const docLinkHtml = 'Like what you see? Visit the ' +\n",
              "            '<a target=\"_blank\" href=https://colab.research.google.com/notebooks/data_table.ipynb>data table notebook</a>'\n",
              "            + ' to learn more about interactive tables.';\n",
              "          element.innerHTML = '';\n",
              "          dataTable['output_type'] = 'display_data';\n",
              "          await google.colab.output.renderOutput(dataTable, element);\n",
              "          const docLink = document.createElement('div');\n",
              "          docLink.innerHTML = docLinkHtml;\n",
              "          element.appendChild(docLink);\n",
              "        }\n",
              "      </script>\n",
              "    </div>\n",
              "  </div>\n",
              "  "
            ]
          },
          "metadata": {},
          "execution_count": 13
        }
      ]
    },
    {
      "cell_type": "code",
      "execution_count": null,
      "id": "8e5f4f46",
      "metadata": {
        "execution": {
          "iopub.execute_input": "2021-08-19T05:50:46.919588Z",
          "iopub.status.busy": "2021-08-19T05:50:46.917849Z",
          "iopub.status.idle": "2021-08-19T05:50:46.922518Z",
          "shell.execute_reply": "2021-08-19T05:50:46.923056Z",
          "shell.execute_reply.started": "2021-08-19T05:46:05.085043Z"
        },
        "papermill": {
          "duration": 0.037193,
          "end_time": "2021-08-19T05:50:46.923198",
          "exception": false,
          "start_time": "2021-08-19T05:50:46.886005",
          "status": "completed"
        },
        "tags": [],
        "colab": {
          "base_uri": "https://localhost:8080/"
        },
        "id": "8e5f4f46",
        "outputId": "215d0e30-2f7f-43be-db82-a9506b4962eb"
      },
      "outputs": [
        {
          "output_type": "stream",
          "name": "stdout",
          "text": [
            "['angry' 'happy' 'neutral' 'sad'] 4\n",
            "{0: 'angry', 1: 'happy', 2: 'neutral', 3: 'sad'}\n",
            "{'angry': 0, 'happy': 1, 'neutral': 2, 'sad': 3}\n"
          ]
        }
      ],
      "source": [
        "VOC_CLASSES = df['sentiment'].unique()\n",
        "LEN_CLASSES = len(VOC_CLASSES)\n",
        "encoding2label = dict(enumerate(VOC_CLASSES))\n",
        "label2encoding = {value: key for key, value in encoding2label.items()}\n",
        "\n",
        "print(VOC_CLASSES, LEN_CLASSES)\n",
        "print(encoding2label)\n",
        "print(label2encoding)"
      ]
    },
    {
      "cell_type": "code",
      "execution_count": null,
      "id": "de72d4e4",
      "metadata": {
        "execution": {
          "iopub.execute_input": "2021-08-19T05:50:46.977224Z",
          "iopub.status.busy": "2021-08-19T05:50:46.976658Z",
          "iopub.status.idle": "2021-08-19T05:50:46.981675Z",
          "shell.execute_reply": "2021-08-19T05:50:46.981020Z",
          "shell.execute_reply.started": "2021-08-19T05:46:05.097804Z"
        },
        "papermill": {
          "duration": 0.034329,
          "end_time": "2021-08-19T05:50:46.981821",
          "exception": false,
          "start_time": "2021-08-19T05:50:46.947492",
          "status": "completed"
        },
        "tags": [],
        "colab": {
          "base_uri": "https://localhost:8080/"
        },
        "id": "de72d4e4",
        "outputId": "e0eb1f32-d4c9-421c-a661-9e8078f21bed"
      },
      "outputs": [
        {
          "output_type": "stream",
          "name": "stdout",
          "text": [
            "2731 2731\n"
          ]
        }
      ],
      "source": [
        "X = df.content.values\n",
        "y = [label2encoding[l] for l in df.sentiment.values]\n",
        "print(len(X), len(y))"
      ]
    },
    {
      "cell_type": "code",
      "execution_count": null,
      "id": "9a408fe8",
      "metadata": {
        "execution": {
          "iopub.execute_input": "2021-08-19T05:50:47.039009Z",
          "iopub.status.busy": "2021-08-19T05:50:47.038471Z",
          "iopub.status.idle": "2021-08-19T05:50:47.057087Z",
          "shell.execute_reply": "2021-08-19T05:50:47.056619Z",
          "shell.execute_reply.started": "2021-08-19T05:46:05.108557Z"
        },
        "papermill": {
          "duration": 0.049812,
          "end_time": "2021-08-19T05:50:47.057201",
          "exception": false,
          "start_time": "2021-08-19T05:50:47.007389",
          "status": "completed"
        },
        "tags": [],
        "id": "9a408fe8"
      },
      "outputs": [],
      "source": [
        "# Split the data into train and test\n",
        "x_train_text, x_test_text, y_train, y_test = train_test_split(X, y, test_size=0.2, random_state=42, stratify=y)"
      ]
    },
    {
      "cell_type": "markdown",
      "id": "6916df38",
      "metadata": {
        "papermill": {
          "duration": 0.024353,
          "end_time": "2021-08-19T05:50:47.107688",
          "exception": false,
          "start_time": "2021-08-19T05:50:47.083335",
          "status": "completed"
        },
        "tags": [],
        "id": "6916df38"
      },
      "source": [
        "# Tokenaizer sentences\n",
        "this part will be change if use BERT"
      ]
    },
    {
      "cell_type": "code",
      "execution_count": null,
      "id": "9fe38a65",
      "metadata": {
        "execution": {
          "iopub.execute_input": "2021-08-19T05:50:47.161856Z",
          "iopub.status.busy": "2021-08-19T05:50:47.161210Z",
          "iopub.status.idle": "2021-08-19T05:50:47.166267Z",
          "shell.execute_reply": "2021-08-19T05:50:47.165856Z",
          "shell.execute_reply.started": "2021-08-19T05:46:05.141462Z"
        },
        "papermill": {
          "duration": 0.034057,
          "end_time": "2021-08-19T05:50:47.166378",
          "exception": false,
          "start_time": "2021-08-19T05:50:47.132321",
          "status": "completed"
        },
        "tags": [],
        "colab": {
          "base_uri": "https://localhost:8080/"
        },
        "id": "9fe38a65",
        "outputId": "6661b0ed-9524-446b-beb6-01f09c95435e"
      },
      "outputs": [
        {
          "output_type": "stream",
          "name": "stdout",
          "text": [
            "angry: angry take a deep breath before you speak because your mouth acts quicker than your brain\n",
            "angry: people change things go wrong shit happens but life goes on\n",
            "sad: you hurt me but i still love you true love isnt found its built my silence is just another word for pain you killed what was left of the good in me i wish i could ignore you like you ignore me sometimes all you need is one person who cares sometimes all you need is one person who cares im that person everyone replaces after a whilexa0 sad whatsapp statusxa0 i dont care for the people who dont care for me no beauty shines brighter than that of a good heart if you give up on me im going to give up on me too ive been sad for years dont tell me it gets better behind my smile is everything youll never understand i stay home alone listen to music and think too much the worst kind of sad is not being able to explain why tears are words too painful for a broken heart to speak i like to be alone but i would rather be alone with you i say i dont care anymore but truth is i care too much sad quotesxa0 no matter how far you are you are always in my thoughts i say i dont care anymore but truth is i care too much i am tired of fightin for once i want to be fought for i hope youll realize how much youre hurting me some day every time i trust somebody they show me why i shouldnt i really need to stop being so emotional about everything the root of disappointment comes from holding expectation sad whatsapp statusxa0 it hurts to let go but sometimes it hurts more to hold on i miss the the time when i actually meant something to you i wanted to text you but i remembered we dont talk anymore i wanted to text you but i remembered we dont talk anymore oh im sorry i forgot i only exist when you need something smiling has always been easier than explaining why youre sad i wish my brain had a map to tell me where my heart should go its so hard to pretend not to love a person when you really do love sometimes comes like a dream and leaves likes a nightmare sad status for whatsappxa0 sometimes it takes losing something realize to what youve had i feel like i waiting for something that isnt going to happen its not that i wanna have it its just that i wanna deserve it trust is like papers once its crumpled it cant be perfect again its sad how most people become who they promised theyd never be even when im hurting so bad inside ill still smile say im fine wanted by many taken by none talking to some just waiting for one when people treat you like they dont care believe them they dont every birth is paid by death every happiness is paid by unhappiness sad whatsapp statusxa0 you know that nothing will change but for some reason you still wait sick of crying tired of trying yes im smiling but inside im dying theres nothing more depressing than having it all still feeling sad technically i am single but my heart is taken by someone i cant have love the hearts that hurts you but never hurt the heart that loves you a relationship is only for two but some bitches dont know how to count use your smile to change the world dont let the world change your smile you may not be pushing me away but youre not fighting to keep me either there is nothing more depressing than having it all and still feeling sad nobody deserves your tears but whoever deserves them will not make you cry sick of crying tired of trying yes im still smiling but inside im dying sad quotesxa0 find someone who knows that youre not perfect but treats you as if you are the word happiness would lose its meaning if it were not balanced by sadness and sometimes you just have forget about that person you once loved move on worst kind of pain is when youre smiling just to stop the tears from falling its never the tears that measure the pain sometimes its take smile we fake i feel like a balloonlooking bright cheerful but empty and lonely inside isnt it sad when you get hurt so much you can finally say im used to it the toughest part of letting go is realizing that the other person already did i keep myself busy with things i do but every time i pause i still think of you you lose yourself trying to hold on to someone who doesnt care about losing you and sometimes you just have to forget about that person you once loved move on at least tell a lie that you love me i will live the rest of my life with that sad status for whatsappxa0 people cry not because theyre weak its because theyve been strong for too long you touched my heart with a thousand pleasures and broke it in to million pieces i know they say that first love is the sweetest but that first cut is the deepest its not always the tears that measure the pain sometimes its the smile we fake the worst kind of pain is when youre smiling just to stop the tears from falling im not upset that you lied to me im upset that from now on i cant believe you people cry not because theyre weak its because theyve been strong for too long when you truly love someone you given everything you can and never expect a return sad whatsapp statusxa0 its sad when you realize you arent as important to someone as you thought you are i did the searching and remembering heshe did the disappearing and the forgetting when i cry about one thing i end up crying about everything thats messed up my life even if we cant be together in the end i am still glad you were a part of my life people leave because its easier to walk away than to fight for what they really want everything isxa0complicated even those things that seem flat in their bleakness or sadness every thought is a battle every breath is a war and i dont think im winning anymore nothing hurts more than realizing he meant everything to you you meant nothing to him everythings complicated even those things that seem flat in their bleakness or sadness moving on sound easy but i died thousand times in pain just to appreciate this phrase yeah shes smiling but dont let that fool you look into her eyes shes breaking inside sad quotesxa0 i was playing back a thousand memories baby thinking about everything weve been through words but deeper than knives a knife can be pulled out words are embedded into out soul yeah shes smiling but dont let that fool you look into her eyes shes breaking inside it doesnt matter who hurt you or broke you down what matters is who made you smile again i dont know why they call it heartbreak it feels like every part of my body is broken too people change for two reason they have learned a lot or they have been hurt too many times sad whatsapp statusxa0 sometimes the girl whos always been there for everyone else need someone to be there for her everyone want happiness no one wants pain but you cant make a rainbow without a little rain there are so many things that make you happy dont focus too much on things that make you sad heavy hearts like heavy clouds in the sky are best relieved by the letting of a little water sad whatsapp statusxa0 never expect things to be happen because it better to feel surprised than to feel disappointed pain is the only thing that makes me feel alivei will never be good enough for you i got that it hurts the most when the person who made you feel so special makes you feel so unwanted today letting go doesnt mean youve stopped caring it means you stopped trying to force someone too i think im afraid to be happy because whenever i do get too happy something bad always happens the worst person to be around is someone who complains about everything and appreciates nothing the saddest people ive ever met in life are the ones who dont care deeply about anything at all smile its easier than explaining why you re sadi dont think you know what you are doing to me i hate the fact that you ignore me for so long then you start talking to me like nothing happened sad status for whatsappxa0 i think im afraid to be happy because whenever i do get too happy something bad always happens sometimes you got to accept the fact that certain things will never go back to how they used to be the moment when you burst out crying in you room you realize that no one know how unhappy you are the people experiencing the most pain tend to be the ones who are always trying to make others smile i will always care for you even if were not together even if were far far away from each other waiting is painful forgetting is painful but not knowing which to do is the worse kind of suffering crying is the only way your eyes speak when your mouth cant explain how things made your heart break eight letters three words one regret i miss youi stay home alone listen to music think too much i will always care for you even if were not together and even if were far far away from each other sad whatsapp statusxa0 sometimes crying is the only way your eyes speak when you mouth cant explain how broken your heart is i didnt lose you you lost me youll search for me inside of everyone youre with and i wont be found a breakup is like a broken mirror its better to leave it than hurt yourself trying to pick up the pieces so i guess it ends here we will go out separate ways hope that well see each other somewhere in future if you can learn from the worst times of your life youll be ready to go into the best times of your life sad whatsapp statusxa0 cry as much as you want to but just make sure when youre finished you never cry for the same reason again im sorry i tried being prefect but its just not mei have been sad for years dont tell me it gets better i have a habit of falling too hard and falling too fast and getting my hopes up for something i know wont last sometimes when i say i am okay i want someone too look me in the eyes hug me tight say i know youre not you treat me like shit for no reason yet i m still in love with you stop breaking my heart i just want to love you sometimes i dont tell people whats wrong because most of the time theyre just being curious not because they care i am fighting alone being depressed is an everyday fight i am tired of being sad now trustnothing feels right one get used to being alone but its enough to break it for a day you have to get used to it again from the beginning you cant control everything that happens to you but you can control how you react to the things that are out of your control the loneliest moment in someones life is when they are watching their whole world fall apart and all they do is stare blankly sad statusxa0 apologizing doesnt always mean youre wrong the other person is right it means you value your relationship more than you ego the pain is not on the day of missing our dear ones the pain is really when you love without them with their presence in your mindxa0xa0sad quotes youre the first person who broke my heart for the rest of my life you will always be the on who hurt me the most dont forget that have you ever noticed that the more special you treat someone the more that someone takes you for granted as if you wont ever change expression of eyes can be read by everyonebut depression of heart can be read only by best onecare for everyone but dont lose the best one\n",
            "sad: i feel so alone sometimes\n",
            "neutral: socal stoked or maybe not tomorrow\n"
          ]
        }
      ],
      "source": [
        "for x, y in zip(x_train_text[:5], y_train[:5]):\n",
        "  print('{}: {}'.format(encoding2label[y], x))"
      ]
    },
    {
      "cell_type": "code",
      "execution_count": null,
      "id": "6cb3c8ec",
      "metadata": {
        "execution": {
          "iopub.execute_input": "2021-08-19T05:50:47.244138Z",
          "iopub.status.busy": "2021-08-19T05:50:47.220285Z",
          "iopub.status.idle": "2021-08-19T05:50:47.499981Z",
          "shell.execute_reply": "2021-08-19T05:50:47.498611Z",
          "shell.execute_reply.started": "2021-08-19T05:46:05.150046Z"
        },
        "papermill": {
          "duration": 0.308838,
          "end_time": "2021-08-19T05:50:47.500101",
          "exception": false,
          "start_time": "2021-08-19T05:50:47.191263",
          "status": "completed"
        },
        "tags": [],
        "colab": {
          "base_uri": "https://localhost:8080/",
          "height": 116,
          "referenced_widgets": [
            "9f4011e2637d422db62ff1ee36fc156b",
            "da77ec3a5338481c82b50781f1ca06fb",
            "46a0e91148944a1a95823af40d868766",
            "414cc61e345848c5bd4a5e22bcc57750",
            "84070279fe63484a88b3c25239e487a6",
            "8da1030e63b64f6e968e26b76ee2ae23",
            "0fae773c26084ff5bbf4cd09f6fb1aae",
            "d41909b804f44c5b9e76d427e1396274",
            "01bb07bded93438fbd99fc2f4bdca170",
            "d8f90be118714a4491a9fbf8bed79bba",
            "676ead61ab06425ab0cd8fe0b02712d7",
            "b54a580e28594700bb503cdabfdac16a",
            "65c751e037534afbaae2d77209e3b873",
            "dc084308f3f04a5daa08381530027344",
            "09b1621049a84b9e80c9654b147e0f22",
            "7d531139a8ad4e9c92bc509130bf9ff9",
            "950f8f095cb0460a81cd2015f44ac3a9",
            "598ebafa58de44ceb35a80690cbe0b1f",
            "1e9c82672ed541e1ad0ac81499788e8e",
            "9848eff7b08b4b2d9affb32738d37113",
            "02930ba7003c40c4a7694271e68a4d07",
            "a79c2974c9ac432f8398413f45cd761e"
          ]
        },
        "id": "6cb3c8ec",
        "outputId": "dc91a92c-3200-45f6-8ba7-486c719cb43d"
      },
      "outputs": [
        {
          "output_type": "stream",
          "name": "stdout",
          "text": [
            "Before Tokenize:  people change things go wrong shit happens but life goes on\n",
            "After Tokenize:  ['people', 'change', 'things', 'go', 'wrong', 'shit', 'happens', 'but', 'life', 'goes', 'on']\n"
          ]
        },
        {
          "output_type": "display_data",
          "data": {
            "text/plain": [
              "  0%|          | 0/2184 [00:00<?, ?it/s]"
            ],
            "application/vnd.jupyter.widget-view+json": {
              "version_major": 2,
              "version_minor": 0,
              "model_id": "9f4011e2637d422db62ff1ee36fc156b"
            }
          },
          "metadata": {}
        },
        {
          "output_type": "display_data",
          "data": {
            "text/plain": [
              "  0%|          | 0/547 [00:00<?, ?it/s]"
            ],
            "application/vnd.jupyter.widget-view+json": {
              "version_major": 2,
              "version_minor": 0,
              "model_id": "b54a580e28594700bb503cdabfdac16a"
            }
          },
          "metadata": {}
        }
      ],
      "source": [
        "tokenizer = get_tokenizer(\"basic_english\")\n",
        "\n",
        "print('Before Tokenize: ', x_train_text[1])\n",
        "print('After Tokenize: ', tokenizer(x_train_text[1]))\n",
        "x_train_token = [tokenizer(s) for s in tqdm(x_train_text)]\n",
        "x_test_token = [tokenizer(s) for s in tqdm(x_test_text)]"
      ]
    },
    {
      "cell_type": "code",
      "execution_count": null,
      "id": "11cfb89f",
      "metadata": {
        "execution": {
          "iopub.execute_input": "2021-08-19T05:50:47.569611Z",
          "iopub.status.busy": "2021-08-19T05:50:47.559299Z",
          "iopub.status.idle": "2021-08-19T05:50:47.627525Z",
          "shell.execute_reply": "2021-08-19T05:50:47.628080Z",
          "shell.execute_reply.started": "2021-08-19T05:46:05.452567Z"
        },
        "papermill": {
          "duration": 0.102234,
          "end_time": "2021-08-19T05:50:47.628272",
          "exception": false,
          "start_time": "2021-08-19T05:50:47.526038",
          "status": "completed"
        },
        "tags": [],
        "colab": {
          "base_uri": "https://localhost:8080/"
        },
        "id": "11cfb89f",
        "outputId": "bec546f7-dd17-44cf-df1c-5d181c9db39e"
      },
      "outputs": [
        {
          "output_type": "stream",
          "name": "stdout",
          "text": [
            "Number of different Tokens in our Dataset: 3615\n",
            "['you', 'i', 'the', 'to', 'a', 'is', 'for', 'that', 'of', 'but', 'it', 'me', 'dont', 'when', 'be', 'and', 'your', 'angry', 'my', 'not', 'sad', 'in', 'are', 'will', 'people', 'im', 'if', 'its', 'anger', 'on', 'just', 'who', 'too', 'because', 'youre', 'never', 'sometimes', 'someone', 'than', 'love', 'have', 'make', 'one', 'so', 'they', 'like', 'with', 'statusxa0', 'can', 'heart', 'person', 'always', 'how', 'life', 'hurt', 'whatsapp', 'care', 'everything', 'about', 'smile', 'by', 'things', 'pain', 'need', 'know', 'even', 'what', 'am', 'say', 'get', 'go', 'we', 'do', 'still', 'nothing', 'cant', 'much', 'out', 'time', 'more', 'from', 'think', 'up', 'feel', 'or', 'their', 'something', 'tears', 'no', 'change', 'every', 'as', 'all', 'been', 'being', 'at', 'reason', 'were', 'inside', 'smiling']\n"
          ]
        }
      ],
      "source": [
        "words = Counter()\n",
        "for s in x_train_token:\n",
        "  for w in s:\n",
        "    words[w] += 1\n",
        "\n",
        "sorted_words = list(words.keys())\n",
        "sorted_words.sort(key=lambda w: words[w], reverse=True)\n",
        "print(f\"Number of different Tokens in our Dataset: {len(sorted_words)}\")\n",
        "print(sorted_words[:100])"
      ]
    },
    {
      "cell_type": "code",
      "execution_count": null,
      "id": "cdb2ed6c",
      "metadata": {
        "execution": {
          "iopub.execute_input": "2021-08-19T05:50:47.700610Z",
          "iopub.status.busy": "2021-08-19T05:50:47.700041Z",
          "iopub.status.idle": "2021-08-19T05:50:47.979816Z",
          "shell.execute_reply": "2021-08-19T05:50:47.979341Z",
          "shell.execute_reply.started": "2021-08-19T05:46:05.530124Z"
        },
        "papermill": {
          "duration": 0.325024,
          "end_time": "2021-08-19T05:50:47.979934",
          "exception": false,
          "start_time": "2021-08-19T05:50:47.654910",
          "status": "completed"
        },
        "tags": [],
        "colab": {
          "base_uri": "https://localhost:8080/",
          "height": 282
        },
        "id": "cdb2ed6c",
        "outputId": "b488d38a-171e-492c-ad39-1d2877e12f09"
      },
      "outputs": [
        {
          "output_type": "stream",
          "name": "stdout",
          "text": [
            "The 6.5836791147994465% most common words account for the 80.00652610854728% of the occurrences\n"
          ]
        },
        {
          "output_type": "display_data",
          "data": {
            "text/plain": [
              "<Figure size 432x288 with 1 Axes>"
            ],
            "image/png": "[encoded data removed]"
          },
          "metadata": {
            "needs_background": "light"
          }
        }
      ],
      "source": [
        "count_occurences = sum(words.values())\n",
        "\n",
        "accumulated = 0\n",
        "counter = 0\n",
        "\n",
        "while accumulated < count_occurences * 0.8:\n",
        "  accumulated += words[sorted_words[counter]]\n",
        "  counter += 1\n",
        "\n",
        "print(f\"The {counter * 100 / len(words)}% most common words \"\n",
        "      f\"account for the {accumulated * 100 / count_occurences}% of the occurrences\")\n",
        "plt.bar(range(100), [words[w] for w in sorted_words[:100]])\n",
        "plt.show()"
      ]
    },
    {
      "cell_type": "code",
      "execution_count": null,
      "id": "9bcad3f2",
      "metadata": {
        "execution": {
          "iopub.execute_input": "2021-08-19T05:50:48.037765Z",
          "iopub.status.busy": "2021-08-19T05:50:48.037064Z",
          "iopub.status.idle": "2021-08-19T05:50:48.039889Z",
          "shell.execute_reply": "2021-08-19T05:50:48.039456Z",
          "shell.execute_reply.started": "2021-08-19T05:46:05.833870Z"
        },
        "papermill": {
          "duration": 0.033075,
          "end_time": "2021-08-19T05:50:48.039998",
          "exception": false,
          "start_time": "2021-08-19T05:50:48.006923",
          "status": "completed"
        },
        "tags": [],
        "id": "9bcad3f2"
      },
      "outputs": [],
      "source": [
        "num_words_dict = 30000\n",
        "# We reserve two numbers for special tokens.\n",
        "most_used_words = sorted_words[:num_words_dict-2]"
      ]
    },
    {
      "cell_type": "code",
      "execution_count": null,
      "id": "c936505e",
      "metadata": {
        "execution": {
          "iopub.execute_input": "2021-08-19T05:50:48.108285Z",
          "iopub.status.busy": "2021-08-19T05:50:48.101244Z",
          "iopub.status.idle": "2021-08-19T05:50:48.110831Z",
          "shell.execute_reply": "2021-08-19T05:50:48.110402Z",
          "shell.execute_reply.started": "2021-08-19T05:46:05.840402Z"
        },
        "papermill": {
          "duration": 0.044107,
          "end_time": "2021-08-19T05:50:48.110941",
          "exception": false,
          "start_time": "2021-08-19T05:50:48.066834",
          "status": "completed"
        },
        "tags": [],
        "id": "c936505e"
      },
      "outputs": [],
      "source": [
        "# dictionary to go from words to idx \n",
        "word_to_idx = {}\n",
        "# dictionary to go from idx to words (just in case) \n",
        "idx_to_word = {}\n",
        "\n",
        "\n",
        "# We include the special tokens first\n",
        "PAD_token = 0   \n",
        "UNK_token = 1\n",
        "\n",
        "word_to_idx['PAD'] = PAD_token\n",
        "word_to_idx['UNK'] = UNK_token\n",
        "\n",
        "idx_to_word[PAD_token] = 'PAD'\n",
        "idx_to_word[UNK_token] = 'UNK'\n",
        "\n",
        "# We popullate our dictionaries with the most used words\n",
        "for num,word in enumerate(most_used_words):\n",
        "  word_to_idx[word] = num + 2\n",
        "  idx_to_word[num+2] = word"
      ]
    },
    {
      "cell_type": "code",
      "execution_count": null,
      "id": "d504ca23",
      "metadata": {
        "execution": {
          "iopub.execute_input": "2021-08-19T05:50:48.169592Z",
          "iopub.status.busy": "2021-08-19T05:50:48.168824Z",
          "iopub.status.idle": "2021-08-19T05:50:48.171391Z",
          "shell.execute_reply": "2021-08-19T05:50:48.170999Z",
          "shell.execute_reply.started": "2021-08-19T05:46:05.860541Z"
        },
        "papermill": {
          "duration": 0.033907,
          "end_time": "2021-08-19T05:50:48.171496",
          "exception": false,
          "start_time": "2021-08-19T05:50:48.137589",
          "status": "completed"
        },
        "tags": [],
        "id": "d504ca23"
      },
      "outputs": [],
      "source": [
        "# A function to convert list of tokens to list of indexes\n",
        "def tokens_to_idx(sentences_tokens,word_to_idx):\n",
        "  sentences_idx = []\n",
        "  for sent in sentences_tokens:\n",
        "    sent_idx = []\n",
        "    for word in sent:\n",
        "      if word in word_to_idx:\n",
        "        sent_idx.append(word_to_idx[word])\n",
        "      else:\n",
        "        sent_idx.append(word_to_idx['UNK'])\n",
        "    sentences_idx.append(sent_idx)\n",
        "  return sentences_idx"
      ]
    },
    {
      "cell_type": "code",
      "execution_count": null,
      "id": "01e61cc1",
      "metadata": {
        "execution": {
          "iopub.execute_input": "2021-08-19T05:50:48.273298Z",
          "iopub.status.busy": "2021-08-19T05:50:48.263125Z",
          "iopub.status.idle": "2021-08-19T05:50:48.285492Z",
          "shell.execute_reply": "2021-08-19T05:50:48.285898Z",
          "shell.execute_reply.started": "2021-08-19T05:46:05.873033Z"
        },
        "papermill": {
          "duration": 0.088021,
          "end_time": "2021-08-19T05:50:48.286043",
          "exception": false,
          "start_time": "2021-08-19T05:50:48.198022",
          "status": "completed"
        },
        "tags": [],
        "id": "01e61cc1"
      },
      "outputs": [],
      "source": [
        "x_train_idx = tokens_to_idx(x_train_token,word_to_idx)\n",
        "x_test_idx = tokens_to_idx(x_test_token,word_to_idx)"
      ]
    },
    {
      "cell_type": "code",
      "execution_count": null,
      "id": "8cabb46e",
      "metadata": {
        "execution": {
          "iopub.execute_input": "2021-08-19T05:50:48.343722Z",
          "iopub.status.busy": "2021-08-19T05:50:48.343108Z",
          "iopub.status.idle": "2021-08-19T05:50:48.347824Z",
          "shell.execute_reply": "2021-08-19T05:50:48.348896Z",
          "shell.execute_reply.started": "2021-08-19T05:46:05.940767Z"
        },
        "papermill": {
          "duration": 0.036285,
          "end_time": "2021-08-19T05:50:48.349064",
          "exception": false,
          "start_time": "2021-08-19T05:50:48.312779",
          "status": "completed"
        },
        "tags": [],
        "colab": {
          "base_uri": "https://localhost:8080/"
        },
        "id": "8cabb46e",
        "outputId": "669a5884-556a-4054-dd6f-0c9da15c3564"
      },
      "outputs": [
        {
          "output_type": "stream",
          "name": "stdout",
          "text": [
            "Before converting:  ['people', 'change', 'things', 'go', 'wrong', 'shit', 'happens', 'but', 'life', 'goes', 'on']\n",
            "After converting:  [26, 91, 63, 72, 152, 322, 148, 11, 55, 609, 31]\n"
          ]
        }
      ],
      "source": [
        "some_number = 1\n",
        "print('Before converting: ', x_train_token[some_number])\n",
        "print('After converting: ', x_train_idx[some_number])"
      ]
    },
    {
      "cell_type": "code",
      "execution_count": null,
      "id": "873a677f",
      "metadata": {
        "execution": {
          "iopub.execute_input": "2021-08-19T05:50:48.411245Z",
          "iopub.status.busy": "2021-08-19T05:50:48.410743Z",
          "iopub.status.idle": "2021-08-19T05:50:48.417877Z",
          "shell.execute_reply": "2021-08-19T05:50:48.417215Z",
          "shell.execute_reply.started": "2021-08-19T05:46:05.948912Z"
        },
        "papermill": {
          "duration": 0.041607,
          "end_time": "2021-08-19T05:50:48.418055",
          "exception": false,
          "start_time": "2021-08-19T05:50:48.376448",
          "status": "completed"
        },
        "tags": [],
        "colab": {
          "base_uri": "https://localhost:8080/"
        },
        "id": "873a677f",
        "outputId": "8d554131-3539-4e8c-9fcb-5c16a46e398c"
      },
      "outputs": [
        {
          "output_type": "stream",
          "name": "stdout",
          "text": [
            "Max tweet word length:  2122\n",
            "Mean tweet word length:  13.0\n",
            "99% percent under:  2122.0\n"
          ]
        }
      ],
      "source": [
        "tweet_lens = np.asarray([len(sentence) for sentence in x_train_idx])\n",
        "print('Max tweet word length: ',tweet_lens.max())\n",
        "print('Mean tweet word length: ',np.median(tweet_lens))\n",
        "print('99% percent under: ',np.quantile(tweet_lens,0.99))"
      ]
    },
    {
      "cell_type": "code",
      "execution_count": null,
      "id": "d18ef736",
      "metadata": {
        "execution": {
          "iopub.execute_input": "2021-08-19T05:50:48.479241Z",
          "iopub.status.busy": "2021-08-19T05:50:48.478601Z",
          "iopub.status.idle": "2021-08-19T05:50:48.481415Z",
          "shell.execute_reply": "2021-08-19T05:50:48.481815Z",
          "shell.execute_reply.started": "2021-08-19T05:46:05.965233Z"
        },
        "papermill": {
          "duration": 0.036078,
          "end_time": "2021-08-19T05:50:48.481944",
          "exception": false,
          "start_time": "2021-08-19T05:50:48.445866",
          "status": "completed"
        },
        "tags": [],
        "id": "d18ef736"
      },
      "outputs": [],
      "source": [
        "# We choose the max length\n",
        "max_length = 40\n",
        "\n",
        "# A function to make all the sequence have the same lenght\n",
        "# Note that the output is a Numpy matrix\n",
        "def padding(sentences, seq_len):\n",
        "  features = np.zeros((len(sentences), seq_len),dtype=int)\n",
        "  for ii, tweet in enumerate(sentences):\n",
        "    len_tweet = len(tweet) \n",
        "    if len_tweet != 0:\n",
        "      if len_tweet <= seq_len:\n",
        "        # If its shorter, we fill with zeros (the padding Token index)\n",
        "        features[ii, -len(tweet):] = np.array(tweet)[:seq_len]\n",
        "      if len_tweet > seq_len:\n",
        "        # If its larger, we take the last 'seq_len' indexes\n",
        "        features[ii, :] = np.array(tweet)[-seq_len:]\n",
        "  return features"
      ]
    },
    {
      "cell_type": "code",
      "execution_count": null,
      "id": "ede05fd2",
      "metadata": {
        "execution": {
          "iopub.execute_input": "2021-08-19T05:50:48.548820Z",
          "iopub.status.busy": "2021-08-19T05:50:48.541417Z",
          "iopub.status.idle": "2021-08-19T05:50:48.642818Z",
          "shell.execute_reply": "2021-08-19T05:50:48.642365Z",
          "shell.execute_reply.started": "2021-08-19T05:46:05.973504Z"
        },
        "papermill": {
          "duration": 0.13285,
          "end_time": "2021-08-19T05:50:48.642941",
          "exception": false,
          "start_time": "2021-08-19T05:50:48.510091",
          "status": "completed"
        },
        "tags": [],
        "id": "ede05fd2"
      },
      "outputs": [],
      "source": [
        "# We convert our list of tokens into a numpy matrix\n",
        "# where all instances have the same lenght\n",
        "x_train_pad = padding(x_train_idx,max_length)\n",
        "x_test_pad = padding(x_test_idx,max_length)\n",
        "\n",
        "# We convert our target list a numpy matrix\n",
        "y_train_np = np.asarray(y_train)\n",
        "y_test_np = np.asarray(y_test)"
      ]
    },
    {
      "cell_type": "code",
      "execution_count": null,
      "id": "4a4ef7f7",
      "metadata": {
        "execution": {
          "iopub.execute_input": "2021-08-19T05:50:48.702986Z",
          "iopub.status.busy": "2021-08-19T05:50:48.702436Z",
          "iopub.status.idle": "2021-08-19T05:50:48.705521Z",
          "shell.execute_reply": "2021-08-19T05:50:48.706174Z",
          "shell.execute_reply.started": "2021-08-19T05:46:06.083505Z"
        },
        "papermill": {
          "duration": 0.035758,
          "end_time": "2021-08-19T05:50:48.706337",
          "exception": false,
          "start_time": "2021-08-19T05:50:48.670579",
          "status": "completed"
        },
        "tags": [],
        "colab": {
          "base_uri": "https://localhost:8080/"
        },
        "id": "4a4ef7f7",
        "outputId": "19f7bd8f-3537-4180-c785-3dede816305c"
      },
      "outputs": [
        {
          "output_type": "stream",
          "name": "stdout",
          "text": [
            "Before padding:  [3, 85, 45, 114, 38]\n",
            "After padding:  [  0   0   0   0   0   0   0   0   0   0   0   0   0   0   0   0   0   0\n",
            "   0   0   0   0   0   0   0   0   0   0   0   0   0   0   0   0   0   3\n",
            "  85  45 114  38]\n"
          ]
        }
      ],
      "source": [
        "some_number = 3\n",
        "print('Before padding: ', x_train_idx[some_number])\n",
        "print('After padding: ', x_train_pad[some_number])"
      ]
    },
    {
      "cell_type": "markdown",
      "id": "208e01a7",
      "metadata": {
        "papermill": {
          "duration": 0.028488,
          "end_time": "2021-08-19T05:50:48.763284",
          "exception": false,
          "start_time": "2021-08-19T05:50:48.734796",
          "status": "completed"
        },
        "tags": [],
        "id": "208e01a7"
      },
      "source": [
        "# Define dataloader and model"
      ]
    },
    {
      "cell_type": "code",
      "execution_count": null,
      "id": "b2c6a49b",
      "metadata": {
        "execution": {
          "iopub.execute_input": "2021-08-19T05:50:48.834003Z",
          "iopub.status.busy": "2021-08-19T05:50:48.833207Z",
          "iopub.status.idle": "2021-08-19T05:50:48.835913Z",
          "shell.execute_reply": "2021-08-19T05:50:48.835398Z",
          "shell.execute_reply.started": "2021-08-19T05:46:06.094399Z"
        },
        "papermill": {
          "duration": 0.044839,
          "end_time": "2021-08-19T05:50:48.836035",
          "exception": false,
          "start_time": "2021-08-19T05:50:48.791196",
          "status": "completed"
        },
        "tags": [],
        "id": "b2c6a49b"
      },
      "outputs": [],
      "source": [
        "# create Tensor datasets\n",
        "train_data = TensorDataset(torch.from_numpy(x_train_pad), torch.from_numpy(y_train_np))\n",
        "test_data = TensorDataset(torch.from_numpy(x_test_pad), torch.from_numpy(y_test_np))\n",
        "\n",
        "# Batch size (this is an important hyperparameter)\n",
        "batch_size = 150\n",
        "\n",
        "# dataloaders\n",
        "# make sure to SHUFFLE your data\n",
        "train_loader = DataLoader(train_data, shuffle=True, batch_size=batch_size, drop_last = True)\n",
        "test_loader = DataLoader(test_data, shuffle=True, batch_size=batch_size, drop_last = True)"
      ]
    },
    {
      "cell_type": "code",
      "execution_count": null,
      "id": "ad1938c1",
      "metadata": {
        "execution": {
          "iopub.execute_input": "2021-08-19T05:50:48.897082Z",
          "iopub.status.busy": "2021-08-19T05:50:48.896457Z",
          "iopub.status.idle": "2021-08-19T05:50:48.932143Z",
          "shell.execute_reply": "2021-08-19T05:50:48.931731Z",
          "shell.execute_reply.started": "2021-08-19T05:46:06.110295Z"
        },
        "papermill": {
          "duration": 0.068738,
          "end_time": "2021-08-19T05:50:48.932255",
          "exception": false,
          "start_time": "2021-08-19T05:50:48.863517",
          "status": "completed"
        },
        "tags": [],
        "colab": {
          "base_uri": "https://localhost:8080/"
        },
        "id": "ad1938c1",
        "outputId": "8107d53d-b0b8-4574-a530-d4dbf02702d4"
      },
      "outputs": [
        {
          "output_type": "stream",
          "name": "stdout",
          "text": [
            "x size:  torch.Size([150, 40]) Y size torch.Size([150])\n"
          ]
        }
      ],
      "source": [
        "# Obtain one batch of training data\n",
        "dataiter = iter(train_loader)\n",
        "sample_x, sample_y = dataiter.next()\n",
        "\n",
        "print('x size: ', sample_x.size(), 'Y size', sample_y.size()) # batch_size, seq_length\n",
        "# print('Sample input: \\n', sample_x)\n",
        "# print('Sample output: \\n', sample_y)"
      ]
    },
    {
      "cell_type": "code",
      "execution_count": null,
      "id": "7fdb0366",
      "metadata": {
        "execution": {
          "iopub.execute_input": "2021-08-19T05:50:48.999755Z",
          "iopub.status.busy": "2021-08-19T05:50:48.995650Z",
          "iopub.status.idle": "2021-08-19T05:50:49.002330Z",
          "shell.execute_reply": "2021-08-19T05:50:49.001889Z",
          "shell.execute_reply.started": "2021-08-19T05:46:06.156984Z"
        },
        "papermill": {
          "duration": 0.042325,
          "end_time": "2021-08-19T05:50:49.002438",
          "exception": false,
          "start_time": "2021-08-19T05:50:48.960113",
          "status": "completed"
        },
        "tags": [],
        "id": "7fdb0366"
      },
      "outputs": [],
      "source": [
        "class SentimentRNN(nn.Module):\n",
        "    def __init__(self, no_layers, vocab_size, hidden_dim, embedding_dim, output_dim, drop_prob=0.55):\n",
        "        super(SentimentRNN, self).__init__()\n",
        "\n",
        "        self.hidden_dim = hidden_dim\n",
        "        self.no_layers = no_layers\n",
        "\n",
        "        # Embedding Layer\n",
        "        self.embedding = nn.Embedding(vocab_size, embedding_dim)\n",
        "\n",
        "        # LSTM Layers\n",
        "        self.lstm = nn.LSTM(input_size=embedding_dim,\n",
        "                            hidden_size=hidden_dim,\n",
        "                            num_layers=no_layers, \n",
        "                            batch_first=True, \n",
        "                            dropout=drop_prob,\n",
        "                            bidirectional=True\n",
        "                            )\n",
        "                                  \n",
        "\n",
        "        # Dropout layer\n",
        "        self.dropout = nn.Dropout(drop_prob)\n",
        "\n",
        "        # Linear and Sigmoid layer\n",
        "        # why not no_layers*hidden_dim? and for biLSTM x2?\n",
        "        self.fc = nn.Linear(2*hidden_dim, output_dim)\n",
        "#         self.sig = nn.Sigmoid()\n",
        "    \n",
        "    def forward(self, x, hidden):\n",
        "        batch_size = x.size(0)\n",
        "\n",
        "        # Embedding out\n",
        "        embeds = self.embedding(x)\n",
        "        #Shape: [batch_size x max_length x embedding_dim]\n",
        "\n",
        "        # LSTM out\n",
        "        lstm_out, hidden = self.lstm(embeds, hidden)\n",
        "        # Shape: [batch_size x max_length x hidden_dim]\n",
        "\n",
        "        # Select the activation of the last Hidden Layer\n",
        "        lstm_out = lstm_out[:,-1,:].contiguous()\n",
        "        # Shape: [batch_size x hidden_dim]\n",
        "\n",
        "         ## You can instead average the activations across all the times\n",
        "        # lstm_out = torch.mean(lstm_out, 1).contiguous()\n",
        "\n",
        "        # Dropout and Fully connected layer\n",
        "        out = self.dropout(lstm_out)\n",
        "        out = self.fc(out)\n",
        "\n",
        "        # Sigmoid function\n",
        "#         sig_out = self.sig(out)\n",
        "\n",
        "        # return last sigmoid output and hidden state\n",
        "        return out, hidden\n",
        "\n",
        "    def init_hidden(self, batch_size):\n",
        "        ''' Initializes hidden state '''\n",
        "        # Create two new tensors with sizes n_layers x batch_size x hidden_dim,\n",
        "        # initialized to zero, for hidden state and cell state of LSTM\n",
        "        #random initialization is better, i think \n",
        "        h0 = torch.randn((2*self.no_layers, batch_size, self.hidden_dim))\n",
        "        c0 = torch.randn((2*self.no_layers, batch_size, self.hidden_dim))\n",
        "        hidden = (h0, c0)\n",
        "        return hidden\n"
      ]
    },
    {
      "cell_type": "code",
      "execution_count": null,
      "id": "209ee68a",
      "metadata": {
        "execution": {
          "iopub.execute_input": "2021-08-19T05:50:49.063013Z",
          "iopub.status.busy": "2021-08-19T05:50:49.062372Z",
          "iopub.status.idle": "2021-08-19T05:50:54.119972Z",
          "shell.execute_reply": "2021-08-19T05:50:54.120495Z",
          "shell.execute_reply.started": "2021-08-19T05:46:06.171091Z"
        },
        "papermill": {
          "duration": 5.090403,
          "end_time": "2021-08-19T05:50:54.120675",
          "exception": false,
          "start_time": "2021-08-19T05:50:49.030272",
          "status": "completed"
        },
        "tags": [],
        "colab": {
          "base_uri": "https://localhost:8080/"
        },
        "id": "209ee68a",
        "outputId": "6ed128e4-521c-4384-9e22-4d6ad6fac8d8"
      },
      "outputs": [
        {
          "output_type": "stream",
          "name": "stdout",
          "text": [
            "SentimentRNN(\n",
            "  (embedding): Embedding(30000, 32)\n",
            "  (lstm): LSTM(32, 64, num_layers=3, batch_first=True, dropout=0.55, bidirectional=True)\n",
            "  (dropout): Dropout(p=0.55, inplace=False)\n",
            "  (fc): Linear(in_features=128, out_features=4, bias=True)\n",
            ")\n"
          ]
        }
      ],
      "source": [
        "# Let's define our model\n",
        "model = SentimentRNN(no_layers=3,\n",
        "                     vocab_size=num_words_dict, # 43800 dictionary\n",
        "                     hidden_dim=64,\n",
        "                     embedding_dim=32,\n",
        "                     output_dim=LEN_CLASSES,    # 13 classes\n",
        "                     drop_prob=0.55\n",
        "                    )\n",
        "\n",
        "\n",
        "# Moving to gpu\n",
        "\n",
        "print(model)"
      ]
    },
    {
      "cell_type": "code",
      "execution_count": null,
      "id": "6def4026",
      "metadata": {
        "execution": {
          "iopub.execute_input": "2021-08-19T05:50:54.186214Z",
          "iopub.status.busy": "2021-08-19T05:50:54.184878Z",
          "iopub.status.idle": "2021-08-19T05:50:54.188283Z",
          "shell.execute_reply": "2021-08-19T05:50:54.188665Z",
          "shell.execute_reply.started": "2021-08-19T05:46:11.127122Z"
        },
        "papermill": {
          "duration": 0.039237,
          "end_time": "2021-08-19T05:50:54.188805",
          "exception": false,
          "start_time": "2021-08-19T05:50:54.149568",
          "status": "completed"
        },
        "tags": [],
        "colab": {
          "base_uri": "https://localhost:8080/"
        },
        "id": "6def4026",
        "outputId": "b2d25af8-584d-4c36-9eb7-958a4ea5cc59"
      },
      "outputs": [
        {
          "output_type": "stream",
          "name": "stdout",
          "text": [
            "Total Number of parameters:  1209348\n"
          ]
        }
      ],
      "source": [
        "# How many trainable parameters does our model have?\n",
        "model_parameters = filter(lambda p: p.requires_grad, model.parameters())\n",
        "params = sum([np.prod(p.size()) for p in model_parameters])\n",
        "print('Total Number of parameters: ',params)"
      ]
    },
    {
      "cell_type": "code",
      "execution_count": null,
      "id": "c36d6faa",
      "metadata": {
        "execution": {
          "iopub.execute_input": "2021-08-19T05:50:54.252457Z",
          "iopub.status.busy": "2021-08-19T05:50:54.251954Z",
          "iopub.status.idle": "2021-08-19T05:50:54.255285Z",
          "shell.execute_reply": "2021-08-19T05:50:54.255718Z",
          "shell.execute_reply.started": "2021-08-19T05:46:11.137720Z"
        },
        "papermill": {
          "duration": 0.038821,
          "end_time": "2021-08-19T05:50:54.255847",
          "exception": false,
          "start_time": "2021-08-19T05:50:54.217026",
          "status": "completed"
        },
        "tags": [],
        "id": "c36d6faa"
      },
      "outputs": [],
      "source": [
        "# loss and optimization functions\n",
        "lr = 0.01\n",
        "\n",
        "criterion = nn.CrossEntropyLoss()\n",
        "\n",
        "# We choose an Adam optimizer\n",
        "optimizer = torch.optim.Adam(model.parameters(), lr=lr)\n",
        "\n",
        "# function to predict accuracy\n",
        "def acc(pred, labels):\n",
        "    pred = torch.argmax(pred, dim=1)\n",
        "#     labels = torch.argmax(labels, dim=1)\n",
        "    return torch.sum((pred == labels).float())"
      ]
    },
    {
      "cell_type": "code",
      "execution_count": null,
      "id": "a82cb3ea",
      "metadata": {
        "execution": {
          "iopub.execute_input": "2021-08-19T05:50:54.325195Z",
          "iopub.status.busy": "2021-08-19T05:50:54.324365Z",
          "iopub.status.idle": "2021-08-19T05:52:11.839633Z",
          "shell.execute_reply": "2021-08-19T05:52:11.840031Z",
          "shell.execute_reply.started": "2021-08-19T05:48:01.974683Z"
        },
        "papermill": {
          "duration": 77.556178,
          "end_time": "2021-08-19T05:52:11.840206",
          "exception": false,
          "start_time": "2021-08-19T05:50:54.284028",
          "status": "completed"
        },
        "tags": [],
        "colab": {
          "base_uri": "https://localhost:8080/"
        },
        "id": "a82cb3ea",
        "outputId": "fb4253da-eb9c-4d9a-ea85-3bd2a6f7ffcc"
      },
      "outputs": [
        {
          "output_type": "stream",
          "name": "stdout",
          "text": [
            "Epoch 1\n",
            "train_loss : 1.3125848003796168 val_loss : 1.3184575239817302\n",
            "train_accuracy : 36.81318664550781 val_accuracy : 35.100547790527344\n",
            "Validation loss decreased (inf --> 1.318458).  Saving model ...\n",
            "==================================================\n",
            "Epoch 2\n",
            "train_loss : 1.1186773138386863 val_loss : 1.1859413782755535\n",
            "train_accuracy : 49.03845977783203 val_accuracy : 40.58500671386719\n",
            "Validation loss decreased (1.318458 --> 1.185941).  Saving model ...\n",
            "==================================================\n",
            "Epoch 3\n",
            "train_loss : 0.9712929129600525 val_loss : 1.2159357070922852\n",
            "train_accuracy : 57.738094329833984 val_accuracy : 43.14442443847656\n",
            "==================================================\n",
            "Epoch 4\n",
            "train_loss : 0.807052378143583 val_loss : 1.1403917074203491\n",
            "train_accuracy : 66.07142639160156 val_accuracy : 48.26325607299805\n",
            "Validation loss decreased (1.185941 --> 1.140392).  Saving model ...\n",
            "==================================================\n",
            "Epoch 5\n",
            "train_loss : 0.6781445060457502 val_loss : 1.2930814822514851\n",
            "train_accuracy : 73.16849517822266 val_accuracy : 45.886653900146484\n",
            "==================================================\n",
            "Epoch 6\n",
            "train_loss : 0.5482891414846692 val_loss : 1.1303312381108601\n",
            "train_accuracy : 77.24359130859375 val_accuracy : 50.457035064697266\n",
            "Validation loss decreased (1.140392 --> 1.130331).  Saving model ...\n",
            "==================================================\n",
            "Epoch 7\n",
            "train_loss : 0.42102597866739544 val_loss : 1.5057230790456135\n",
            "train_accuracy : 82.37179565429688 val_accuracy : 50.457035064697266\n",
            "==================================================\n",
            "Epoch 8\n",
            "train_loss : 0.3423029791031565 val_loss : 1.524912436803182\n",
            "train_accuracy : 85.89743041992188 val_accuracy : 49.72577667236328\n",
            "==================================================\n",
            "Epoch 9\n",
            "train_loss : 0.2829449528029987 val_loss : 1.7637356917063396\n",
            "train_accuracy : 87.22527313232422 val_accuracy : 47.71480941772461\n",
            "==================================================\n",
            "Epoch 10\n",
            "train_loss : 0.24160088066543853 val_loss : 1.951757550239563\n",
            "train_accuracy : 88.73626708984375 val_accuracy : 51.0054817199707\n",
            "==================================================\n",
            "Epoch 11\n",
            "train_loss : 0.23402083558695658 val_loss : 1.7072253624598186\n",
            "train_accuracy : 89.69779968261719 val_accuracy : 48.99451446533203\n",
            "==================================================\n",
            "Epoch 12\n",
            "train_loss : 0.17752986082008906 val_loss : 2.031220475832621\n",
            "train_accuracy : 90.79669952392578 val_accuracy : 49.360145568847656\n",
            "==================================================\n",
            "Epoch 13\n",
            "train_loss : 0.1502788926341704 val_loss : 1.8663626114527385\n",
            "train_accuracy : 91.30036926269531 val_accuracy : 53.01645278930664\n",
            "==================================================\n",
            "Epoch 14\n",
            "train_loss : 0.1126545209969793 val_loss : 2.0430261294047036\n",
            "train_accuracy : 92.53662872314453 val_accuracy : 51.371116638183594\n",
            "==================================================\n",
            "Epoch 15\n",
            "train_loss : 0.0981799310871533 val_loss : 2.2183380126953125\n",
            "train_accuracy : 93.22344207763672 val_accuracy : 51.0054817199707\n",
            "==================================================\n"
          ]
        }
      ],
      "source": [
        "# Number of training Epochs\n",
        "epochs = 15\n",
        "# Maximum absolute value accepted for the gradeint\n",
        "clip = 5\n",
        "\n",
        "# Initial Loss value (assumed big)\n",
        "valid_loss_min = np.Inf\n",
        "\n",
        "# Lists to follow the evolution of the loss and accuracy\n",
        "epoch_tr_loss, epoch_vl_loss = [], []\n",
        "epoch_tr_acc, epoch_vl_acc = [], []\n",
        "\n",
        "# Train for a number of Epochs\n",
        "for epoch in range(epochs):\n",
        "  train_losses = []\n",
        "  train_acc = 0.0\n",
        "  model.train()\n",
        "\n",
        "  for inputs, labels in train_loader:\n",
        "    # Initialize hidden state \n",
        "    h = model.init_hidden(batch_size)\n",
        "    \n",
        "    # Creating new variables for the hidden state\n",
        "    h = tuple([each.data for each in h])\n",
        "    \n",
        "    # Move batch inputs and labels to gpu\n",
        "    inputs, labels = inputs, labels   \n",
        "\n",
        "    # Set gradient to zero\n",
        "    model.zero_grad()\n",
        "    \n",
        "    # Compute model output\n",
        "    output, h = model(inputs, h)\n",
        "\n",
        "    # Calculate the loss and perform backprop\n",
        "    loss = criterion(output.squeeze(), labels.long())\n",
        "    loss.backward()\n",
        "    train_losses.append(loss.item())\n",
        "    \n",
        "    # calculating accuracy\n",
        "    accuracy = acc(output,labels)\n",
        "    train_acc += accuracy\n",
        "\n",
        "    #`clip_grad_norm` helps prevent the exploding gradient problem in RNNs / LSTMs.\n",
        "    nn.utils.clip_grad_norm_(model.parameters(), clip)\n",
        "    optimizer.step()\n",
        "    \n",
        "  # Evaluate on the validation set for this epoch \n",
        "  val_losses = []\n",
        "  val_acc = 0.0\n",
        "  model.eval()\n",
        "    \n",
        "  for inputs, labels in test_loader:\n",
        "    \n",
        "    # Initialize hidden state \n",
        "    val_h = model.init_hidden(batch_size)\n",
        "    val_h = tuple([each.data for each in val_h])\n",
        "\n",
        "    # Move batch inputs and labels to gpu\n",
        "    inputs, labels = inputs, labels\n",
        "\n",
        "    # Compute model output\n",
        "    output, val_h = model(inputs, val_h)\n",
        "\n",
        "    # Compute Loss\n",
        "    val_loss = criterion(output.squeeze(), labels.long())\n",
        "\n",
        "    val_losses.append(val_loss.item())\n",
        "\n",
        "    accuracy = acc(output, labels)\n",
        "    val_acc += accuracy\n",
        "\n",
        "  epoch_train_loss = np.mean(train_losses)\n",
        "  epoch_val_loss = np.mean(val_losses)\n",
        "  epoch_train_acc = train_acc/len(train_loader.dataset)\n",
        "  epoch_val_acc = val_acc/len(test_loader.dataset)\n",
        "  epoch_tr_loss.append(epoch_train_loss)\n",
        "  epoch_vl_loss.append(epoch_val_loss)\n",
        "  epoch_tr_acc.append(epoch_train_acc)\n",
        "  epoch_vl_acc.append(epoch_val_acc)\n",
        "  print(f'Epoch {epoch+1}') \n",
        "  print(f'train_loss : {epoch_train_loss} val_loss : {epoch_val_loss}')\n",
        "  print(f'train_accuracy : {epoch_train_acc*100} val_accuracy : {epoch_val_acc*100}')\n",
        "  if epoch_val_loss <= valid_loss_min:\n",
        "    print('Validation loss decreased ({:.6f} --> {:.6f}).  Saving model ...'.format(valid_loss_min,epoch_val_loss))\n",
        "    # torch.save(model.state_dict(), '../working/state_dict.pt')\n",
        "    valid_loss_min = epoch_val_loss\n",
        "  print(25*'==')"
      ]
    },
    {
      "cell_type": "code",
      "execution_count": null,
      "id": "a10e1e45",
      "metadata": {
        "execution": {
          "iopub.execute_input": "2021-08-19T05:52:11.933355Z",
          "iopub.status.busy": "2021-08-19T05:52:11.932527Z",
          "iopub.status.idle": "2021-08-19T05:52:12.208125Z",
          "shell.execute_reply": "2021-08-19T05:52:12.207675Z",
          "shell.execute_reply.started": "2021-08-19T05:49:20.292769Z"
        },
        "papermill": {
          "duration": 0.332713,
          "end_time": "2021-08-19T05:52:12.208242",
          "exception": false,
          "start_time": "2021-08-19T05:52:11.875529",
          "status": "completed"
        },
        "tags": [],
        "colab": {
          "base_uri": "https://localhost:8080/",
          "height": 390
        },
        "id": "a10e1e45",
        "outputId": "229c9931-7d79-4ce4-e013-162103118a1f"
      },
      "outputs": [
        {
          "output_type": "display_data",
          "data": {
            "text/plain": [
              "<Figure size 1440x432 with 2 Axes>"
            ],
            "image/png": "[encoded data removed]"
          },
          "metadata": {
            "needs_background": "light"
          }
        }
      ],
      "source": [
        "fig = plt.figure(figsize = (20, 6))\n",
        "plt.subplot(1, 2, 1)\n",
        "plt.plot(epoch_tr_acc, label='Train Acc')\n",
        "plt.plot(epoch_vl_acc, label='Validation Acc')\n",
        "plt.title(\"Accuracy\")\n",
        "plt.legend()\n",
        "plt.grid()\n",
        "\n",
        "plt.subplot(1, 2, 2)\n",
        "plt.plot(epoch_tr_loss, label='Train loss')\n",
        "plt.plot(epoch_vl_loss, label='Validation loss')\n",
        "plt.title(\"Loss\")\n",
        "plt.legend()\n",
        "plt.grid()\n",
        "\n",
        "plt.show()"
      ]
    }
  ],
  "metadata": {
    "kernelspec": {
      "display_name": "Python 3",
      "language": "python",
      "name": "python3"
    },
    "language_info": {
      "codemirror_mode": {
        "name": "ipython",
        "version": 3
      },
      "file_extension": ".py",
      "mimetype": "text/x-python",
      "name": "python",
      "nbconvert_exporter": "python",
      "pygments_lexer": "ipython3",
      "version": "3.7.10"
    },
    "papermill": {
      "default_parameters": {},
      "duration": 110.668268,
      "end_time": "2021-08-19T05:52:14.423662",
      "environment_variables": {},
      "exception": null,
      "input_path": "__notebook__.ipynb",
      "output_path": "__notebook__.ipynb",
      "parameters": {},
      "start_time": "2021-08-19T05:50:23.755394",
      "version": "2.3.3"
    },
    "widgets": {
      "application/vnd.jupyter.widget-state+json": {
        "9f4011e2637d422db62ff1ee36fc156b": {
          "model_module": "@jupyter-widgets/controls",
          "model_name": "HBoxModel",
          "model_module_version": "1.5.0",
          "state": {
            "_dom_classes": [],
            "_model_module": "@jupyter-widgets/controls",
            "_model_module_version": "1.5.0",
            "_model_name": "HBoxModel",
            "_view_count": null,
            "_view_module": "@jupyter-widgets/controls",
            "_view_module_version": "1.5.0",
            "_view_name": "HBoxView",
            "box_style": "",
            "children": [
              "IPY_MODEL_da77ec3a5338481c82b50781f1ca06fb",
              "IPY_MODEL_46a0e91148944a1a95823af40d868766",
              "IPY_MODEL_414cc61e345848c5bd4a5e22bcc57750"
            ],
            "layout": "IPY_MODEL_84070279fe63484a88b3c25239e487a6"
          }
        },
        "da77ec3a5338481c82b50781f1ca06fb": {
          "model_module": "@jupyter-widgets/controls",
          "model_name": "HTMLModel",
          "model_module_version": "1.5.0",
          "state": {
            "_dom_classes": [],
            "_model_module": "@jupyter-widgets/controls",
            "_model_module_version": "1.5.0",
            "_model_name": "HTMLModel",
            "_view_count": null,
            "_view_module": "@jupyter-widgets/controls",
            "_view_module_version": "1.5.0",
            "_view_name": "HTMLView",
            "description": "",
            "description_tooltip": null,
            "layout": "IPY_MODEL_8da1030e63b64f6e968e26b76ee2ae23",
            "placeholder": "​",
            "style": "IPY_MODEL_0fae773c26084ff5bbf4cd09f6fb1aae",
            "value": "100%"
          }
        },
        "46a0e91148944a1a95823af40d868766": {
          "model_module": "@jupyter-widgets/controls",
          "model_name": "FloatProgressModel",
          "model_module_version": "1.5.0",
          "state": {
            "_dom_classes": [],
            "_model_module": "@jupyter-widgets/controls",
            "_model_module_version": "1.5.0",
            "_model_name": "FloatProgressModel",
            "_view_count": null,
            "_view_module": "@jupyter-widgets/controls",
            "_view_module_version": "1.5.0",
            "_view_name": "ProgressView",
            "bar_style": "success",
            "description": "",
            "description_tooltip": null,
            "layout": "IPY_MODEL_d41909b804f44c5b9e76d427e1396274",
            "max": 2184,
            "min": 0,
            "orientation": "horizontal",
            "style": "IPY_MODEL_01bb07bded93438fbd99fc2f4bdca170",
            "value": 2184
          }
        },
        "414cc61e345848c5bd4a5e22bcc57750": {
          "model_module": "@jupyter-widgets/controls",
          "model_name": "HTMLModel",
          "model_module_version": "1.5.0",
          "state": {
            "_dom_classes": [],
            "_model_module": "@jupyter-widgets/controls",
            "_model_module_version": "1.5.0",
            "_model_name": "HTMLModel",
            "_view_count": null,
            "_view_module": "@jupyter-widgets/controls",
            "_view_module_version": "1.5.0",
            "_view_name": "HTMLView",
            "description": "",
            "description_tooltip": null,
            "layout": "IPY_MODEL_d8f90be118714a4491a9fbf8bed79bba",
            "placeholder": "​",
            "style": "IPY_MODEL_676ead61ab06425ab0cd8fe0b02712d7",
            "value": " 2184/2184 [00:00&lt;00:00, 4783.60it/s]"
          }
        },
        "84070279fe63484a88b3c25239e487a6": {
          "model_module": "@jupyter-widgets/base",
          "model_name": "LayoutModel",
          "model_module_version": "1.2.0",
          "state": {
            "_model_module": "@jupyter-widgets/base",
            "_model_module_version": "1.2.0",
            "_model_name": "LayoutModel",
            "_view_count": null,
            "_view_module": "@jupyter-widgets/base",
            "_view_module_version": "1.2.0",
            "_view_name": "LayoutView",
            "align_content": null,
            "align_items": null,
            "align_self": null,
            "border": null,
            "bottom": null,
            "display": null,
            "flex": null,
            "flex_flow": null,
            "grid_area": null,
            "grid_auto_columns": null,
            "grid_auto_flow": null,
            "grid_auto_rows": null,
            "grid_column": null,
            "grid_gap": null,
            "grid_row": null,
            "grid_template_areas": null,
            "grid_template_columns": null,
            "grid_template_rows": null,
            "height": null,
            "justify_content": null,
            "justify_items": null,
            "left": null,
            "margin": null,
            "max_height": null,
            "max_width": null,
            "min_height": null,
            "min_width": null,
            "object_fit": null,
            "object_position": null,
            "order": null,
            "overflow": null,
            "overflow_x": null,
            "overflow_y": null,
            "padding": null,
            "right": null,
            "top": null,
            "visibility": null,
            "width": null
          }
        },
        "8da1030e63b64f6e968e26b76ee2ae23": {
          "model_module": "@jupyter-widgets/base",
          "model_name": "LayoutModel",
          "model_module_version": "1.2.0",
          "state": {
            "_model_module": "@jupyter-widgets/base",
            "_model_module_version": "1.2.0",
            "_model_name": "LayoutModel",
            "_view_count": null,
            "_view_module": "@jupyter-widgets/base",
            "_view_module_version": "1.2.0",
            "_view_name": "LayoutView",
            "align_content": null,
            "align_items": null,
            "align_self": null,
            "border": null,
            "bottom": null,
            "display": null,
            "flex": null,
            "flex_flow": null,
            "grid_area": null,
            "grid_auto_columns": null,
            "grid_auto_flow": null,
            "grid_auto_rows": null,
            "grid_column": null,
            "grid_gap": null,
            "grid_row": null,
            "grid_template_areas": null,
            "grid_template_columns": null,
            "grid_template_rows": null,
            "height": null,
            "justify_content": null,
            "justify_items": null,
            "left": null,
            "margin": null,
            "max_height": null,
            "max_width": null,
            "min_height": null,
            "min_width": null,
            "object_fit": null,
            "object_position": null,
            "order": null,
            "overflow": null,
            "overflow_x": null,
            "overflow_y": null,
            "padding": null,
            "right": null,
            "top": null,
            "visibility": null,
            "width": null
          }
        },
        "0fae773c26084ff5bbf4cd09f6fb1aae": {
          "model_module": "@jupyter-widgets/controls",
          "model_name": "DescriptionStyleModel",
          "model_module_version": "1.5.0",
          "state": {
            "_model_module": "@jupyter-widgets/controls",
            "_model_module_version": "1.5.0",
            "_model_name": "DescriptionStyleModel",
            "_view_count": null,
            "_view_module": "@jupyter-widgets/base",
            "_view_module_version": "1.2.0",
            "_view_name": "StyleView",
            "description_width": ""
          }
        },
        "d41909b804f44c5b9e76d427e1396274": {
          "model_module": "@jupyter-widgets/base",
          "model_name": "LayoutModel",
          "model_module_version": "1.2.0",
          "state": {
            "_model_module": "@jupyter-widgets/base",
            "_model_module_version": "1.2.0",
            "_model_name": "LayoutModel",
            "_view_count": null,
            "_view_module": "@jupyter-widgets/base",
            "_view_module_version": "1.2.0",
            "_view_name": "LayoutView",
            "align_content": null,
            "align_items": null,
            "align_self": null,
            "border": null,
            "bottom": null,
            "display": null,
            "flex": null,
            "flex_flow": null,
            "grid_area": null,
            "grid_auto_columns": null,
            "grid_auto_flow": null,
            "grid_auto_rows": null,
            "grid_column": null,
            "grid_gap": null,
            "grid_row": null,
            "grid_template_areas": null,
            "grid_template_columns": null,
            "grid_template_rows": null,
            "height": null,
            "justify_content": null,
            "justify_items": null,
            "left": null,
            "margin": null,
            "max_height": null,
            "max_width": null,
            "min_height": null,
            "min_width": null,
            "object_fit": null,
            "object_position": null,
            "order": null,
            "overflow": null,
            "overflow_x": null,
            "overflow_y": null,
            "padding": null,
            "right": null,
            "top": null,
            "visibility": null,
            "width": null
          }
        },
        "01bb07bded93438fbd99fc2f4bdca170": {
          "model_module": "@jupyter-widgets/controls",
          "model_name": "ProgressStyleModel",
          "model_module_version": "1.5.0",
          "state": {
            "_model_module": "@jupyter-widgets/controls",
            "_model_module_version": "1.5.0",
            "_model_name": "ProgressStyleModel",
            "_view_count": null,
            "_view_module": "@jupyter-widgets/base",
            "_view_module_version": "1.2.0",
            "_view_name": "StyleView",
            "bar_color": null,
            "description_width": ""
          }
        },
        "d8f90be118714a4491a9fbf8bed79bba": {
          "model_module": "@jupyter-widgets/base",
          "model_name": "LayoutModel",
          "model_module_version": "1.2.0",
          "state": {
            "_model_module": "@jupyter-widgets/base",
            "_model_module_version": "1.2.0",
            "_model_name": "LayoutModel",
            "_view_count": null,
            "_view_module": "@jupyter-widgets/base",
            "_view_module_version": "1.2.0",
            "_view_name": "LayoutView",
            "align_content": null,
            "align_items": null,
            "align_self": null,
            "border": null,
            "bottom": null,
            "display": null,
            "flex": null,
            "flex_flow": null,
            "grid_area": null,
            "grid_auto_columns": null,
            "grid_auto_flow": null,
            "grid_auto_rows": null,
            "grid_column": null,
            "grid_gap": null,
            "grid_row": null,
            "grid_template_areas": null,
            "grid_template_columns": null,
            "grid_template_rows": null,
            "height": null,
            "justify_content": null,
            "justify_items": null,
            "left": null,
            "margin": null,
            "max_height": null,
            "max_width": null,
            "min_height": null,
            "min_width": null,
            "object_fit": null,
            "object_position": null,
            "order": null,
            "overflow": null,
            "overflow_x": null,
            "overflow_y": null,
            "padding": null,
            "right": null,
            "top": null,
            "visibility": null,
            "width": null
          }
        },
        "676ead61ab06425ab0cd8fe0b02712d7": {
          "model_module": "@jupyter-widgets/controls",
          "model_name": "DescriptionStyleModel",
          "model_module_version": "1.5.0",
          "state": {
            "_model_module": "@jupyter-widgets/controls",
            "_model_module_version": "1.5.0",
            "_model_name": "DescriptionStyleModel",
            "_view_count": null,
            "_view_module": "@jupyter-widgets/base",
            "_view_module_version": "1.2.0",
            "_view_name": "StyleView",
            "description_width": ""
          }
        },
        "b54a580e28594700bb503cdabfdac16a": {
          "model_module": "@jupyter-widgets/controls",
          "model_name": "HBoxModel",
          "model_module_version": "1.5.0",
          "state": {
            "_dom_classes": [],
            "_model_module": "@jupyter-widgets/controls",
            "_model_module_version": "1.5.0",
            "_model_name": "HBoxModel",
            "_view_count": null,
            "_view_module": "@jupyter-widgets/controls",
            "_view_module_version": "1.5.0",
            "_view_name": "HBoxView",
            "box_style": "",
            "children": [
              "IPY_MODEL_65c751e037534afbaae2d77209e3b873",
              "IPY_MODEL_dc084308f3f04a5daa08381530027344",
              "IPY_MODEL_09b1621049a84b9e80c9654b147e0f22"
            ],
            "layout": "IPY_MODEL_7d531139a8ad4e9c92bc509130bf9ff9"
          }
        },
        "65c751e037534afbaae2d77209e3b873": {
          "model_module": "@jupyter-widgets/controls",
          "model_name": "HTMLModel",
          "model_module_version": "1.5.0",
          "state": {
            "_dom_classes": [],
            "_model_module": "@jupyter-widgets/controls",
            "_model_module_version": "1.5.0",
            "_model_name": "HTMLModel",
            "_view_count": null,
            "_view_module": "@jupyter-widgets/controls",
            "_view_module_version": "1.5.0",
            "_view_name": "HTMLView",
            "description": "",
            "description_tooltip": null,
            "layout": "IPY_MODEL_950f8f095cb0460a81cd2015f44ac3a9",
            "placeholder": "​",
            "style": "IPY_MODEL_598ebafa58de44ceb35a80690cbe0b1f",
            "value": "100%"
          }
        },
        "dc084308f3f04a5daa08381530027344": {
          "model_module": "@jupyter-widgets/controls",
          "model_name": "FloatProgressModel",
          "model_module_version": "1.5.0",
          "state": {
            "_dom_classes": [],
            "_model_module": "@jupyter-widgets/controls",
            "_model_module_version": "1.5.0",
            "_model_name": "FloatProgressModel",
            "_view_count": null,
            "_view_module": "@jupyter-widgets/controls",
            "_view_module_version": "1.5.0",
            "_view_name": "ProgressView",
            "bar_style": "success",
            "description": "",
            "description_tooltip": null,
            "layout": "IPY_MODEL_1e9c82672ed541e1ad0ac81499788e8e",
            "max": 547,
            "min": 0,
            "orientation": "horizontal",
            "style": "IPY_MODEL_9848eff7b08b4b2d9affb32738d37113",
            "value": 547
          }
        },
        "09b1621049a84b9e80c9654b147e0f22": {
          "model_module": "@jupyter-widgets/controls",
          "model_name": "HTMLModel",
          "model_module_version": "1.5.0",
          "state": {
            "_dom_classes": [],
            "_model_module": "@jupyter-widgets/controls",
            "_model_module_version": "1.5.0",
            "_model_name": "HTMLModel",
            "_view_count": null,
            "_view_module": "@jupyter-widgets/controls",
            "_view_module_version": "1.5.0",
            "_view_name": "HTMLView",
            "description": "",
            "description_tooltip": null,
            "layout": "IPY_MODEL_02930ba7003c40c4a7694271e68a4d07",
            "placeholder": "​",
            "style": "IPY_MODEL_a79c2974c9ac432f8398413f45cd761e",
            "value": " 547/547 [00:00&lt;00:00, 2099.24it/s]"
          }
        },
        "7d531139a8ad4e9c92bc509130bf9ff9": {
          "model_module": "@jupyter-widgets/base",
          "model_name": "LayoutModel",
          "model_module_version": "1.2.0",
          "state": {
            "_model_module": "@jupyter-widgets/base",
            "_model_module_version": "1.2.0",
            "_model_name": "LayoutModel",
            "_view_count": null,
            "_view_module": "@jupyter-widgets/base",
            "_view_module_version": "1.2.0",
            "_view_name": "LayoutView",
            "align_content": null,
            "align_items": null,
            "align_self": null,
            "border": null,
            "bottom": null,
            "display": null,
            "flex": null,
            "flex_flow": null,
            "grid_area": null,
            "grid_auto_columns": null,
            "grid_auto_flow": null,
            "grid_auto_rows": null,
            "grid_column": null,
            "grid_gap": null,
            "grid_row": null,
            "grid_template_areas": null,
            "grid_template_columns": null,
            "grid_template_rows": null,
            "height": null,
            "justify_content": null,
            "justify_items": null,
            "left": null,
            "margin": null,
            "max_height": null,
            "max_width": null,
            "min_height": null,
            "min_width": null,
            "object_fit": null,
            "object_position": null,
            "order": null,
            "overflow": null,
            "overflow_x": null,
            "overflow_y": null,
            "padding": null,
            "right": null,
            "top": null,
            "visibility": null,
            "width": null
          }
        },
        "950f8f095cb0460a81cd2015f44ac3a9": {
          "model_module": "@jupyter-widgets/base",
          "model_name": "LayoutModel",
          "model_module_version": "1.2.0",
          "state": {
            "_model_module": "@jupyter-widgets/base",
            "_model_module_version": "1.2.0",
            "_model_name": "LayoutModel",
            "_view_count": null,
            "_view_module": "@jupyter-widgets/base",
            "_view_module_version": "1.2.0",
            "_view_name": "LayoutView",
            "align_content": null,
            "align_items": null,
            "align_self": null,
            "border": null,
            "bottom": null,
            "display": null,
            "flex": null,
            "flex_flow": null,
            "grid_area": null,
            "grid_auto_columns": null,
            "grid_auto_flow": null,
            "grid_auto_rows": null,
            "grid_column": null,
            "grid_gap": null,
            "grid_row": null,
            "grid_template_areas": null,
            "grid_template_columns": null,
            "grid_template_rows": null,
            "height": null,
            "justify_content": null,
            "justify_items": null,
            "left": null,
            "margin": null,
            "max_height": null,
            "max_width": null,
            "min_height": null,
            "min_width": null,
            "object_fit": null,
            "object_position": null,
            "order": null,
            "overflow": null,
            "overflow_x": null,
            "overflow_y": null,
            "padding": null,
            "right": null,
            "top": null,
            "visibility": null,
            "width": null
          }
        },
        "598ebafa58de44ceb35a80690cbe0b1f": {
          "model_module": "@jupyter-widgets/controls",
          "model_name": "DescriptionStyleModel",
          "model_module_version": "1.5.0",
          "state": {
            "_model_module": "@jupyter-widgets/controls",
            "_model_module_version": "1.5.0",
            "_model_name": "DescriptionStyleModel",
            "_view_count": null,
            "_view_module": "@jupyter-widgets/base",
            "_view_module_version": "1.2.0",
            "_view_name": "StyleView",
            "description_width": ""
          }
        },
        "1e9c82672ed541e1ad0ac81499788e8e": {
          "model_module": "@jupyter-widgets/base",
          "model_name": "LayoutModel",
          "model_module_version": "1.2.0",
          "state": {
            "_model_module": "@jupyter-widgets/base",
            "_model_module_version": "1.2.0",
            "_model_name": "LayoutModel",
            "_view_count": null,
            "_view_module": "@jupyter-widgets/base",
            "_view_module_version": "1.2.0",
            "_view_name": "LayoutView",
            "align_content": null,
            "align_items": null,
            "align_self": null,
            "border": null,
            "bottom": null,
            "display": null,
            "flex": null,
            "flex_flow": null,
            "grid_area": null,
            "grid_auto_columns": null,
            "grid_auto_flow": null,
            "grid_auto_rows": null,
            "grid_column": null,
            "grid_gap": null,
            "grid_row": null,
            "grid_template_areas": null,
            "grid_template_columns": null,
            "grid_template_rows": null,
            "height": null,
            "justify_content": null,
            "justify_items": null,
            "left": null,
            "margin": null,
            "max_height": null,
            "max_width": null,
            "min_height": null,
            "min_width": null,
            "object_fit": null,
            "object_position": null,
            "order": null,
            "overflow": null,
            "overflow_x": null,
            "overflow_y": null,
            "padding": null,
            "right": null,
            "top": null,
            "visibility": null,
            "width": null
          }
        },
        "9848eff7b08b4b2d9affb32738d37113": {
          "model_module": "@jupyter-widgets/controls",
          "model_name": "ProgressStyleModel",
          "model_module_version": "1.5.0",
          "state": {
            "_model_module": "@jupyter-widgets/controls",
            "_model_module_version": "1.5.0",
            "_model_name": "ProgressStyleModel",
            "_view_count": null,
            "_view_module": "@jupyter-widgets/base",
            "_view_module_version": "1.2.0",
            "_view_name": "StyleView",
            "bar_color": null,
            "description_width": ""
          }
        },
        "02930ba7003c40c4a7694271e68a4d07": {
          "model_module": "@jupyter-widgets/base",
          "model_name": "LayoutModel",
          "model_module_version": "1.2.0",
          "state": {
            "_model_module": "@jupyter-widgets/base",
            "_model_module_version": "1.2.0",
            "_model_name": "LayoutModel",
            "_view_count": null,
            "_view_module": "@jupyter-widgets/base",
            "_view_module_version": "1.2.0",
            "_view_name": "LayoutView",
            "align_content": null,
            "align_items": null,
            "align_self": null,
            "border": null,
            "bottom": null,
            "display": null,
            "flex": null,
            "flex_flow": null,
            "grid_area": null,
            "grid_auto_columns": null,
            "grid_auto_flow": null,
            "grid_auto_rows": null,
            "grid_column": null,
            "grid_gap": null,
            "grid_row": null,
            "grid_template_areas": null,
            "grid_template_columns": null,
            "grid_template_rows": null,
            "height": null,
            "justify_content": null,
            "justify_items": null,
            "left": null,
            "margin": null,
            "max_height": null,
            "max_width": null,
            "min_height": null,
            "min_width": null,
            "object_fit": null,
            "object_position": null,
            "order": null,
            "overflow": null,
            "overflow_x": null,
            "overflow_y": null,
            "padding": null,
            "right": null,
            "top": null,
            "visibility": null,
            "width": null
          }
        },
        "a79c2974c9ac432f8398413f45cd761e": {
          "model_module": "@jupyter-widgets/controls",
          "model_name": "DescriptionStyleModel",
          "model_module_version": "1.5.0",
          "state": {
            "_model_module": "@jupyter-widgets/controls",
            "_model_module_version": "1.5.0",
            "_model_name": "DescriptionStyleModel",
            "_view_count": null,
            "_view_module": "@jupyter-widgets/base",
            "_view_module_version": "1.2.0",
            "_view_name": "StyleView",
            "description_width": ""
          }
        }
      }
    },
    "colab": {
      "provenance": []
    }
  },
  "nbformat": 4,
  "nbformat_minor": 5
}