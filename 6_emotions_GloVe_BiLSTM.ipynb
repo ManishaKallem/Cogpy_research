{
  "cells": [
    {
      "cell_type": "code",
      "execution_count": null,
      "id": "af981a88",
      "metadata": {
        "execution": {
          "iopub.execute_input": "2021-08-04T11:54:31.039616Z",
          "iopub.status.busy": "2021-08-04T11:54:31.038443Z",
          "iopub.status.idle": "2021-08-04T11:54:32.061467Z",
          "shell.execute_reply": "2021-08-04T11:54:32.060636Z",
          "shell.execute_reply.started": "2021-08-04T03:03:33.350870Z"
        },
        "papermill": {
          "duration": 1.060686,
          "end_time": "2021-08-04T11:54:32.061638",
          "exception": false,
          "start_time": "2021-08-04T11:54:31.000952",
          "status": "completed"
        },
        "tags": [],
        "id": "af981a88"
      },
      "outputs": [],
      "source": [
        "import re\n",
        "import tqdm\n",
        "import numpy as np\n",
        "import pandas as pd\n",
        "import seaborn as sns\n",
        "import matplotlib.pyplot as plt"
      ]
    },
    {
      "cell_type": "code",
      "source": [
        "from google.colab import drive\n",
        "drive.mount('/content/drive/')"
      ],
      "metadata": {
        "id": "77QiV3Z4tQcO"
      },
      "id": "77QiV3Z4tQcO",
      "execution_count": null,
      "outputs": []
    },
    {
      "cell_type": "markdown",
      "id": "3674b2d2",
      "metadata": {
        "papermill": {
          "duration": 0.032499,
          "end_time": "2021-08-04T11:54:32.140762",
          "exception": false,
          "start_time": "2021-08-04T11:54:32.108263",
          "status": "completed"
        },
        "tags": [],
        "id": "3674b2d2"
      },
      "source": [
        "# **Reading dataset and separating them as text and label**"
      ]
    },
    {
      "cell_type": "code",
      "execution_count": null,
      "id": "17c1e3ad",
      "metadata": {
        "execution": {
          "iopub.execute_input": "2021-08-04T11:54:32.213333Z",
          "iopub.status.busy": "2021-08-04T11:54:32.212659Z",
          "iopub.status.idle": "2021-08-04T11:54:32.299076Z",
          "shell.execute_reply": "2021-08-04T11:54:32.299580Z",
          "shell.execute_reply.started": "2021-08-04T03:03:34.341206Z"
        },
        "papermill": {
          "duration": 0.125561,
          "end_time": "2021-08-04T11:54:32.299768",
          "exception": false,
          "start_time": "2021-08-04T11:54:32.174207",
          "status": "completed"
        },
        "tags": [],
        "id": "17c1e3ad"
      },
      "outputs": [],
      "source": [
        "train_df = pd.read_csv(\"/content/drive/MyDrive/Dataset/train.txt\", sep=\";\", header= None, names=[\"text\", \"label\"])\n",
        "test_df = pd.read_csv(\"/content/drive/MyDrive/Dataset/test.txt\", sep=\";\", header= None, names=[\"text\", \"label\"])\n",
        "val_df = pd.read_csv(\"/content/drive/MyDrive/Dataset/val.txt\", sep=\";\", header= None, names=[\"text\", \"label\"])"
      ]
    },
    {
      "cell_type": "code",
      "execution_count": null,
      "id": "ac45b49b",
      "metadata": {
        "execution": {
          "iopub.execute_input": "2021-08-04T11:54:32.376435Z",
          "iopub.status.busy": "2021-08-04T11:54:32.375729Z",
          "iopub.status.idle": "2021-08-04T11:54:32.392803Z",
          "shell.execute_reply": "2021-08-04T11:54:32.393317Z",
          "shell.execute_reply.started": "2021-08-04T03:03:34.457026Z"
        },
        "papermill": {
          "duration": 0.05994,
          "end_time": "2021-08-04T11:54:32.393495",
          "exception": false,
          "start_time": "2021-08-04T11:54:32.333555",
          "status": "completed"
        },
        "tags": [],
        "id": "ac45b49b",
        "outputId": "51fa697d-ae8b-48ff-e062-cb7d090abc46"
      },
      "outputs": [
        {
          "data": {
            "text/html": [
              "<div>\n",
              "<style scoped>\n",
              "    .dataframe tbody tr th:only-of-type {\n",
              "        vertical-align: middle;\n",
              "    }\n",
              "\n",
              "    .dataframe tbody tr th {\n",
              "        vertical-align: top;\n",
              "    }\n",
              "\n",
              "    .dataframe thead th {\n",
              "        text-align: right;\n",
              "    }\n",
              "</style>\n",
              "<table border=\"1\" class=\"dataframe\">\n",
              "  <thead>\n",
              "    <tr style=\"text-align: right;\">\n",
              "      <th></th>\n",
              "      <th>text</th>\n",
              "      <th>label</th>\n",
              "    </tr>\n",
              "  </thead>\n",
              "  <tbody>\n",
              "    <tr>\n",
              "      <th>0</th>\n",
              "      <td>i didnt feel humiliated</td>\n",
              "      <td>sadness</td>\n",
              "    </tr>\n",
              "    <tr>\n",
              "      <th>1</th>\n",
              "      <td>i can go from feeling so hopeless to so damned...</td>\n",
              "      <td>sadness</td>\n",
              "    </tr>\n",
              "    <tr>\n",
              "      <th>2</th>\n",
              "      <td>im grabbing a minute to post i feel greedy wrong</td>\n",
              "      <td>anger</td>\n",
              "    </tr>\n",
              "    <tr>\n",
              "      <th>3</th>\n",
              "      <td>i am ever feeling nostalgic about the fireplac...</td>\n",
              "      <td>love</td>\n",
              "    </tr>\n",
              "    <tr>\n",
              "      <th>4</th>\n",
              "      <td>i am feeling grouchy</td>\n",
              "      <td>anger</td>\n",
              "    </tr>\n",
              "  </tbody>\n",
              "</table>\n",
              "</div>"
            ],
            "text/plain": [
              "                                                text    label\n",
              "0                            i didnt feel humiliated  sadness\n",
              "1  i can go from feeling so hopeless to so damned...  sadness\n",
              "2   im grabbing a minute to post i feel greedy wrong    anger\n",
              "3  i am ever feeling nostalgic about the fireplac...     love\n",
              "4                               i am feeling grouchy    anger"
            ]
          },
          "execution_count": 3,
          "metadata": {},
          "output_type": "execute_result"
        }
      ],
      "source": [
        "train_df.head()"
      ]
    },
    {
      "cell_type": "markdown",
      "id": "fc30cdd8",
      "metadata": {
        "papermill": {
          "duration": 0.034148,
          "end_time": "2021-08-04T11:54:32.461789",
          "exception": false,
          "start_time": "2021-08-04T11:54:32.427641",
          "status": "completed"
        },
        "tags": [],
        "id": "fc30cdd8"
      },
      "source": [
        "# Checking for null values in data"
      ]
    },
    {
      "cell_type": "code",
      "execution_count": null,
      "id": "9600fce0",
      "metadata": {
        "execution": {
          "iopub.execute_input": "2021-08-04T11:54:32.532401Z",
          "iopub.status.busy": "2021-08-04T11:54:32.531751Z",
          "iopub.status.idle": "2021-08-04T11:54:32.567740Z",
          "shell.execute_reply": "2021-08-04T11:54:32.568260Z",
          "shell.execute_reply.started": "2021-08-04T03:03:34.483513Z"
        },
        "papermill": {
          "duration": 0.072322,
          "end_time": "2021-08-04T11:54:32.568452",
          "exception": false,
          "start_time": "2021-08-04T11:54:32.496130",
          "status": "completed"
        },
        "tags": [],
        "id": "9600fce0",
        "outputId": "8c97ea5b-8a27-4a41-f46b-f8afb1726741"
      },
      "outputs": [
        {
          "name": "stdout",
          "output_type": "stream",
          "text": [
            "<class 'pandas.core.frame.DataFrame'>\n",
            "RangeIndex: 16000 entries, 0 to 15999\n",
            "Data columns (total 2 columns):\n",
            " #   Column  Non-Null Count  Dtype \n",
            "---  ------  --------------  ----- \n",
            " 0   text    16000 non-null  object\n",
            " 1   label   16000 non-null  object\n",
            "dtypes: object(2)\n",
            "memory usage: 250.1+ KB\n",
            "\n",
            "<class 'pandas.core.frame.DataFrame'>\n",
            "RangeIndex: 2000 entries, 0 to 1999\n",
            "Data columns (total 2 columns):\n",
            " #   Column  Non-Null Count  Dtype \n",
            "---  ------  --------------  ----- \n",
            " 0   text    2000 non-null   object\n",
            " 1   label   2000 non-null   object\n",
            "dtypes: object(2)\n",
            "memory usage: 31.4+ KB\n",
            "\n",
            "<class 'pandas.core.frame.DataFrame'>\n",
            "RangeIndex: 2000 entries, 0 to 1999\n",
            "Data columns (total 2 columns):\n",
            " #   Column  Non-Null Count  Dtype \n",
            "---  ------  --------------  ----- \n",
            " 0   text    2000 non-null   object\n",
            " 1   label   2000 non-null   object\n",
            "dtypes: object(2)\n",
            "memory usage: 31.4+ KB\n",
            "\n"
          ]
        }
      ],
      "source": [
        "train_df.info()\n",
        "print()\n",
        "test_df.info()\n",
        "print()\n",
        "val_df.info()\n",
        "print()"
      ]
    },
    {
      "cell_type": "markdown",
      "id": "7ac1f111",
      "metadata": {
        "papermill": {
          "duration": 0.033418,
          "end_time": "2021-08-04T11:54:32.636031",
          "exception": false,
          "start_time": "2021-08-04T11:54:32.602613",
          "status": "completed"
        },
        "tags": [],
        "id": "7ac1f111"
      },
      "source": [
        "# Distriution of labels in Train and Test data"
      ]
    },
    {
      "cell_type": "code",
      "execution_count": null,
      "id": "436fe537",
      "metadata": {
        "execution": {
          "iopub.execute_input": "2021-08-04T11:54:32.707118Z",
          "iopub.status.busy": "2021-08-04T11:54:32.706420Z",
          "iopub.status.idle": "2021-08-04T11:54:32.716932Z",
          "shell.execute_reply": "2021-08-04T11:54:32.717387Z",
          "shell.execute_reply.started": "2021-08-04T03:03:34.526641Z"
        },
        "papermill": {
          "duration": 0.047964,
          "end_time": "2021-08-04T11:54:32.717560",
          "exception": false,
          "start_time": "2021-08-04T11:54:32.669596",
          "status": "completed"
        },
        "tags": [],
        "id": "436fe537",
        "outputId": "7fdc7512-d3d7-4217-8584-5f7dcc7d51c8"
      },
      "outputs": [
        {
          "data": {
            "text/plain": [
              "joy         5362\n",
              "sadness     4666\n",
              "anger       2159\n",
              "fear        1937\n",
              "love        1304\n",
              "surprise     572\n",
              "Name: label, dtype: int64"
            ]
          },
          "execution_count": 5,
          "metadata": {},
          "output_type": "execute_result"
        }
      ],
      "source": [
        "train_df[\"label\"].value_counts()"
      ]
    },
    {
      "cell_type": "code",
      "execution_count": null,
      "id": "cbf3c9ce",
      "metadata": {
        "execution": {
          "iopub.execute_input": "2021-08-04T11:54:32.789593Z",
          "iopub.status.busy": "2021-08-04T11:54:32.788964Z",
          "iopub.status.idle": "2021-08-04T11:54:32.795955Z",
          "shell.execute_reply": "2021-08-04T11:54:32.796430Z",
          "shell.execute_reply.started": "2021-08-04T03:03:34.538505Z"
        },
        "papermill": {
          "duration": 0.04504,
          "end_time": "2021-08-04T11:54:32.796590",
          "exception": false,
          "start_time": "2021-08-04T11:54:32.751550",
          "status": "completed"
        },
        "tags": [],
        "id": "cbf3c9ce",
        "outputId": "c31606c3-4117-470d-9687-82faf753623f"
      },
      "outputs": [
        {
          "data": {
            "text/plain": [
              "joy         695\n",
              "sadness     581\n",
              "anger       275\n",
              "fear        224\n",
              "love        159\n",
              "surprise     66\n",
              "Name: label, dtype: int64"
            ]
          },
          "execution_count": 6,
          "metadata": {},
          "output_type": "execute_result"
        }
      ],
      "source": [
        "test_df[\"label\"].value_counts()"
      ]
    },
    {
      "cell_type": "markdown",
      "id": "f6e80a15",
      "metadata": {
        "papermill": {
          "duration": 0.033855,
          "end_time": "2021-08-04T11:54:32.864642",
          "exception": false,
          "start_time": "2021-08-04T11:54:32.830787",
          "status": "completed"
        },
        "tags": [],
        "id": "f6e80a15"
      },
      "source": [
        "# A sample text from the dataset"
      ]
    },
    {
      "cell_type": "code",
      "execution_count": null,
      "id": "2dc7c3d6",
      "metadata": {
        "execution": {
          "iopub.execute_input": "2021-08-04T11:54:32.936397Z",
          "iopub.status.busy": "2021-08-04T11:54:32.935674Z",
          "iopub.status.idle": "2021-08-04T11:54:32.941266Z",
          "shell.execute_reply": "2021-08-04T11:54:32.940582Z",
          "shell.execute_reply.started": "2021-08-04T03:03:34.554485Z"
        },
        "papermill": {
          "duration": 0.042555,
          "end_time": "2021-08-04T11:54:32.941416",
          "exception": false,
          "start_time": "2021-08-04T11:54:32.898861",
          "status": "completed"
        },
        "tags": [],
        "id": "2dc7c3d6",
        "outputId": "d7034a21-8975-4ccc-d359-cb5a3bbb8cbe"
      },
      "outputs": [
        {
          "name": "stdout",
          "output_type": "stream",
          "text": [
            "i can go from feeling so hopeless to so damned hopeful just from being around someone who cares and is awake\n"
          ]
        }
      ],
      "source": [
        "sample = train_df[\"text\"][1]\n",
        "print(sample)"
      ]
    },
    {
      "cell_type": "markdown",
      "id": "92ade39a",
      "metadata": {
        "papermill": {
          "duration": 0.035103,
          "end_time": "2021-08-04T11:54:33.011246",
          "exception": false,
          "start_time": "2021-08-04T11:54:32.976143",
          "status": "completed"
        },
        "tags": [],
        "id": "92ade39a"
      },
      "source": [
        "# Text Preprocessing\n",
        "The preprocessing is done in a few steps:\n",
        "* Lowercaseing the text\n",
        "* Removing Numbers\n",
        "* Removing Punctuations\n",
        "* Removing Stopwords"
      ]
    },
    {
      "cell_type": "code",
      "execution_count": null,
      "id": "3a8bf5f1",
      "metadata": {
        "execution": {
          "iopub.execute_input": "2021-08-04T11:54:33.085996Z",
          "iopub.status.busy": "2021-08-04T11:54:33.085253Z",
          "iopub.status.idle": "2021-08-04T11:54:33.980894Z",
          "shell.execute_reply": "2021-08-04T11:54:33.980360Z",
          "shell.execute_reply.started": "2021-08-04T03:03:34.565707Z"
        },
        "papermill": {
          "duration": 0.935343,
          "end_time": "2021-08-04T11:54:33.981071",
          "exception": false,
          "start_time": "2021-08-04T11:54:33.045728",
          "status": "completed"
        },
        "tags": [],
        "id": "3a8bf5f1",
        "outputId": "e2166955-6eb1-4273-880b-c842ccff7ee8"
      },
      "outputs": [
        {
          "name": "stdout",
          "output_type": "stream",
          "text": [
            "[nltk_data] Downloading package punkt to /usr/share/nltk_data...\n",
            "[nltk_data]   Package punkt is already up-to-date!\n",
            "[nltk_data] Downloading package stopwords to /usr/share/nltk_data...\n",
            "[nltk_data]   Package stopwords is already up-to-date!\n"
          ]
        }
      ],
      "source": [
        "import nltk\n",
        "from nltk.corpus import stopwords\n",
        "from nltk.tokenize import word_tokenize\n",
        "\n",
        "nltk.download('punkt')\n",
        "nltk.download('stopwords')\n",
        "\n",
        "stopwords = stopwords.words('english')"
      ]
    },
    {
      "cell_type": "code",
      "execution_count": null,
      "id": "c26a1ca7",
      "metadata": {
        "execution": {
          "iopub.execute_input": "2021-08-04T11:54:34.059423Z",
          "iopub.status.busy": "2021-08-04T11:54:34.058275Z",
          "iopub.status.idle": "2021-08-04T11:54:34.061562Z",
          "shell.execute_reply": "2021-08-04T11:54:34.061045Z",
          "shell.execute_reply.started": "2021-08-04T03:04:04.053499Z"
        },
        "papermill": {
          "duration": 0.045429,
          "end_time": "2021-08-04T11:54:34.061714",
          "exception": false,
          "start_time": "2021-08-04T11:54:34.016285",
          "status": "completed"
        },
        "tags": [],
        "id": "c26a1ca7"
      },
      "outputs": [],
      "source": [
        "def lower_text(text):\n",
        "    return text.lower()\n",
        "\n",
        "def remove_number(text):\n",
        "    num = re.compile(r'[-+]?[.\\d]*[\\d]+[:,.\\d]*')\n",
        "    return num.sub(r'', text)\n",
        "\n",
        "def remove_punct(text):\n",
        "    punctuations = '@#!?+&*[]-%.:/();$=><|{}^' + \"'`\" \n",
        "    for p in punctuations:\n",
        "        text = text.replace(p, f' {p} ')\n",
        "    return text\n",
        "    \n",
        "def remove_stopwords(text):\n",
        "    text = ' '.join([word for word in text.split() if word not in (stopwords)])\n",
        "    return text"
      ]
    },
    {
      "cell_type": "code",
      "execution_count": null,
      "id": "928414e9",
      "metadata": {
        "execution": {
          "iopub.execute_input": "2021-08-04T11:54:34.137364Z",
          "iopub.status.busy": "2021-08-04T11:54:34.136681Z",
          "iopub.status.idle": "2021-08-04T11:54:34.139413Z",
          "shell.execute_reply": "2021-08-04T11:54:34.139875Z",
          "shell.execute_reply.started": "2021-08-04T03:03:58.370490Z"
        },
        "papermill": {
          "duration": 0.04323,
          "end_time": "2021-08-04T11:54:34.140070",
          "exception": false,
          "start_time": "2021-08-04T11:54:34.096840",
          "status": "completed"
        },
        "tags": [],
        "id": "928414e9"
      },
      "outputs": [],
      "source": [
        "def clean_text(text):\n",
        "    text = lower_text(text)\n",
        "    text = remove_number(text)\n",
        "    text = remove_punct(text)\n",
        "    text = remove_stopwords(text)\n",
        "    \n",
        "    return text"
      ]
    },
    {
      "cell_type": "code",
      "execution_count": null,
      "id": "13c045f4",
      "metadata": {
        "execution": {
          "iopub.execute_input": "2021-08-04T11:54:34.246900Z",
          "iopub.status.busy": "2021-08-04T11:54:34.226113Z",
          "iopub.status.idle": "2021-08-04T11:54:35.504128Z",
          "shell.execute_reply": "2021-08-04T11:54:35.503410Z",
          "shell.execute_reply.started": "2021-08-04T03:04:06.106596Z"
        },
        "papermill": {
          "duration": 1.328987,
          "end_time": "2021-08-04T11:54:35.504273",
          "exception": false,
          "start_time": "2021-08-04T11:54:34.175286",
          "status": "completed"
        },
        "tags": [],
        "id": "13c045f4"
      },
      "outputs": [],
      "source": [
        "train_df[\"clean_text\"] = train_df[\"text\"].apply(clean_text)\n",
        "test_df[\"clean_text\"] = test_df[\"text\"].apply(clean_text)\n",
        "val_df[\"clean_text\"] = val_df[\"text\"].apply(clean_text)"
      ]
    },
    {
      "cell_type": "markdown",
      "id": "e60f476d",
      "metadata": {
        "papermill": {
          "duration": 0.034585,
          "end_time": "2021-08-04T11:54:35.574649",
          "exception": false,
          "start_time": "2021-08-04T11:54:35.540064",
          "status": "completed"
        },
        "tags": [],
        "id": "e60f476d"
      },
      "source": [
        "# Raw text vs Preprocessed Text"
      ]
    },
    {
      "cell_type": "code",
      "execution_count": null,
      "id": "d681d606",
      "metadata": {
        "execution": {
          "iopub.execute_input": "2021-08-04T11:54:35.656056Z",
          "iopub.status.busy": "2021-08-04T11:54:35.655122Z",
          "iopub.status.idle": "2021-08-04T11:54:35.659610Z",
          "shell.execute_reply": "2021-08-04T11:54:35.659130Z",
          "shell.execute_reply.started": "2021-08-04T03:04:28.098550Z"
        },
        "papermill": {
          "duration": 0.049869,
          "end_time": "2021-08-04T11:54:35.659749",
          "exception": false,
          "start_time": "2021-08-04T11:54:35.609880",
          "status": "completed"
        },
        "tags": [],
        "id": "d681d606",
        "outputId": "3da1b867-27a2-4e0b-f8cd-ac8678e93645"
      },
      "outputs": [
        {
          "data": {
            "text/html": [
              "<div>\n",
              "<style scoped>\n",
              "    .dataframe tbody tr th:only-of-type {\n",
              "        vertical-align: middle;\n",
              "    }\n",
              "\n",
              "    .dataframe tbody tr th {\n",
              "        vertical-align: top;\n",
              "    }\n",
              "\n",
              "    .dataframe thead th {\n",
              "        text-align: right;\n",
              "    }\n",
              "</style>\n",
              "<table border=\"1\" class=\"dataframe\">\n",
              "  <thead>\n",
              "    <tr style=\"text-align: right;\">\n",
              "      <th></th>\n",
              "      <th>text</th>\n",
              "      <th>label</th>\n",
              "      <th>clean_text</th>\n",
              "    </tr>\n",
              "  </thead>\n",
              "  <tbody>\n",
              "    <tr>\n",
              "      <th>0</th>\n",
              "      <td>i didnt feel humiliated</td>\n",
              "      <td>sadness</td>\n",
              "      <td>didnt feel humiliated</td>\n",
              "    </tr>\n",
              "    <tr>\n",
              "      <th>1</th>\n",
              "      <td>i can go from feeling so hopeless to so damned...</td>\n",
              "      <td>sadness</td>\n",
              "      <td>go feeling hopeless damned hopeful around some...</td>\n",
              "    </tr>\n",
              "    <tr>\n",
              "      <th>2</th>\n",
              "      <td>im grabbing a minute to post i feel greedy wrong</td>\n",
              "      <td>anger</td>\n",
              "      <td>im grabbing minute post feel greedy wrong</td>\n",
              "    </tr>\n",
              "    <tr>\n",
              "      <th>3</th>\n",
              "      <td>i am ever feeling nostalgic about the fireplac...</td>\n",
              "      <td>love</td>\n",
              "      <td>ever feeling nostalgic fireplace know still pr...</td>\n",
              "    </tr>\n",
              "    <tr>\n",
              "      <th>4</th>\n",
              "      <td>i am feeling grouchy</td>\n",
              "      <td>anger</td>\n",
              "      <td>feeling grouchy</td>\n",
              "    </tr>\n",
              "  </tbody>\n",
              "</table>\n",
              "</div>"
            ],
            "text/plain": [
              "                                                text    label  \\\n",
              "0                            i didnt feel humiliated  sadness   \n",
              "1  i can go from feeling so hopeless to so damned...  sadness   \n",
              "2   im grabbing a minute to post i feel greedy wrong    anger   \n",
              "3  i am ever feeling nostalgic about the fireplac...     love   \n",
              "4                               i am feeling grouchy    anger   \n",
              "\n",
              "                                          clean_text  \n",
              "0                              didnt feel humiliated  \n",
              "1  go feeling hopeless damned hopeful around some...  \n",
              "2          im grabbing minute post feel greedy wrong  \n",
              "3  ever feeling nostalgic fireplace know still pr...  \n",
              "4                                    feeling grouchy  "
            ]
          },
          "execution_count": 12,
          "metadata": {},
          "output_type": "execute_result"
        }
      ],
      "source": [
        "train_df.head()"
      ]
    },
    {
      "cell_type": "markdown",
      "id": "159285d4",
      "metadata": {
        "papermill": {
          "duration": 0.034899,
          "end_time": "2021-08-04T11:54:35.730048",
          "exception": false,
          "start_time": "2021-08-04T11:54:35.695149",
          "status": "completed"
        },
        "tags": [],
        "id": "159285d4"
      },
      "source": [
        "# Label Encoding Labels\n",
        "This means replcing String objects as labels with integer values"
      ]
    },
    {
      "cell_type": "code",
      "execution_count": null,
      "id": "90ec6515",
      "metadata": {
        "execution": {
          "iopub.execute_input": "2021-08-04T11:54:35.929049Z",
          "iopub.status.busy": "2021-08-04T11:54:35.921698Z",
          "iopub.status.idle": "2021-08-04T11:54:35.936222Z",
          "shell.execute_reply": "2021-08-04T11:54:35.935612Z",
          "shell.execute_reply.started": "2021-08-04T03:06:19.365990Z"
        },
        "papermill": {
          "duration": 0.170934,
          "end_time": "2021-08-04T11:54:35.936373",
          "exception": false,
          "start_time": "2021-08-04T11:54:35.765439",
          "status": "completed"
        },
        "tags": [],
        "id": "90ec6515"
      },
      "outputs": [],
      "source": [
        "from sklearn.preprocessing import LabelEncoder\n",
        "\n",
        "label_encoder = LabelEncoder()\n",
        "train_df[\"encoded_train_label\"] = label_encoder.fit_transform(train_df[\"label\"])\n",
        "val_df[\"encoded_val_label\"] = label_encoder.transform(val_df[\"label\"])\n",
        "test_df[\"encoded_test_label\"] = label_encoder.transform(test_df[\"label\"])"
      ]
    },
    {
      "cell_type": "code",
      "execution_count": null,
      "id": "f93e0532",
      "metadata": {
        "execution": {
          "iopub.execute_input": "2021-08-04T11:54:36.014185Z",
          "iopub.status.busy": "2021-08-04T11:54:36.013462Z",
          "iopub.status.idle": "2021-08-04T11:54:36.032250Z",
          "shell.execute_reply": "2021-08-04T11:54:36.031547Z",
          "shell.execute_reply.started": "2021-08-04T03:08:29.589183Z"
        },
        "papermill": {
          "duration": 0.059838,
          "end_time": "2021-08-04T11:54:36.032392",
          "exception": false,
          "start_time": "2021-08-04T11:54:35.972554",
          "status": "completed"
        },
        "tags": [],
        "id": "f93e0532",
        "outputId": "bb493af2-c001-43b1-9164-0cb89d2f091a"
      },
      "outputs": [
        {
          "data": {
            "text/html": [
              "<div>\n",
              "<style scoped>\n",
              "    .dataframe tbody tr th:only-of-type {\n",
              "        vertical-align: middle;\n",
              "    }\n",
              "\n",
              "    .dataframe tbody tr th {\n",
              "        vertical-align: top;\n",
              "    }\n",
              "\n",
              "    .dataframe thead th {\n",
              "        text-align: right;\n",
              "    }\n",
              "</style>\n",
              "<table border=\"1\" class=\"dataframe\">\n",
              "  <thead>\n",
              "    <tr style=\"text-align: right;\">\n",
              "      <th></th>\n",
              "      <th>label</th>\n",
              "      <th>encoded_train_label</th>\n",
              "    </tr>\n",
              "  </thead>\n",
              "  <tbody>\n",
              "    <tr>\n",
              "      <th>0</th>\n",
              "      <td>sadness</td>\n",
              "      <td>4</td>\n",
              "    </tr>\n",
              "    <tr>\n",
              "      <th>2</th>\n",
              "      <td>anger</td>\n",
              "      <td>0</td>\n",
              "    </tr>\n",
              "    <tr>\n",
              "      <th>3</th>\n",
              "      <td>love</td>\n",
              "      <td>3</td>\n",
              "    </tr>\n",
              "    <tr>\n",
              "      <th>6</th>\n",
              "      <td>surprise</td>\n",
              "      <td>5</td>\n",
              "    </tr>\n",
              "    <tr>\n",
              "      <th>7</th>\n",
              "      <td>fear</td>\n",
              "      <td>1</td>\n",
              "    </tr>\n",
              "    <tr>\n",
              "      <th>8</th>\n",
              "      <td>joy</td>\n",
              "      <td>2</td>\n",
              "    </tr>\n",
              "  </tbody>\n",
              "</table>\n",
              "</div>"
            ],
            "text/plain": [
              "      label  encoded_train_label\n",
              "0   sadness                    4\n",
              "2     anger                    0\n",
              "3      love                    3\n",
              "6  surprise                    5\n",
              "7      fear                    1\n",
              "8       joy                    2"
            ]
          },
          "execution_count": 14,
          "metadata": {},
          "output_type": "execute_result"
        }
      ],
      "source": [
        "train_df[['label', 'encoded_train_label']].drop_duplicates(keep='first')"
      ]
    },
    {
      "cell_type": "code",
      "execution_count": null,
      "id": "1691ac9c",
      "metadata": {
        "execution": {
          "iopub.execute_input": "2021-08-04T11:54:36.112302Z",
          "iopub.status.busy": "2021-08-04T11:54:36.111562Z",
          "iopub.status.idle": "2021-08-04T11:54:36.114803Z",
          "shell.execute_reply": "2021-08-04T11:54:36.114190Z",
          "shell.execute_reply.started": "2021-08-04T03:09:35.192511Z"
        },
        "papermill": {
          "duration": 0.045893,
          "end_time": "2021-08-04T11:54:36.114957",
          "exception": false,
          "start_time": "2021-08-04T11:54:36.069064",
          "status": "completed"
        },
        "tags": [],
        "id": "1691ac9c"
      },
      "outputs": [],
      "source": [
        "x_train, x_test, y_train, y_test = train_df[\"clean_text\"], val_df[\"clean_text\"], train_df[\"encoded_train_label\"], val_df[\"encoded_val_label\"]"
      ]
    },
    {
      "cell_type": "code",
      "execution_count": null,
      "id": "c863ef4b",
      "metadata": {
        "execution": {
          "iopub.execute_input": "2021-08-04T11:54:36.192911Z",
          "iopub.status.busy": "2021-08-04T11:54:36.192218Z",
          "iopub.status.idle": "2021-08-04T11:54:41.787500Z",
          "shell.execute_reply": "2021-08-04T11:54:41.788029Z",
          "shell.execute_reply.started": "2021-08-04T03:09:53.813164Z"
        },
        "papermill": {
          "duration": 5.637221,
          "end_time": "2021-08-04T11:54:41.788223",
          "exception": false,
          "start_time": "2021-08-04T11:54:36.151002",
          "status": "completed"
        },
        "tags": [],
        "id": "c863ef4b"
      },
      "outputs": [],
      "source": [
        "from keras.utils import np_utils\n",
        "from keras.preprocessing.text import Tokenizer\n",
        "from keras.preprocessing.sequence import pad_sequences\n",
        "\n",
        "import tensorflow as tf\n",
        "from keras import layers\n",
        "from keras.models import Sequential\n",
        "\n",
        "EPOCHS= 30\n",
        "act= \"swish\"\n",
        "opt= tf.keras.optimizers.Adam(learning_rate=0.001)"
      ]
    },
    {
      "cell_type": "markdown",
      "id": "eb35512e",
      "metadata": {
        "papermill": {
          "duration": 0.036234,
          "end_time": "2021-08-04T11:54:41.860863",
          "exception": false,
          "start_time": "2021-08-04T11:54:41.824629",
          "status": "completed"
        },
        "tags": [],
        "id": "eb35512e"
      },
      "source": [
        "# Converting texts to vectors via tokenization"
      ]
    },
    {
      "cell_type": "code",
      "execution_count": null,
      "id": "2b26ff36",
      "metadata": {
        "execution": {
          "iopub.execute_input": "2021-08-04T11:54:41.978196Z",
          "iopub.status.busy": "2021-08-04T11:54:41.972959Z",
          "iopub.status.idle": "2021-08-04T11:54:42.506284Z",
          "shell.execute_reply": "2021-08-04T11:54:42.505565Z",
          "shell.execute_reply.started": "2021-08-04T03:10:31.168740Z"
        },
        "papermill": {
          "duration": 0.609338,
          "end_time": "2021-08-04T11:54:42.506460",
          "exception": false,
          "start_time": "2021-08-04T11:54:41.897122",
          "status": "completed"
        },
        "tags": [],
        "id": "2b26ff36"
      },
      "outputs": [],
      "source": [
        "tokenizer = Tokenizer()\n",
        "tokenizer.fit_on_texts(x_train)\n",
        "\n",
        "X_train = tokenizer.texts_to_sequences(x_train)\n",
        "X_test = tokenizer.texts_to_sequences(x_test)\n",
        "TEST = tokenizer.texts_to_sequences(test_df[\"clean_text\"]) \n",
        "\n",
        "vocab_size = len(tokenizer.word_index) + 1 "
      ]
    },
    {
      "cell_type": "markdown",
      "id": "ce5b1af3",
      "metadata": {
        "papermill": {
          "duration": 0.036112,
          "end_time": "2021-08-04T11:54:42.601743",
          "exception": false,
          "start_time": "2021-08-04T11:54:42.565631",
          "status": "completed"
        },
        "tags": [],
        "id": "ce5b1af3"
      },
      "source": [
        "# Calculating maximum length of a vector"
      ]
    },
    {
      "cell_type": "code",
      "execution_count": null,
      "id": "f70bcf24",
      "metadata": {
        "execution": {
          "iopub.execute_input": "2021-08-04T11:54:42.701503Z",
          "iopub.status.busy": "2021-08-04T11:54:42.700461Z",
          "iopub.status.idle": "2021-08-04T11:54:42.705587Z",
          "shell.execute_reply": "2021-08-04T11:54:42.705090Z",
          "shell.execute_reply.started": "2021-08-04T03:10:39.932650Z"
        },
        "papermill": {
          "duration": 0.055875,
          "end_time": "2021-08-04T11:54:42.705730",
          "exception": false,
          "start_time": "2021-08-04T11:54:42.649855",
          "status": "completed"
        },
        "tags": [],
        "id": "f70bcf24",
        "outputId": "7198b694-a274-4dd2-923a-0129f87cfd8a"
      },
      "outputs": [
        {
          "name": "stdout",
          "output_type": "stream",
          "text": [
            "Max len: 35\n"
          ]
        }
      ],
      "source": [
        "lens_train = [len(i) for i in X_train]\n",
        "lens_test = [len(i) for i in X_test]\n",
        "lens = lens_train + lens_test\n",
        "\n",
        "maxlen = np.max(lens)\n",
        "\n",
        "print('Max len:', maxlen)"
      ]
    },
    {
      "cell_type": "markdown",
      "id": "94eb1ccb",
      "metadata": {
        "papermill": {
          "duration": 0.040723,
          "end_time": "2021-08-04T11:54:42.784994",
          "exception": false,
          "start_time": "2021-08-04T11:54:42.744271",
          "status": "completed"
        },
        "tags": [],
        "id": "94eb1ccb"
      },
      "source": [
        "# Zero padding every vector so that they are the same size"
      ]
    },
    {
      "cell_type": "code",
      "execution_count": null,
      "id": "f7d9cc7a",
      "metadata": {
        "execution": {
          "iopub.execute_input": "2021-08-04T11:54:42.880684Z",
          "iopub.status.busy": "2021-08-04T11:54:42.880001Z",
          "iopub.status.idle": "2021-08-04T11:54:43.069904Z",
          "shell.execute_reply": "2021-08-04T11:54:43.069237Z",
          "shell.execute_reply.started": "2021-08-04T03:10:48.215718Z"
        },
        "papermill": {
          "duration": 0.242971,
          "end_time": "2021-08-04T11:54:43.070211",
          "exception": false,
          "start_time": "2021-08-04T11:54:42.827240",
          "status": "completed"
        },
        "tags": [],
        "id": "f7d9cc7a"
      },
      "outputs": [],
      "source": [
        "X_train = pad_sequences(X_train, padding='post', maxlen=maxlen)\n",
        "X_test = pad_sequences(X_test, padding='post', maxlen=maxlen)\n",
        "TEST = pad_sequences(TEST, padding='post', maxlen=maxlen)"
      ]
    },
    {
      "cell_type": "markdown",
      "id": "0df98696",
      "metadata": {
        "papermill": {
          "duration": 0.037801,
          "end_time": "2021-08-04T11:54:43.156303",
          "exception": false,
          "start_time": "2021-08-04T11:54:43.118502",
          "status": "completed"
        },
        "tags": [],
        "id": "0df98696"
      },
      "source": [
        "# One Hot Encoding integer labels"
      ]
    },
    {
      "cell_type": "code",
      "execution_count": null,
      "id": "79cfbfd7",
      "metadata": {
        "execution": {
          "iopub.execute_input": "2021-08-04T11:54:43.235366Z",
          "iopub.status.busy": "2021-08-04T11:54:43.234473Z",
          "iopub.status.idle": "2021-08-04T11:54:43.238676Z",
          "shell.execute_reply": "2021-08-04T11:54:43.238099Z",
          "shell.execute_reply.started": "2021-08-04T03:10:55.965378Z"
        },
        "papermill": {
          "duration": 0.045287,
          "end_time": "2021-08-04T11:54:43.238822",
          "exception": false,
          "start_time": "2021-08-04T11:54:43.193535",
          "status": "completed"
        },
        "tags": [],
        "id": "79cfbfd7"
      },
      "outputs": [],
      "source": [
        "dummy_y_test = np_utils.to_categorical(y_test)\n",
        "dummy_y_train = np_utils.to_categorical(y_train)"
      ]
    },
    {
      "cell_type": "markdown",
      "id": "1a2d99c7",
      "metadata": {
        "papermill": {
          "duration": 0.036419,
          "end_time": "2021-08-04T11:54:43.312027",
          "exception": false,
          "start_time": "2021-08-04T11:54:43.275608",
          "status": "completed"
        },
        "tags": [],
        "id": "1a2d99c7"
      },
      "source": [
        "# Reading GloVe"
      ]
    },
    {
      "cell_type": "code",
      "execution_count": null,
      "id": "2f748af2",
      "metadata": {
        "execution": {
          "iopub.execute_input": "2021-08-04T11:54:43.394516Z",
          "iopub.status.busy": "2021-08-04T11:54:43.393541Z",
          "iopub.status.idle": "2021-08-04T11:54:43.396752Z",
          "shell.execute_reply": "2021-08-04T11:54:43.396236Z",
          "shell.execute_reply.started": "2021-08-04T03:16:51.414993Z"
        },
        "papermill": {
          "duration": 0.047088,
          "end_time": "2021-08-04T11:54:43.396892",
          "exception": false,
          "start_time": "2021-08-04T11:54:43.349804",
          "status": "completed"
        },
        "tags": [],
        "id": "2f748af2"
      },
      "outputs": [],
      "source": [
        "def get_embedding_vectors(tokenizer, dim=300):\n",
        "    embedding_index = {}\n",
        "    with open('../input/glove840b300dtxt/glove.840B.300d.txt','r') as f:\n",
        "        for line in tqdm.tqdm(f, \"Reading GloVe\"):\n",
        "            values = line.split()\n",
        "            word = ''.join(values[:-300])\n",
        "            vectors = np.asarray(values[-300:], dtype='float32')\n",
        "            embedding_index[word] = vectors\n",
        "\n",
        "    word_index = tokenizer.word_index\n",
        "    embedding_matrix = np.zeros((len(word_index)+1, dim))\n",
        "    for word, i in word_index.items():\n",
        "        embedding_vector = embedding_index.get(word)\n",
        "        if embedding_vector is not None:\n",
        "            # words not found will be 0s\n",
        "            embedding_matrix[i] = embedding_vector\n",
        "          \n",
        "    return embedding_matrix"
      ]
    },
    {
      "cell_type": "code",
      "execution_count": null,
      "id": "4ce03207",
      "metadata": {
        "execution": {
          "iopub.execute_input": "2021-08-04T11:54:43.473984Z",
          "iopub.status.busy": "2021-08-04T11:54:43.473351Z",
          "iopub.status.idle": "2021-08-04T11:59:41.506899Z",
          "shell.execute_reply": "2021-08-04T11:59:41.506202Z",
          "shell.execute_reply.started": "2021-08-04T03:16:54.572983Z"
        },
        "papermill": {
          "duration": 298.073665,
          "end_time": "2021-08-04T11:59:41.507077",
          "exception": false,
          "start_time": "2021-08-04T11:54:43.433412",
          "status": "completed"
        },
        "tags": [],
        "id": "4ce03207",
        "outputId": "72504bd9-157d-49c4-9cf5-565b79cea9ae"
      },
      "outputs": [
        {
          "name": "stderr",
          "output_type": "stream",
          "text": [
            "Reading GloVe: 2196018it [04:56, 7396.85it/s]\n"
          ]
        }
      ],
      "source": [
        "embedding_matrix = get_embedding_vectors(tokenizer)"
      ]
    },
    {
      "cell_type": "markdown",
      "id": "6a1e161d",
      "metadata": {
        "papermill": {
          "duration": 0.911759,
          "end_time": "2021-08-04T11:59:43.325538",
          "exception": false,
          "start_time": "2021-08-04T11:59:42.413779",
          "status": "completed"
        },
        "tags": [],
        "id": "6a1e161d"
      },
      "source": [
        "# Defining CNN-BiLSTM model"
      ]
    },
    {
      "cell_type": "code",
      "execution_count": null,
      "id": "6d1d5c09",
      "metadata": {
        "execution": {
          "iopub.execute_input": "2021-08-04T11:59:45.162884Z",
          "iopub.status.busy": "2021-08-04T11:59:45.162190Z",
          "iopub.status.idle": "2021-08-04T11:59:45.741623Z",
          "shell.execute_reply": "2021-08-04T11:59:45.740872Z",
          "shell.execute_reply.started": "2021-08-04T03:21:50.857668Z"
        },
        "papermill": {
          "duration": 1.50623,
          "end_time": "2021-08-04T11:59:45.741789",
          "exception": false,
          "start_time": "2021-08-04T11:59:44.235559",
          "status": "completed"
        },
        "tags": [],
        "id": "6d1d5c09",
        "outputId": "825b5d7c-6669-483d-b1ff-ad8bbee89094"
      },
      "outputs": [
        {
          "name": "stdout",
          "output_type": "stream",
          "text": [
            "Model: \"sequential\"\n",
            "_________________________________________________________________\n",
            "Layer (type)                 Output Shape              Param #   \n",
            "=================================================================\n",
            "embedding (Embedding)        (None, 35, 300)           4519500   \n",
            "_________________________________________________________________\n",
            "dropout (Dropout)            (None, 35, 300)           0         \n",
            "_________________________________________________________________\n",
            "conv1d (Conv1D)              (None, 33, 32)            28832     \n",
            "_________________________________________________________________\n",
            "max_pooling1d (MaxPooling1D) (None, 11, 32)            0         \n",
            "_________________________________________________________________\n",
            "dropout_1 (Dropout)          (None, 11, 32)            0         \n",
            "_________________________________________________________________\n",
            "conv1d_1 (Conv1D)            (None, 9, 32)             3104      \n",
            "_________________________________________________________________\n",
            "max_pooling1d_1 (MaxPooling1 (None, 3, 32)             0         \n",
            "_________________________________________________________________\n",
            "dropout_2 (Dropout)          (None, 3, 32)             0         \n",
            "_________________________________________________________________\n",
            "bidirectional (Bidirectional (None, 512)               591872    \n",
            "_________________________________________________________________\n",
            "dropout_3 (Dropout)          (None, 512)               0         \n",
            "_________________________________________________________________\n",
            "dense (Dense)                (None, 256)               131328    \n",
            "_________________________________________________________________\n",
            "dropout_4 (Dropout)          (None, 256)               0         \n",
            "_________________________________________________________________\n",
            "dense_1 (Dense)              (None, 6)                 1542      \n",
            "=================================================================\n",
            "Total params: 5,276,178\n",
            "Trainable params: 5,276,178\n",
            "Non-trainable params: 0\n",
            "_________________________________________________________________\n"
          ]
        }
      ],
      "source": [
        "embedding_dim = 300\n",
        "\n",
        "model = Sequential()\n",
        "model.add(layers.Embedding(input_dim=vocab_size, output_dim=embedding_dim, weights = [embedding_matrix], input_length=maxlen))\n",
        "model.add(layers.Dropout(0.3)) \n",
        "model.add(layers.Conv1D(filters=32, kernel_size=3, activation=act)) \n",
        "model.add(layers.MaxPool1D(pool_size=3)) \n",
        "model.add(layers.Dropout(0.3))\n",
        "model.add(layers.Conv1D(filters=32, kernel_size=3, activation=act)) \n",
        "model.add(layers.MaxPool1D(pool_size=3)) \n",
        "model.add(layers.Dropout(0.3))\n",
        "model.add(layers.Bidirectional(layers.LSTM(256, recurrent_dropout=0.3)))\n",
        "model.add(layers.Dropout(0.3))\n",
        "model.add(layers.Dense(256,activation=act)) \n",
        "model.add(layers.Dropout(0.3)) \n",
        "model.add(layers.Dense(6, activation=\"softmax\"))\n",
        "model.compile(optimizer=opt, loss=\"categorical_crossentropy\",metrics=[\"accuracy\"])\n",
        "model.summary()"
      ]
    },
    {
      "cell_type": "code",
      "execution_count": null,
      "id": "4829adf8",
      "metadata": {
        "execution": {
          "iopub.execute_input": "2021-08-04T11:59:47.562268Z",
          "iopub.status.busy": "2021-08-04T11:59:47.561544Z",
          "iopub.status.idle": "2021-08-04T11:59:47.565573Z",
          "shell.execute_reply": "2021-08-04T11:59:47.565031Z",
          "shell.execute_reply.started": "2021-08-04T03:21:51.428937Z"
        },
        "papermill": {
          "duration": 0.918778,
          "end_time": "2021-08-04T11:59:47.565811",
          "exception": false,
          "start_time": "2021-08-04T11:59:46.647033",
          "status": "completed"
        },
        "tags": [],
        "id": "4829adf8"
      },
      "outputs": [],
      "source": [
        "checkpoint_filepath = './Checkpoint/checkpoint'\n",
        "model_checkpoint_callback = tf.keras.callbacks.ModelCheckpoint(\n",
        "    filepath=checkpoint_filepath,\n",
        "    save_weights_only=True,\n",
        "    monitor='val_accuracy',\n",
        "    mode='max',\n",
        "    save_best_only=True)"
      ]
    },
    {
      "cell_type": "code",
      "execution_count": null,
      "id": "7912c6bd",
      "metadata": {
        "execution": {
          "iopub.execute_input": "2021-08-04T11:59:49.429700Z",
          "iopub.status.busy": "2021-08-04T11:59:49.428957Z",
          "iopub.status.idle": "2021-08-04T12:05:26.697744Z",
          "shell.execute_reply": "2021-08-04T12:05:26.697224Z",
          "shell.execute_reply.started": "2021-08-04T03:21:51.435244Z"
        },
        "papermill": {
          "duration": 338.226804,
          "end_time": "2021-08-04T12:05:26.697895",
          "exception": false,
          "start_time": "2021-08-04T11:59:48.471091",
          "status": "completed"
        },
        "tags": [],
        "id": "7912c6bd",
        "outputId": "fbb52605-4cdc-4f0e-ded4-795cc11e2dc6"
      },
      "outputs": [
        {
          "name": "stdout",
          "output_type": "stream",
          "text": [
            "Epoch 1/30\n",
            "125/125 [==============================] - 17s 103ms/step - loss: 1.5477 - accuracy: 0.3837 - val_loss: 0.8524 - val_accuracy: 0.6830\n",
            "Epoch 2/30\n",
            "125/125 [==============================] - 11s 88ms/step - loss: 0.8581 - accuracy: 0.6829 - val_loss: 0.4143 - val_accuracy: 0.8545\n",
            "Epoch 3/30\n",
            "125/125 [==============================] - 11s 91ms/step - loss: 0.4754 - accuracy: 0.8304 - val_loss: 0.3122 - val_accuracy: 0.8815\n",
            "Epoch 4/30\n",
            "125/125 [==============================] - 11s 87ms/step - loss: 0.3460 - accuracy: 0.8801 - val_loss: 0.2408 - val_accuracy: 0.9095\n",
            "Epoch 5/30\n",
            "125/125 [==============================] - 11s 88ms/step - loss: 0.2850 - accuracy: 0.8980 - val_loss: 0.2321 - val_accuracy: 0.9180\n",
            "Epoch 6/30\n",
            "125/125 [==============================] - 12s 92ms/step - loss: 0.2296 - accuracy: 0.9218 - val_loss: 0.2174 - val_accuracy: 0.9230\n",
            "Epoch 7/30\n",
            "125/125 [==============================] - 11s 89ms/step - loss: 0.2010 - accuracy: 0.9299 - val_loss: 0.2196 - val_accuracy: 0.9270\n",
            "Epoch 8/30\n",
            "125/125 [==============================] - 11s 89ms/step - loss: 0.1586 - accuracy: 0.9466 - val_loss: 0.2327 - val_accuracy: 0.9230\n",
            "Epoch 9/30\n",
            "125/125 [==============================] - 11s 86ms/step - loss: 0.1616 - accuracy: 0.9414 - val_loss: 0.2239 - val_accuracy: 0.9265\n",
            "Epoch 10/30\n",
            "125/125 [==============================] - 11s 87ms/step - loss: 0.1437 - accuracy: 0.9498 - val_loss: 0.2236 - val_accuracy: 0.9255\n",
            "Epoch 11/30\n",
            "125/125 [==============================] - 11s 88ms/step - loss: 0.1262 - accuracy: 0.9551 - val_loss: 0.2269 - val_accuracy: 0.9260\n",
            "Epoch 12/30\n",
            "125/125 [==============================] - 11s 85ms/step - loss: 0.1095 - accuracy: 0.9646 - val_loss: 0.2289 - val_accuracy: 0.9280\n",
            "Epoch 13/30\n",
            "125/125 [==============================] - 11s 87ms/step - loss: 0.1043 - accuracy: 0.9638 - val_loss: 0.2257 - val_accuracy: 0.9275\n",
            "Epoch 14/30\n",
            "125/125 [==============================] - 11s 90ms/step - loss: 0.0960 - accuracy: 0.9655 - val_loss: 0.2370 - val_accuracy: 0.9255\n",
            "Epoch 15/30\n",
            "125/125 [==============================] - 10s 84ms/step - loss: 0.0917 - accuracy: 0.9696 - val_loss: 0.2288 - val_accuracy: 0.9205\n",
            "Epoch 16/30\n",
            "125/125 [==============================] - 11s 87ms/step - loss: 0.0848 - accuracy: 0.9697 - val_loss: 0.2358 - val_accuracy: 0.9280\n",
            "Epoch 17/30\n",
            "125/125 [==============================] - 11s 88ms/step - loss: 0.0796 - accuracy: 0.9729 - val_loss: 0.2556 - val_accuracy: 0.9245\n",
            "Epoch 18/30\n",
            "125/125 [==============================] - 11s 85ms/step - loss: 0.0707 - accuracy: 0.9757 - val_loss: 0.2468 - val_accuracy: 0.9240\n",
            "Epoch 19/30\n",
            "125/125 [==============================] - 11s 85ms/step - loss: 0.0776 - accuracy: 0.9713 - val_loss: 0.2672 - val_accuracy: 0.9240\n",
            "Epoch 20/30\n",
            "125/125 [==============================] - 11s 88ms/step - loss: 0.0736 - accuracy: 0.9748 - val_loss: 0.2783 - val_accuracy: 0.9185\n",
            "Epoch 21/30\n",
            "125/125 [==============================] - 11s 89ms/step - loss: 0.0642 - accuracy: 0.9796 - val_loss: 0.2546 - val_accuracy: 0.9220\n",
            "Epoch 22/30\n",
            "125/125 [==============================] - 10s 84ms/step - loss: 0.0602 - accuracy: 0.9782 - val_loss: 0.2598 - val_accuracy: 0.9245\n",
            "Epoch 23/30\n",
            "125/125 [==============================] - 11s 84ms/step - loss: 0.0575 - accuracy: 0.9793 - val_loss: 0.2700 - val_accuracy: 0.9220\n",
            "Epoch 24/30\n",
            "125/125 [==============================] - 11s 87ms/step - loss: 0.0550 - accuracy: 0.9802 - val_loss: 0.2865 - val_accuracy: 0.9240\n",
            "Epoch 25/30\n",
            "125/125 [==============================] - 11s 85ms/step - loss: 0.0564 - accuracy: 0.9788 - val_loss: 0.2766 - val_accuracy: 0.9205\n",
            "Epoch 26/30\n",
            "125/125 [==============================] - 10s 83ms/step - loss: 0.0581 - accuracy: 0.9798 - val_loss: 0.2696 - val_accuracy: 0.9235\n",
            "Epoch 27/30\n",
            "125/125 [==============================] - 11s 89ms/step - loss: 0.0536 - accuracy: 0.9803 - val_loss: 0.2690 - val_accuracy: 0.9220\n",
            "Epoch 28/30\n",
            "125/125 [==============================] - 11s 86ms/step - loss: 0.0538 - accuracy: 0.9823 - val_loss: 0.2695 - val_accuracy: 0.9235\n",
            "Epoch 29/30\n",
            "125/125 [==============================] - 10s 83ms/step - loss: 0.0497 - accuracy: 0.9844 - val_loss: 0.2869 - val_accuracy: 0.9215\n",
            "Epoch 30/30\n",
            "125/125 [==============================] - 11s 90ms/step - loss: 0.0509 - accuracy: 0.9822 - val_loss: 0.2969 - val_accuracy: 0.9190\n",
            "Training Accuracy: 0.9957\n",
            "Testing Accuracy:  0.9190\n"
          ]
        }
      ],
      "source": [
        "history = model.fit(X_train, dummy_y_train, epochs=EPOCHS, verbose=1, validation_data=(X_test, dummy_y_test), batch_size=128, callbacks=[model_checkpoint_callback]) \n",
        "loss, accuracy = model.evaluate(X_train, dummy_y_train, verbose=0)\n",
        "print(\"Training Accuracy: {:.4f}\".format(accuracy))\n",
        "loss, accuracy = model.evaluate(X_test, dummy_y_test, verbose=0)\n",
        "print(\"Testing Accuracy:  {:.4f}\".format(accuracy))"
      ]
    },
    {
      "cell_type": "code",
      "execution_count": null,
      "id": "f9ff56e4",
      "metadata": {
        "execution": {
          "iopub.execute_input": "2021-08-04T12:05:30.833812Z",
          "iopub.status.busy": "2021-08-04T12:05:30.832781Z",
          "iopub.status.idle": "2021-08-04T12:05:30.835502Z",
          "shell.execute_reply": "2021-08-04T12:05:30.836209Z",
          "shell.execute_reply.started": "2021-08-04T03:27:32.584379Z"
        },
        "papermill": {
          "duration": 2.075707,
          "end_time": "2021-08-04T12:05:30.836447",
          "exception": false,
          "start_time": "2021-08-04T12:05:28.760740",
          "status": "completed"
        },
        "tags": [],
        "id": "f9ff56e4"
      },
      "outputs": [],
      "source": [
        "def PlotGraph(history):\n",
        "    acc = history.history['accuracy']\n",
        "    val_acc = history.history['val_accuracy']\n",
        "    loss = history.history['loss']\n",
        "    val_loss = history.history['val_loss']\n",
        "    x = range(1, len(acc) + 1)\n",
        "\n",
        "    plt.figure(figsize=(12, 5))\n",
        "    plt.subplot(1, 2, 1)\n",
        "    plt.plot(x, acc, 'g', label='Training acc')\n",
        "    plt.plot(x, val_acc, 'b', label='Validation acc')\n",
        "    plt.title('Training and validation accuracy')\n",
        "    plt.legend()\n",
        "    plt.subplot(1, 2, 2)\n",
        "    plt.plot(x, loss, 'g', label='Training loss')\n",
        "    plt.plot(x, val_loss, 'b', label='Validation loss')\n",
        "    plt.title('Training and validation loss')\n",
        "    plt.legend()"
      ]
    },
    {
      "cell_type": "code",
      "execution_count": null,
      "id": "1cdb2b23",
      "metadata": {
        "execution": {
          "iopub.execute_input": "2021-08-04T12:05:35.029624Z",
          "iopub.status.busy": "2021-08-04T12:05:35.028914Z",
          "iopub.status.idle": "2021-08-04T12:05:35.424575Z",
          "shell.execute_reply": "2021-08-04T12:05:35.425068Z",
          "shell.execute_reply.started": "2021-08-04T03:27:34.713816Z"
        },
        "papermill": {
          "duration": 2.447363,
          "end_time": "2021-08-04T12:05:35.425249",
          "exception": false,
          "start_time": "2021-08-04T12:05:32.977886",
          "status": "completed"
        },
        "tags": [],
        "id": "1cdb2b23",
        "outputId": "e587ae06-c591-47f9-f771-e3cb854079d2"
      },
      "outputs": [
        {
          "data": {
            "image/png": "[encoded data removed]",
            "text/plain": [
              "<Figure size 864x360 with 2 Axes>"
            ]
          },
          "metadata": {
            "needs_background": "light"
          },
          "output_type": "display_data"
        }
      ],
      "source": [
        "PlotGraph(history)"
      ]
    },
    {
      "cell_type": "code",
      "execution_count": null,
      "id": "86e6c737",
      "metadata": {
        "execution": {
          "iopub.execute_input": "2021-08-04T12:05:39.537561Z",
          "iopub.status.busy": "2021-08-04T12:05:39.536907Z",
          "iopub.status.idle": "2021-08-04T12:05:39.543109Z",
          "shell.execute_reply": "2021-08-04T12:05:39.542570Z",
          "shell.execute_reply.started": "2021-08-04T03:30:51.822776Z"
        },
        "papermill": {
          "duration": 2.089893,
          "end_time": "2021-08-04T12:05:39.543252",
          "exception": false,
          "start_time": "2021-08-04T12:05:37.453359",
          "status": "completed"
        },
        "tags": [],
        "id": "86e6c737",
        "outputId": "c4640065-5503-440a-973b-f8d812b0efbc"
      },
      "outputs": [
        {
          "name": "stdout",
          "output_type": "stream",
          "text": [
            "Best Accuracy Achieved by Model: 0.9279999732971191\n"
          ]
        }
      ],
      "source": [
        "print(f\"Best Accuracy Achieved by Model: {max(history.history['val_accuracy'])}\")"
      ]
    },
    {
      "cell_type": "code",
      "execution_count": null,
      "id": "b378aeb9",
      "metadata": {
        "execution": {
          "iopub.execute_input": "2021-08-04T12:05:43.697898Z",
          "iopub.status.busy": "2021-08-04T12:05:43.697240Z",
          "iopub.status.idle": "2021-08-04T12:05:43.773155Z",
          "shell.execute_reply": "2021-08-04T12:05:43.773634Z",
          "shell.execute_reply.started": "2021-08-04T03:27:39.092107Z"
        },
        "papermill": {
          "duration": 2.172642,
          "end_time": "2021-08-04T12:05:43.773835",
          "exception": false,
          "start_time": "2021-08-04T12:05:41.601193",
          "status": "completed"
        },
        "tags": [],
        "id": "b378aeb9",
        "outputId": "29e88fea-7c00-4bb0-c0e8-8b3a0b90fb05"
      },
      "outputs": [
        {
          "data": {
            "text/plain": [
              "<tensorflow.python.training.tracking.util.CheckpointLoadStatus at 0x7f6f6ed05e90>"
            ]
          },
          "execution_count": 29,
          "metadata": {},
          "output_type": "execute_result"
        }
      ],
      "source": [
        "model.load_weights(checkpoint_filepath)"
      ]
    },
    {
      "cell_type": "code",
      "execution_count": null,
      "id": "078af975",
      "metadata": {
        "execution": {
          "iopub.execute_input": "2021-08-04T12:05:47.937230Z",
          "iopub.status.busy": "2021-08-04T12:05:47.936190Z",
          "iopub.status.idle": "2021-08-04T12:05:48.826666Z",
          "shell.execute_reply": "2021-08-04T12:05:48.827232Z",
          "shell.execute_reply.started": "2021-08-04T03:27:40.859367Z"
        },
        "papermill": {
          "duration": 3.000542,
          "end_time": "2021-08-04T12:05:48.827416",
          "exception": false,
          "start_time": "2021-08-04T12:05:45.826874",
          "status": "completed"
        },
        "tags": [],
        "id": "078af975",
        "outputId": "54f74e20-3ccc-430b-8d3b-1b754c652633"
      },
      "outputs": [
        {
          "data": {
            "text/plain": [
              "array([4, 4, 4, ..., 2, 2, 5])"
            ]
          },
          "execution_count": 30,
          "metadata": {},
          "output_type": "execute_result"
        }
      ],
      "source": [
        "predict = model.predict(TEST)\n",
        "predict_class = np.argmax(predict, axis=1)\n",
        "predict_class = np.array(predict_class)\n",
        "predict_class"
      ]
    },
    {
      "cell_type": "markdown",
      "id": "6cfb6669",
      "metadata": {
        "papermill": {
          "duration": 2.04828,
          "end_time": "2021-08-04T12:05:52.930323",
          "exception": false,
          "start_time": "2021-08-04T12:05:50.882043",
          "status": "completed"
        },
        "tags": [],
        "id": "6cfb6669"
      },
      "source": [
        "# Performance"
      ]
    },
    {
      "cell_type": "code",
      "execution_count": null,
      "id": "f827bf76",
      "metadata": {
        "execution": {
          "iopub.execute_input": "2021-08-04T12:05:57.101392Z",
          "iopub.status.busy": "2021-08-04T12:05:57.100744Z",
          "iopub.status.idle": "2021-08-04T12:05:57.109001Z",
          "shell.execute_reply": "2021-08-04T12:05:57.109520Z",
          "shell.execute_reply.started": "2021-08-04T03:27:44.248737Z"
        },
        "papermill": {
          "duration": 2.054675,
          "end_time": "2021-08-04T12:05:57.109702",
          "exception": false,
          "start_time": "2021-08-04T12:05:55.055027",
          "status": "completed"
        },
        "tags": [],
        "id": "f827bf76",
        "outputId": "b9f5fdec-84e8-4e55-9db7-5f1063b4f69a"
      },
      "outputs": [
        {
          "data": {
            "text/plain": [
              "array([[257,   1,   2,   1,  11,   3],\n",
              "       [ 10, 189,   0,   0,   5,  20],\n",
              "       [  0,   1, 655,  32,   1,   6],\n",
              "       [  2,   0,  26, 130,   1,   0],\n",
              "       [ 13,   4,   9,   1, 554,   0],\n",
              "       [  2,   6,   5,   0,   2,  51]])"
            ]
          },
          "execution_count": 31,
          "metadata": {},
          "output_type": "execute_result"
        }
      ],
      "source": [
        "from sklearn.metrics import confusion_matrix\n",
        "\n",
        "cm = confusion_matrix(test_df[\"encoded_test_label\"], predict_class)\n",
        "cm"
      ]
    },
    {
      "cell_type": "code",
      "execution_count": null,
      "id": "306279dc",
      "metadata": {
        "execution": {
          "iopub.execute_input": "2021-08-04T12:06:01.205129Z",
          "iopub.status.busy": "2021-08-04T12:06:01.204430Z",
          "iopub.status.idle": "2021-08-04T12:06:01.610518Z",
          "shell.execute_reply": "2021-08-04T12:06:01.609737Z",
          "shell.execute_reply.started": "2021-08-04T03:27:47.571264Z"
        },
        "papermill": {
          "duration": 2.456647,
          "end_time": "2021-08-04T12:06:01.610682",
          "exception": false,
          "start_time": "2021-08-04T12:05:59.154035",
          "status": "completed"
        },
        "tags": [],
        "id": "306279dc",
        "outputId": "998b7521-5767-4cb6-e256-3f14ffec31d6"
      },
      "outputs": [
        {
          "data": {
            "text/plain": [
              "<AxesSubplot:>"
            ]
          },
          "execution_count": 32,
          "metadata": {},
          "output_type": "execute_result"
        },
        {
          "data": {
            "image/png": "[encoded data removed]",
            "text/plain": [
              "<Figure size 720x504 with 2 Axes>"
            ]
          },
          "metadata": {
            "needs_background": "light"
          },
          "output_type": "display_data"
        }
      ],
      "source": [
        "df_cm = pd.DataFrame(cm, index=[\"anger\", \"fear\", \"joy\", \"love\", \"sadness\", \"surprise\"], columns=[\"anger\", \"fear\", \"joy\", \"love\", \"sadness\", \"surprise\"])\n",
        "plt.figure(figsize = (10,7))\n",
        "sns.heatmap(df_cm,annot=True, fmt =\"d\")"
      ]
    },
    {
      "cell_type": "code",
      "execution_count": null,
      "id": "4c46bd66",
      "metadata": {
        "execution": {
          "iopub.execute_input": "2021-08-04T12:06:05.861827Z",
          "iopub.status.busy": "2021-08-04T12:06:05.860806Z",
          "iopub.status.idle": "2021-08-04T12:06:05.875974Z",
          "shell.execute_reply": "2021-08-04T12:06:05.876847Z",
          "shell.execute_reply.started": "2021-08-04T03:27:56.069962Z"
        },
        "papermill": {
          "duration": 2.159561,
          "end_time": "2021-08-04T12:06:05.877103",
          "exception": false,
          "start_time": "2021-08-04T12:06:03.717542",
          "status": "completed"
        },
        "tags": [],
        "id": "4c46bd66",
        "outputId": "2e95e8d0-121c-4293-9421-d7ec1b189095"
      },
      "outputs": [
        {
          "name": "stdout",
          "output_type": "stream",
          "text": [
            "              precision    recall  f1-score   support\n",
            "\n",
            "       anger       0.90      0.93      0.92       275\n",
            "        fear       0.94      0.84      0.89       224\n",
            "         joy       0.94      0.94      0.94       695\n",
            "        love       0.79      0.82      0.80       159\n",
            "     sadness       0.97      0.95      0.96       581\n",
            "    surprise       0.64      0.77      0.70        66\n",
            "\n",
            "    accuracy                           0.92      2000\n",
            "   macro avg       0.86      0.88      0.87      2000\n",
            "weighted avg       0.92      0.92      0.92      2000\n",
            "\n"
          ]
        }
      ],
      "source": [
        "from sklearn.metrics import classification_report\n",
        "\n",
        "print(classification_report(test_df[\"encoded_test_label\"], predict_class, target_names =[\"anger\", \"fear\", \"joy\", \"love\", \"sadness\", \"surprise\"]))"
      ]
    }
  ],
  "metadata": {
    "kernelspec": {
      "display_name": "Python 3",
      "language": "python",
      "name": "python3"
    },
    "language_info": {
      "codemirror_mode": {
        "name": "ipython",
        "version": 3
      },
      "file_extension": ".py",
      "mimetype": "text/x-python",
      "name": "python",
      "nbconvert_exporter": "python",
      "pygments_lexer": "ipython3",
      "version": "3.7.10"
    },
    "papermill": {
      "default_parameters": {},
      "duration": 706.669902,
      "end_time": "2021-08-04T12:06:09.665607",
      "environment_variables": {},
      "exception": null,
      "input_path": "__notebook__.ipynb",
      "output_path": "__notebook__.ipynb",
      "parameters": {},
      "start_time": "2021-08-04T11:54:22.995705",
      "version": "2.3.3"
    },
    "colab": {
      "provenance": []
    }
  },
  "nbformat": 4,
  "nbformat_minor": 5
}